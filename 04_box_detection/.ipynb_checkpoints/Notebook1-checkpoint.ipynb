{
 "cells": [
  {
   "cell_type": "markdown",
   "metadata": {},
   "source": [
    "### Assignment"
   ]
  },
  {
   "cell_type": "markdown",
   "metadata": {},
   "source": [
    "(A) Output: Number of rows and columns in an image"
   ]
  },
  {
   "cell_type": "code",
   "execution_count": 57,
   "metadata": {
    "scrolled": true
   },
   "outputs": [
    {
     "name": "stdout",
     "output_type": "stream",
     "text": [
      "Number of rows :  4\n",
      "Number of columns :  8\n"
     ]
    }
   ],
   "source": [
    "import cv2\n",
    "import numpy as np\n",
    "from imutils import *\n",
    "\n",
    "## loading the image, applying a threshold\n",
    "img = cv2.imread(\"images/image4.jpg\",0)\n",
    "(thresh, img_bin) = cv2.threshold(img, 128, 255, cv2.THRESH_BINARY|cv2.THRESH_OTSU)\n",
    "img_bin = 255-img_bin\n",
    "cv2.imwrite(\"images/image_bin1.jpg\",img_bin)\n",
    "\n",
    "## Here we are dividing the kernel length by 80, b/c we are counting rows& cols,\n",
    "## we will increase it while counting number of cells, b/c the number of cells may decrease by col span one etc.\n",
    "kernel_length = np.array(img).shape[1]//80\n",
    "## defining vertical and horizontal kernel\n",
    "vertical_kernel = cv2.getStructuringElement(cv2.MORPH_RECT, (1, kernel_length))\n",
    "hori_kernel = cv2.getStructuringElement(cv2.MORPH_RECT, (kernel_length, 1))\n",
    "\n",
    "## erroding by vertical kernel, so that only vertical lines are left in the image\n",
    "## dilating because the resulting lines are too thin\n",
    "img_temp1 = cv2.erode(img_bin, vertical_kernel, iterations=2)\n",
    "vertical_lines_img = cv2.dilate(img_temp1, vertical_kernel, iterations=3)\n",
    "cv2.imwrite(\"images/vertical_lines.jpg\", vertical_lines_img)\n",
    "\n",
    "img_temp2 = cv2.erode(img_bin, hori_kernel, iterations=3)\n",
    "horizontal_lines_img = cv2.dilate(img_temp2, hori_kernel, iterations=3)\n",
    "cv2.imwrite(\"images/horizontal_lines.jpg\",horizontal_lines_img)\n",
    "\n",
    "## Applying contours function to horizontal lines to count total number of horizontal lines\n",
    "im2, contoursx, hierarchy = cv2.findContours(horizontal_lines_img, cv2.RETR_TREE, cv2.CHAIN_APPROX_SIMPLE)\n",
    "im2, contoursy, hierarchy = cv2.findContours(vertical_lines_img, cv2.RETR_TREE, cv2.CHAIN_APPROX_SIMPLE)\n",
    "\n",
    "horizontal = []\n",
    "horizontal1 = []\n",
    "\n",
    "\n",
    "for a in range(len(contoursx)):\n",
    "    for b in range(len(contoursx[a])):\n",
    "        horizontal.append(contoursx[a][b][0])\n",
    "\n",
    "for a in range(len(horizontal)):\n",
    "    horizontal1.append(horizontal[a][1])\n",
    "    \n",
    "vertical = []\n",
    "vertical1 = []\n",
    "\n",
    "for a in range(len(contoursy)):\n",
    "    for b in range(len(contoursy[a])):\n",
    "        vertical.append(contoursy[a][b][0])\n",
    "\n",
    "for a in range(len(vertical)):\n",
    "    vertical1.append(vertical[a][0])\n",
    "\n",
    "## In case of images with col span one, a line is counted twice, so to only take the unique values of y co-ord\n",
    "Nrows = len(np.unique(horizontal1))-1\n",
    "Ncols = len(np.unique(vertical1))-1\n",
    "    \n",
    "print(\"Number of rows : \",Nrows )\n",
    "print(\"Number of columns : \",Ncols )"
   ]
  },
  {
   "cell_type": "markdown",
   "metadata": {},
   "source": [
    "(B) Output: Number of cells in the grid"
   ]
  },
  {
   "cell_type": "code",
   "execution_count": 58,
   "metadata": {},
   "outputs": [
    {
     "name": "stdout",
     "output_type": "stream",
     "text": [
      "Number of cells:  29\n"
     ]
    }
   ],
   "source": [
    "import cv2\n",
    "import numpy as np\n",
    "from imutils import *\n",
    "\n",
    "img = cv2.imread(\"images/image4.jpg\",0)\n",
    "(thresh, img_bin) = cv2.threshold(img, 128, 255, cv2.THRESH_BINARY|cv2.THRESH_OTSU)\n",
    "img_bin = 255-img_bin\n",
    "cv2.imwrite(\"images/image_bin1.jpg\",img_bin)\n",
    "\n",
    "## kernel length decreased to capture things like col span one\n",
    "kernel_length = np.array(img).shape[1]//320   \n",
    "vertical_kernel = cv2.getStructuringElement(cv2.MORPH_RECT, (1, kernel_length))\n",
    "hori_kernel = cv2.getStructuringElement(cv2.MORPH_RECT, (kernel_length, 1))\n",
    "kernel = cv2.getStructuringElement(cv2.MORPH_RECT, (3,3))\n",
    "\n",
    "img_temp1 = cv2.erode(img_bin, vertical_kernel, iterations=1)\n",
    "vertical_lines_img = cv2.dilate(img_temp1, vertical_kernel, iterations=3)\n",
    "cv2.imwrite(\"images/vertical_lines.jpg\", vertical_lines_img)\n",
    "\n",
    "img_temp2 = cv2.erode(img_bin, hori_kernel, iterations=3)\n",
    "horizontal_lines_img = cv2.dilate(img_temp2, hori_kernel, iterations=3)\n",
    "cv2.imwrite(\"images/horizontal_lines.jpg\",horizontal_lines_img)\n",
    "\n",
    "## defining weighting factors\n",
    "alpha = 0.5\n",
    "beta = 1 - alpha\n",
    "\n",
    "## adding both images, final bin image will be used for contour mapping\n",
    "img_final_bin = cv2.addWeighted(vertical_lines_img, alpha, horizontal_lines_img, beta, 0.0)\n",
    "img_final_bin = cv2.erode(~img_final_bin, kernel, iterations=2)\n",
    "(thresh, img_final_bin) = cv2.threshold(img_final_bin, 128,255, cv2.THRESH_BINARY| cv2.THRESH_OTSU)\n",
    "cv2.imwrite(\"images/img_final_bin.jpg\",img_final_bin)\n",
    "\n",
    "im2, contours, hierarchy = cv2.findContours(img_final_bin, cv2.RETR_TREE, cv2.CHAIN_APPROX_SIMPLE)\n",
    "\n",
    "## drawing contours\n",
    "img = cv2.drawContours(img, contours, -1, (0,255,0), 3)\n",
    "cv2.imwrite(\"images/img.jpg\",img)\n",
    "\n",
    "Ncells = (len(contours)- 2)\n",
    "print(\"Number of cells: \", Ncells)"
   ]
  },
  {
   "cell_type": "markdown",
   "metadata": {},
   "source": [
    "Hough Transform : To tackle rotated grid"
   ]
  },
  {
   "cell_type": "markdown",
   "metadata": {},
   "source": [
    "The following cells contain incomplete work, will update you as soon as it is complete"
   ]
  },
  {
   "cell_type": "markdown",
   "metadata": {},
   "source": [
    "An attempt to deal with rotated grid with **Hough line transform**"
   ]
  },
  {
   "cell_type": "code",
   "execution_count": 56,
   "metadata": {
    "scrolled": true
   },
   "outputs": [
    {
     "name": "stdout",
     "output_type": "stream",
     "text": [
      "None\n"
     ]
    }
   ],
   "source": [
    "\n",
    "# import cv2\n",
    "# import numpy as np\n",
    "\n",
    "# img = cv2.imread('images/houghlines3.jpg')\n",
    "# gray = cv2.imread('images/img_final_bin.jpg',0)\n",
    "# # gray = cv2.cvtColor(img,cv2.COLOR_BGR2GRAY)\n",
    "# edges = cv2.Canny(gray,50,150,apertureSize = 3)\n",
    "\n",
    "# lines = cv2.HoughLines(edges,1,np.pi/180,200)\n",
    "# # for rho,theta in lines[0]:\n",
    "# #     a = np.cos(theta)\n",
    "# #     b = np.sin(theta)\n",
    "# #     x0 = a*rho\n",
    "# #     y0 = b*rho\n",
    "# #     x1 = int(x0 + 1000*(-b))\n",
    "# #     y1 = int(y0 + 1000*(a))\n",
    "# #     x2 = int(x0 - 1000*(-b))\n",
    "# #     y2 = int(y0 - 1000*(a))\n",
    "\n",
    "# #     cv2.line(img,(x1,y1),(x2,y2),(0,0,255),2)\n",
    "\n",
    "# # cv2.imwrite('houghlines3.jpg',img)\n",
    "\n",
    "# print(edges)"
   ]
  },
  {
   "cell_type": "markdown",
   "metadata": {},
   "source": [
    "An attempt to crop each cell so that we can latter perform optical character recognition"
   ]
  },
  {
   "cell_type": "code",
   "execution_count": 4,
   "metadata": {},
   "outputs": [],
   "source": [
    "## (contours, boundingBoxes) = sort_contours(contours, method=\"top-to-bottom\")\n",
    "\n",
    "## idx = 0\n",
    "## for c in contours:\n",
    "##     # Returns the location and width,height for every contour\n",
    "##     x, y, w, h = cv2.boundingRect(c)\n",
    "##     if (w > 80 and h > 20) and w > 3*h:\n",
    "##         idx += 1\n",
    "##         new_img = img[y:y+h, x:x+w]\n",
    "##         cv2.imwrite(cropped_dir_path+str(idx) + '.png', new_img)\n",
    "\n",
    "## # If the box height is greater then 20, widht is >80, then only save it as a box in \"cropped/\" folder.\n",
    "##     if (w > 80 and h > 20) and w > 3*h:\n",
    "##         idx += 1\n",
    "##         new_img = img[y:y+h, x:x+w]\n",
    "##         cv2.imwrite(cropped_dir_path+str(idx) + '.png', new_img)"
   ]
  },
  {
   "cell_type": "code",
   "execution_count": null,
   "metadata": {},
   "outputs": [],
   "source": []
  }
 ],
 "metadata": {
  "kernelspec": {
   "display_name": "Python 3",
   "language": "python",
   "name": "python3"
  },
  "language_info": {
   "codemirror_mode": {
    "name": "ipython",
    "version": 3
   },
   "file_extension": ".py",
   "mimetype": "text/x-python",
   "name": "python",
   "nbconvert_exporter": "python",
   "pygments_lexer": "ipython3",
   "version": "3.6.8"
  }
 },
 "nbformat": 4,
 "nbformat_minor": 2
}
