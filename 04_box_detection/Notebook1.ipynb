{
 "cells": [
  {
   "cell_type": "markdown",
   "metadata": {},
   "source": [
    "### Assignment"
   ]
  },
  {
   "cell_type": "markdown",
   "metadata": {},
   "source": [
    "(A) Output: Number of rows and columns in an image"
   ]
  },
  {
   "cell_type": "code",
   "execution_count": 10,
   "metadata": {
    "scrolled": true
   },
   "outputs": [
    {
     "name": "stdout",
     "output_type": "stream",
     "text": [
      "Number of rows :  3\n",
      "Number of columns :  4\n"
     ]
    }
   ],
   "source": [
    "import cv2\n",
    "import numpy as np\n",
    "from imutils import *\n",
    "\n",
    "img = cv2.imread(\"images/image6.jpg\",0)\n",
    "(thresh, img_bin) = cv2.threshold(img, 128, 255, cv2.THRESH_BINARY|cv2.THRESH_OTSU)\n",
    "img_bin = 255-img_bin\n",
    "cv2.imwrite(\"images/image_bin1.jpg\",img_bin)\n",
    "\n",
    "kernel_length = np.array(img).shape[1]//80\n",
    "vertical_kernel = cv2.getStructuringElement(cv2.MORPH_RECT, (1, kernel_length))\n",
    "hori_kernel = cv2.getStructuringElement(cv2.MORPH_RECT, (kernel_length, 1))\n",
    "kernel = cv2.getStructuringElement(cv2.MORPH_RECT, (3,3))\n",
    "\n",
    "img_temp1 = cv2.erode(img_bin, vertical_kernel, iterations=2)\n",
    "vertical_lines_img = cv2.dilate(img_temp1, vertical_kernel, iterations=3)\n",
    "cv2.imwrite(\"vertical_lines.jpg\", vertical_lines_img)\n",
    "\n",
    "img_temp2 = cv2.erode(img_bin, hori_kernel, iterations=3)\n",
    "horizontal_lines_img = cv2.dilate(img_temp2, hori_kernel, iterations=3)\n",
    "cv2.imwrite(\"horizontal_lines.jpg\",horizontal_lines_img)\n",
    "\n",
    "im2, contoursx, hierarchy = cv2.findContours(horizontal_lines_img, cv2.RETR_TREE, cv2.CHAIN_APPROX_SIMPLE)\n",
    "im2, contoursy, hierarchy = cv2.findContours(vertical_lines_img, cv2.RETR_TREE, cv2.CHAIN_APPROX_SIMPLE)\n",
    "\n",
    "horizontal = []\n",
    "horizontal1 = []\n",
    "\n",
    "for a in range(len(contoursx)):\n",
    "    for b in range(len(contoursx[a])):\n",
    "        horizontal.append(contoursx[a][b][0])\n",
    "\n",
    "for a in range(len(horizontal)):\n",
    "    horizontal1.append(horizontal[a][1])\n",
    "    \n",
    "vertical = []\n",
    "vertical1 = []\n",
    "\n",
    "for a in range(len(contoursy)):\n",
    "    for b in range(len(contoursy[a])):\n",
    "        vertical.append(contoursy[a][b][0])\n",
    "\n",
    "for a in range(len(vertical)):\n",
    "    vertical1.append(vertical[a][0])  \n",
    "    \n",
    "print(\"Number of rows : \",(len(np.unique(horizontal1))-1))\n",
    "print(\"Number of columns : \",(len(np.unique(vertical1))-1))"
   ]
  },
  {
   "cell_type": "markdown",
   "metadata": {},
   "source": [
    "(B) Output: Number of cells in the grid"
   ]
  },
  {
   "cell_type": "code",
   "execution_count": null,
   "metadata": {},
   "outputs": [],
   "source": [
    "import cv2\n",
    "import numpy as np\n",
    "from imutils import *\n",
    "\n",
    "img = cv2.imread(\"images/image6.jpg\",0)\n",
    "(thresh, img_bin) = cv2.threshold(img, 128, 255, cv2.THRESH_BINARY|cv2.THRESH_OTSU)\n",
    "img_bin = 255-img_bin\n",
    "cv2.imwrite(\"images/image_bin1.jpg\",img_bin)\n",
    "\n",
    "kernel_length = np.array(img).shape[1]//80\n",
    "vertical_kernel = cv2.getStructuringElement(cv2.MORPH_RECT, (1, kernel_length))\n",
    "hori_kernel = cv2.getStructuringElement(cv2.MORPH_RECT, (kernel_length, 1))\n",
    "kernel = cv2.getStructuringElement(cv2.MORPH_RECT, (3,3))\n",
    "\n",
    "img_temp1 = cv2.erode(img_bin, vertical_kernel, iterations=2)\n",
    "vertical_lines_img = cv2.dilate(img_temp1, vertical_kernel, iterations=3)\n",
    "cv2.imwrite(\"vertical_lines.jpg\", vertical_lines_img)\n",
    "\n",
    "img_temp2 = cv2.erode(img_bin, hori_kernel, iterations=3)\n",
    "horizontal_lines_img = cv2.dilate(img_temp2, hori_kernel, iterations=3)\n",
    "cv2.imwrite(\"horizontal_lines.jpg\",horizontal_lines_img)\n",
    "\n",
    "im2, contoursx, hierarchy = cv2.findContours(horizontal_lines_img, cv2.RETR_TREE, cv2.CHAIN_APPROX_SIMPLE)\n",
    "im2, contoursy, hierarchy = cv2.findContours(vertical_lines_img, cv2.RETR_TREE, cv2.CHAIN_APPROX_SIMPLE)\n",
    "\n",
    "horizontal = []\n",
    "horizontal1 = []\n",
    "\n",
    "for a in range(len(contoursx)):\n",
    "    for b in range(len(contoursx[a])):\n",
    "        horizontal.append(contoursx[a][b][0])\n",
    "\n",
    "for a in range(len(horizontal)):\n",
    "    horizontal1.append(horizontal[a][1])\n",
    "    \n",
    "vertical = []\n",
    "vertical1 = []\n",
    "\n",
    "for a in range(len(contoursy)):\n",
    "    for b in range(len(contoursy[a])):\n",
    "        vertical.append(contoursy[a][b][0])\n",
    "\n",
    "for a in range(len(vertical)):\n",
    "    vertical1.append(vertical[a][0])  \n",
    "    \n",
    "print(\"Number of rows : \",(len(np.unique(horizontal1))-1))\n",
    "print(\"Number of columns : \",(len(np.unique(vertical1))-1))"
   ]
  },
  {
   "cell_type": "code",
   "execution_count": null,
   "metadata": {},
   "outputs": [],
   "source": []
  },
  {
   "cell_type": "code",
   "execution_count": null,
   "metadata": {},
   "outputs": [],
   "source": []
  },
  {
   "cell_type": "code",
   "execution_count": 7,
   "metadata": {},
   "outputs": [
    {
     "name": "stdout",
     "output_type": "stream",
     "text": [
      "11\n",
      "4\n",
      "44\n",
      "4\n",
      "4\n",
      "4\n",
      "4\n",
      "4\n",
      "4\n",
      "4\n",
      "4\n",
      "4\n"
     ]
    }
   ],
   "source": [
    "# import cv2\n",
    "# import numpy as np\n",
    "# from imutils import *\n",
    "\n",
    "# img = cv2.imread(\"images/image5.jpg\",0)\n",
    "# (thresh, img_bin) = cv2.threshold(img, 128, 255, cv2.THRESH_BINARY|cv2.THRESH_OTSU)\n",
    "# img_bin = 255-img_bin\n",
    "# cv2.imwrite(\"images/image_bin1.jpg\",img_bin)\n",
    "\n",
    "\n",
    "# kernel_length = np.array(img).shape[1]//80\n",
    "# vertical_kernel = cv2.getStructuringElement(cv2.MORPH_RECT, (1, kernel_length))\n",
    "# hori_kernel = cv2.getStructuringElement(cv2.MORPH_RECT, (kernel_length, 1))\n",
    "# kernel = cv2.getStructuringElement(cv2.MORPH_RECT, (3,3))\n",
    "\n",
    "# img_temp1 = cv2.erode(img_bin, vertical_kernel, iterations=2)\n",
    "# vertical_lines_img = cv2.dilate(img_temp1, vertical_kernel, iterations=3)\n",
    "# cv2.imwrite(\"vertical_lines.jpg\", vertical_lines_img)\n",
    "\n",
    "# img_temp2 = cv2.erode(img_bin, hori_kernel, iterations=3)\n",
    "# horizontal_lines_img = cv2.dilate(img_temp2, hori_kernel, iterations=3)\n",
    "# cv2.imwrite(\"horizontal_lines.jpg\",horizontal_lines_img)\n",
    "\n",
    "# alpha = 0.5\n",
    "# beta = 1 - alpha\n",
    "\n",
    "# img_final_bin = cv2.addWeighted(vertical_lines_img, alpha, horizontal_lines_img, beta, 0.0)\n",
    "# img_final_bin = cv2.erode(~img_final_bin, kernel, iterations=2)\n",
    "# (thresh, img_final_bin) = cv2.threshold(img_final_bin, 128,255, cv2.THRESH_BINARY| cv2.THRESH_OTSU)\n",
    "# cv2.imwrite(\"img_final_bin.jpg\",img_final_bin)\n",
    "\n",
    "# im2, contours, hierarchy = cv2.findContours(img_final_bin, cv2.RETR_TREE, cv2.CHAIN_APPROX_SIMPLE)\n",
    "\n",
    "# img = cv2.drawContours(img, contours, 4, (0,255,0), 3)\n",
    "# cv2.imwrite(\"img.jpg\",img)\n",
    "\n",
    "# # len(contours[11][0])\n",
    "# print(len(contours))\n",
    "# # contours[1]\n",
    "# for a in range(len(contours)):\n",
    "#     print(len(contours[a]))\n"
   ]
  },
  {
   "cell_type": "code",
   "execution_count": 4,
   "metadata": {},
   "outputs": [],
   "source": [
    "## (contours, boundingBoxes) = sort_contours(contours, method=\"top-to-bottom\")\n",
    "\n",
    "## idx = 0\n",
    "## for c in contours:\n",
    "##     # Returns the location and width,height for every contour\n",
    "##     x, y, w, h = cv2.boundingRect(c)\n",
    "##     if (w > 80 and h > 20) and w > 3*h:\n",
    "##         idx += 1\n",
    "##         new_img = img[y:y+h, x:x+w]\n",
    "##         cv2.imwrite(cropped_dir_path+str(idx) + '.png', new_img)\n",
    "\n",
    "## # If the box height is greater then 20, widht is >80, then only save it as a box in \"cropped/\" folder.\n",
    "##     if (w > 80 and h > 20) and w > 3*h:\n",
    "##         idx += 1\n",
    "##         new_img = img[y:y+h, x:x+w]\n",
    "##         cv2.imwrite(cropped_dir_path+str(idx) + '.png', new_img)"
   ]
  },
  {
   "cell_type": "code",
   "execution_count": null,
   "metadata": {},
   "outputs": [],
   "source": []
  }
 ],
 "metadata": {
  "kernelspec": {
   "display_name": "Python 3",
   "language": "python",
   "name": "python3"
  },
  "language_info": {
   "codemirror_mode": {
    "name": "ipython",
    "version": 3
   },
   "file_extension": ".py",
   "mimetype": "text/x-python",
   "name": "python",
   "nbconvert_exporter": "python",
   "pygments_lexer": "ipython3",
   "version": "3.6.8"
  }
 },
 "nbformat": 4,
 "nbformat_minor": 2
}
