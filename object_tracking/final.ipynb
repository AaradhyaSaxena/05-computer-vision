{
 "cells": [
  {
   "cell_type": "code",
   "execution_count": 45,
   "metadata": {},
   "outputs": [],
   "source": [
    "import numpy as np\n",
    "import cv2\n",
    "import sys\n",
    "import time\n",
    "from collections import deque"
   ]
  },
  {
   "cell_type": "code",
   "execution_count": 49,
   "metadata": {},
   "outputs": [],
   "source": [
    "# Taking image of background\n",
    "cap = cv2.VideoCapture(0)\n",
    "\n",
    "time.sleep(3)\n",
    "background=0\n",
    "\n",
    "for i in range(30):\n",
    "    ret, background = cap.read()\n",
    "\n",
    "frame_width = int(cap.get(3))\n",
    "frame_height = int(cap.get(4))\n",
    "\n",
    "# VideoWriter object\n",
    "out = cv2.VideoWriter('output1.avi',cv2.VideoWriter_fourcc('M','J','P','G'), 24, (frame_width,frame_height))    \n",
    "\n",
    "background = cv2.flip(background, 1)\n",
    "cap.release()\n",
    "cv2.destroyAllWindows()"
   ]
  },
  {
   "cell_type": "code",
   "execution_count": 50,
   "metadata": {},
   "outputs": [],
   "source": [
    "# lower and upper boundaries of the \"object_color\"\n",
    "color_Lower = (110, 85, 5)   \n",
    "color_Upper = (130,255,255)       \n",
    "pts = deque(maxlen=240)"
   ]
  },
  {
   "cell_type": "code",
   "execution_count": 55,
   "metadata": {},
   "outputs": [],
   "source": [
    "cap = cv2.VideoCapture(0)\n",
    "\n",
    "while(True):\n",
    "    # Frame-by-frame\n",
    "    ret, img = cap.read()\n",
    "    \n",
    "    # Flip the image\n",
    "    img = cv2.flip(img, 1)\n",
    "    \n",
    "    # Blur and BGR to HSV \n",
    "    blurred = cv2.GaussianBlur(img, (11, 11), 0)\n",
    "    hsv = cv2.cvtColor(blurred,cv2.COLOR_BGR2HSV)\n",
    "    \n",
    "    # Range for lower red (color of cloak)\n",
    "    lower_red = np.array([0,150,70])\n",
    "    upper_red = np.array([20,255,255])\n",
    "    mask1 = cv2.inRange(hsv, lower_red, upper_red)\n",
    "    # Range for upper range\n",
    "    lower_red = np.array([160,150,70])\n",
    "    upper_red = np.array([180,255,255])\n",
    "    mask2 = cv2.inRange(hsv,lower_red,upper_red)\n",
    "    \n",
    "    # Final mask to detect red color\n",
    "    mask1 = mask1 + mask2\n",
    "    \n",
    "    mask2 = cv2.bitwise_not(mask1)\n",
    "    mask2 = cv2.erode(mask2, None, iterations=5)\n",
    "    mask2 = cv2.dilate(mask2, None, iterations=5)\n",
    "    \n",
    "    #Segmenting the cloth out of the frame using bitwise_and with the inverted mask\n",
    "    res1 = cv2.bitwise_and(img, img, mask=mask2)\n",
    "    # creating image showing static background frame pixels only for the masked region\n",
    "    res2 = cv2.bitwise_and(background, background, mask = mask1)\n",
    "\n",
    "    # Output with invisibility-cloak\n",
    "    final_output = cv2.addWeighted(res1,1,res2,1,0)\n",
    "    \n",
    "    ### Object-tracking, by color\n",
    "    \n",
    "    mask = cv2.inRange(hsv, color_Lower, color_Upper)\n",
    "    mask = cv2.erode(mask, None, iterations=5)\n",
    "    mask = cv2.dilate(mask, None, iterations=5)\n",
    "    \n",
    "    # Find contours in the mask and initialize the current(x, y) center of the ball\n",
    "    cnts = cv2.findContours(mask.copy(), cv2.RETR_EXTERNAL, cv2.CHAIN_APPROX_SIMPLE)[0]\n",
    "    center = None\n",
    "    \n",
    "    if len(cnts) > 0:\n",
    "        # Find the largest contour in the mask, then use it to compute the minimum enclosing circle and centroid\n",
    "        c = max(cnts, key=cv2.contourArea)\n",
    "        ((x, y), radius) = cv2.minEnclosingCircle(c)\n",
    "        M = cv2.moments(c)\n",
    "        center = (int(M[\"m10\"] / M[\"m00\"]), int(M[\"m01\"] / M[\"m00\"]))\n",
    "        # Only proceed if the radius meets a minimum size\n",
    "        if radius > 50:\n",
    "            # Draw the circle and centroid on the frame,then update the list of tracked points\n",
    "            cv2.circle(final_output, (int(x), int(y)), int(radius), (255, 0, 0), 2)\n",
    "            cv2.circle(final_output, center, 5, (255, 0, 0), -1)\n",
    "    pts.appendleft(center)\n",
    "    \n",
    "    # Loop over the set of tracked points\n",
    "    for i in range(1, len(pts)):\n",
    "        if pts[i - 1] is None or pts[i] is None:\n",
    "            continue\n",
    "        cv2.line(final_output, pts[i - 1], pts[i], (255, 0, 0), 3)\n",
    "    \n",
    "    # Final Output\n",
    "    out.write(final_output)\n",
    "    cv2.imshow(\"Final\", final_output)\n",
    "    \n",
    "    if cv2.waitKey(1) & 0xFF == ord('q'):\n",
    "        break\n",
    "\n",
    "cap.release()\n",
    "cv2.destroyAllWindows()"
   ]
  },
  {
   "cell_type": "code",
   "execution_count": 53,
   "metadata": {},
   "outputs": [],
   "source": [
    "cap.release()\n",
    "cv2.destroyAllWindows()"
   ]
  },
  {
   "cell_type": "markdown",
   "metadata": {},
   "source": [
    "------------------------------------------------------------"
   ]
  }
 ],
 "metadata": {
  "kernelspec": {
   "display_name": "Python 3",
   "language": "python",
   "name": "python3"
  },
  "language_info": {
   "codemirror_mode": {
    "name": "ipython",
    "version": 3
   },
   "file_extension": ".py",
   "mimetype": "text/x-python",
   "name": "python",
   "nbconvert_exporter": "python",
   "pygments_lexer": "ipython3",
   "version": "3.7.3"
  }
 },
 "nbformat": 4,
 "nbformat_minor": 2
}
