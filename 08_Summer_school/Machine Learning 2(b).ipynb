{
 "cells": [
  {
   "cell_type": "markdown",
   "metadata": {},
   "source": [
    "<center> <h1 style=\"color:purple\"> Sixth Summer School on Computer Vision, Graphics and Image Processing </h1> </center>\n",
    "\n",
    "<center> <h2> Machine Learning Algorithms Session 2 (b) </h2> </center>\n",
    "\n",
    "---\n",
    "\n",
    "<center> <h3> Avisek Gupta (avisek003@gmail.com) </h3> </center>\n",
    "\n",
    "<center> <h3> Electronics and Communication Sciences Unit </h3> </center>\n",
    "\n",
    "<center> <h3> June 04, 2019 </h3> </center>\n",
    "\n",
    "---\n",
    "\n",
    "---\n",
    "\n",
    "---\n"
   ]
  },
  {
   "cell_type": "markdown",
   "metadata": {},
   "source": [
    "<h3> Supervised Learning </h3>\n",
    "\n",
    "<ul>\n",
    "    <li> <h3> Classification: Learn to predict a class / category </h3>\n",
    "    <li> <h3> Regression: Learn to predict a target real value </h3>\n",
    "</ul>\n",
    "\n",
    "---\n"
   ]
  },
  {
   "cell_type": "markdown",
   "metadata": {},
   "source": [
    "<h3> Linear Regression: </h3>\n",
    "\n",
    "<h3> Find the line that <u>best fits</u> the given data </h3>"
   ]
  },
  {
   "cell_type": "code",
   "execution_count": 6,
   "metadata": {},
   "outputs": [
    {
     "data": {
      "image/png": "[encoded data removed]",
      "text/plain": [
       "<Figure size 432x288 with 1 Axes>"
      ]
     },
     "metadata": {
      "needs_background": "light"
     },
     "output_type": "display_data"
    }
   ],
   "source": [
    "import numpy as np\n",
    "import matplotlib.pyplot as plt\n",
    "\n",
    "\n",
    "data = np.array([\n",
    "    [0.20, 0.30], [0.32, 0.23], [0.39, 0.35], [0.46, 0.42], \n",
    "    [0.51, 0.39], [0.60, 0.47], [0.64, 0.51], [0.75, 0.46]\n",
    "])\n",
    "\n",
    "\n",
    "plt.figure()\n",
    "plt.scatter(data[:,0], data[:,1], marker='o', c='C0')\n",
    "plt.plot([0.1, 0.9], [0.174251 + 0.1*0.448577, 0.174251 + 0.9*0.448577], c='C1', linestyle=':', linewidth=1)\n",
    "plt.show()\n"
   ]
  },
  {
   "cell_type": "markdown",
   "metadata": {},
   "source": [
    "<h3> Linear Regression: </h3>\n",
    "\n",
    "<h3> 1. Regression <u>Model</u>: A straight line $y = w_0 + w_1 x $ .</h3>\n",
    "\n",
    "<h3> 2. <u>Learning</u>: Given a regression model, estimate the parameters ($w_0, w_1$) of the model.\n",
    "\n",
    "<h3> 3. <u>Cost Function</u>: </h3>\n",
    "\n",
    "<ul>\n",
    "    <li> <h3> Measures how \"bad\" the model is.</h3>\n",
    "    <li> <h3> Used to guide the selection of better model parameters. </h3>\n",
    "</ul>\n"
   ]
  },
  {
   "cell_type": "markdown",
   "metadata": {},
   "source": [
    "\n",
    "---\n",
    "\n",
    "<h3> Example of a Cost Function: </h3>\n",
    "\n",
    "<h3> Mean Squared Error (MSE) = $\\frac{1}{n} \\sum_{i=1}^{n} (y_i - (w_0 + w_1 x_i))^2$ </h3>\n"
   ]
  },
  {
   "cell_type": "code",
   "execution_count": 7,
   "metadata": {},
   "outputs": [
    {
     "name": "stdout",
     "output_type": "stream",
     "text": [
      "MSE = 0.12798063584530492\n"
     ]
    },
    {
     "data": {
      "image/png": "[encoded data removed]",
      "text/plain": [
       "<Figure size 432x288 with 1 Axes>"
      ]
     },
     "metadata": {
      "needs_background": "light"
     },
     "output_type": "display_data"
    }
   ],
   "source": [
    "import numpy as np\n",
    "import matplotlib.pyplot as plt\n",
    "\n",
    "\n",
    "data = np.array([\n",
    "    [0.20, 0.30], [0.32, 0.23], [0.39, 0.35], [0.46, 0.42], \n",
    "    [0.51, 0.39], [0.60, 0.47], [0.64, 0.51], [0.75, 0.46]\n",
    "])\n",
    "x = data[:,0]\n",
    "y = data[:,1]\n",
    "\n",
    "\n",
    "random_w = np.random.rand(2)\n",
    "\n",
    "mse = np.mean((y - (random_w[0] + random_w[1] * x)) ** 2)\n",
    "print('MSE =', mse)\n",
    "\n",
    "\n",
    "plt.figure()\n",
    "plt.scatter(data[:,0], data[:,1], marker='o', c='C0')\n",
    "plt.plot([0.1, 0.9], [random_w[0] + 0.1*random_w[1], random_w[0] + 0.9*random_w[1]], c='C1')\n",
    "plt.show()\n"
   ]
  },
  {
   "cell_type": "markdown",
   "metadata": {},
   "source": [
    "\n",
    "---\n",
    "\n",
    "<h3> Linear Regression: </h3>\n",
    "\n",
    "<h3> 1. Regression <u>Model</u>: A straight line $y = w_0 + w_1 x $ .</h3>\n",
    "\n",
    "<h3> 2. <u>Learning</u>: Given a regression model, estimate the parameters ($w_0, w_1$) of the model.\n",
    "\n",
    "<h3> 3. <u>Cost Function</u>: </h3>\n",
    "\n",
    "<ul>\n",
    "    <li> <h3> Measures how \"bad\" the model is.</h3>\n",
    "    <li> <h3> Used to guide the selection of better model parameters. </h3>\n",
    "</ul>\n",
    "\n",
    "<h3> 4. <u>Optimization Algorithm</u>: </h3>\n",
    "\n",
    "<ul>\n",
    "    <li> <h3> Estimates the model parameters by trying to reduce the cost function.</h3>\n",
    "    <li> <h3> There can be many possible ways to optimize the same cost function. </h3>\n",
    "</ul>\n"
   ]
  },
  {
   "cell_type": "markdown",
   "metadata": {},
   "source": [
    "\n",
    "---\n",
    "\n",
    "<h3> Example of an Optimization Algorithm: Gradient Descent </h3>\n",
    "\n",
    "<h3> Gradient Descent to optimize a function $f(w)$: </h3>\n",
    "\n",
    "<h3> 1. Pick a random initital point $w_0$ </h3>\n",
    "<h3> 2. Loop till convergence: $w_{i+1} := w_{i} - \\alpha \\nabla f(w_{i})$ </h3>\n",
    "\n",
    "<h3> ($\\alpha$: Step size) </h3>\n",
    "\n",
    "<img src=\"grad_desc.png\" width=500>\n",
    "<p>Source: https://rasbt.github.io/mlxtend/user_guide/general_concepts/gradient-optimization/</p>\n"
   ]
  },
  {
   "cell_type": "markdown",
   "metadata": {},
   "source": [
    "\n",
    "---\n",
    "\n",
    "<h3> Example: Gradient Descent of a simple function $f(w) = w^2+4$ </h3>\n",
    "\n",
    "<h3> Conjugate Gradient Descent: Automatically selects an appropriate step size </h3>"
   ]
  },
  {
   "cell_type": "code",
   "execution_count": 8,
   "metadata": {},
   "outputs": [
    {
     "name": "stdout",
     "output_type": "stream",
     "text": [
      "Initial Guess = 7.428005342989138\n",
      "     fun: 4.000000000000001\n",
      "     jac: array([4.75590613e-08])\n",
      " message: 'Optimization terminated successfully.'\n",
      "    nfev: 7\n",
      "     nit: 3\n",
      "    njev: 7\n",
      "  status: 0\n",
      " success: True\n",
      "       x: array([2.37795307e-08])\n",
      "---------------------\n",
      "Solution = [2.37795307e-08]\n",
      "Objective Function Value = 4.000000000000001\n"
     ]
    },
    {
     "data": {
      "image/png": "[encoded data removed]",
      "text/plain": [
       "<Figure size 540x360 with 1 Axes>"
      ]
     },
     "metadata": {
      "needs_background": "light"
     },
     "output_type": "display_data"
    }
   ],
   "source": [
    "import numpy as np\n",
    "import matplotlib.pyplot as plt\n",
    "from scipy.optimize import minimize\n",
    "\n",
    "\n",
    "def fun1(w):\n",
    "    return (w ** 2) + 4\n",
    "\n",
    "def grad_fun1(w):\n",
    "    return 2 * w\n",
    "\n",
    "\n",
    "w0 = (np.random.rand() * 20) - 10\n",
    "print('Initial Guess =', w0)\n",
    "\n",
    "res = minimize(fun=fun1, jac=grad_fun1, x0=w0, method='CG')\n",
    "\n",
    "\n",
    "print(res)\n",
    "print('---------------------')\n",
    "print('Solution =', res.x)\n",
    "print('Objective Function Value =', res.fun)\n",
    "\n",
    "\n",
    "plt.figure(dpi=90)\n",
    "x = np.linspace(-10, 10, 100)\n",
    "plt.plot(x, fun1(x), c='gray')\n",
    "plt.scatter(w0, fun1(w0), c='y', marker='o', s=60)\n",
    "plt.scatter(res.x, res.fun, c='r', marker='x', s=80)\n",
    "plt.show()"
   ]
  },
  {
   "cell_type": "markdown",
   "metadata": {},
   "source": [
    "\n",
    "---\n",
    "\n",
    "<h3> Linear Regression: </h3>\n",
    "\n",
    "<h3> 1. Regression <u>Model</u>: A straight line $y = w_0 + w_1 x $ .</h3>\n",
    "\n",
    "<h3> 2. <u>Learning</u>: Given a regression model, estimate the parameters ($w_0, w_1$) of the model.\n",
    "\n",
    "<h3> 3. <u>Cost Function</u>: MSE </h3>\n",
    "\n",
    "<h3> 4. <u>Optimization Algorithm</u>: Gradient Descent</h3>\n"
   ]
  },
  {
   "cell_type": "code",
   "execution_count": 37,
   "metadata": {},
   "outputs": [
    {
     "name": "stdout",
     "output_type": "stream",
     "text": [
      "Initial Guess w0 = [0.55798604 0.06136913]\n",
      "MSE at w0 = 0.04486788747812376\n",
      "Final w = [0.55798604 0.06136913]\n",
      "Final MSE = 0.04486788747812376\n"
     ]
    },
    {
     "data": {
      "image/png": "[encoded data removed]",
      "text/plain": [
       "<Figure size 432x288 with 1 Axes>"
      ]
     },
     "metadata": {
      "needs_background": "light"
     },
     "output_type": "display_data"
    }
   ],
   "source": [
    "import numpy as np\n",
    "import matplotlib.pyplot as plt\n",
    "\n",
    "\n",
    "data = np.array([\n",
    "    [0.20, 0.30], [0.32, 0.23], [0.39, 0.35], [0.46, 0.42], \n",
    "    [0.51, 0.39], [0.60, 0.47], [0.64, 0.51], [0.75, 0.46]\n",
    "])\n",
    "X = np.hstack((np.ones((data.shape[0], 1)), np.reshape(data[:,0], (data.shape[0], 1))))\n",
    "y = data[:,1]\n",
    "\n",
    "\n",
    "def mse(w):\n",
    "    # Implement MSE\n",
    "    return np.mean((y - X@w)**2)\n",
    "\n",
    "def grad_mse(w):\n",
    "    # Implement the gradient of MSE\n",
    "#     return 2*np.mean((y - X@w)@X)\n",
    "    return 2*np.mean(np.reshape((y - X@w),(X.shape[0],1))*X,axis=0)\n",
    "\n",
    "w0 = np.random.rand(X.shape[1])\n",
    "print('Initial Guess w0 =', w0)\n",
    "print('MSE at w0 =', mse(w0))\n",
    "# Gradient Descent to get w1 and w0\n",
    "res = minimize(fun=mse, jac=grad_mse, x0=w0, method='CG')\n",
    "\n",
    "w = res.x\n",
    "print('Final w =', w)\n",
    "print('Final MSE =', mse(w))\n",
    "plt.figure()\n",
    "plt.scatter(data[:,0], data[:,1], marker='o', c='gray')\n",
    "plt.plot(\n",
    "    np.array([data[:,0].min()-0.2,data[:,0].max()+0.2]), \n",
    "    w[1] * np.array([data[:,0].min()-0.2,data[:,0].max()+0.2]) + w[0], c='r'\n",
    ")\n",
    "plt.show()"
   ]
  },
  {
   "cell_type": "markdown",
   "metadata": {},
   "source": [
    "\n",
    "---\n",
    "\n",
    "---\n",
    "\n",
    "<h2> How Model Complexity affects Generalization Error </h2>\n"
   ]
  },
  {
   "cell_type": "markdown",
   "metadata": {},
   "source": [
    "\n",
    "---\n",
    "\n",
    "<h3> Regression Example: Polynomial Regression </h3>\n",
    "\n",
    "<h3> Regression Model: A degree <i>'d'</i> polynomial curve $y = w_0 + w_1 x + w_2 x^2 + ... + w_d x^d$ </h3>\n",
    "\n",
    "---\n"
   ]
  },
  {
   "cell_type": "markdown",
   "metadata": {},
   "source": [
    "<h3> Degree-2 Polynomial Regression </h3>\n"
   ]
  },
  {
   "cell_type": "code",
   "execution_count": 39,
   "metadata": {},
   "outputs": [
    {
     "name": "stdout",
     "output_type": "stream",
     "text": [
      "Final w = [ 0.13015947  0.66069144 -0.22310993]\n",
      "Final MSE = 0.0020054996464536454\n"
     ]
    },
    {
     "data": {
      "image/png": "[encoded data removed]",
      "text/plain": [
       "<Figure size 432x288 with 1 Axes>"
      ]
     },
     "metadata": {
      "needs_background": "light"
     },
     "output_type": "display_data"
    }
   ],
   "source": [
    "import numpy as np\n",
    "import matplotlib.pyplot as plt\n",
    "\n",
    "\n",
    "data = np.array([ [0.20, 0.30], [0.32, 0.23], [0.39, 0.35], [0.46, 0.42], \n",
    "    [0.51, 0.39], [0.60, 0.47], [0.64, 0.51], [0.75, 0.46] ])\n",
    "x = np.reshape(data[:,0], (data.shape[0], 1))\n",
    "X = np.hstack((x, x ** 2))\n",
    "y = data[:,1]\n",
    "\n",
    "\n",
    "from sklearn import linear_model\n",
    "reg = linear_model.LinearRegression().fit(X, y)\n",
    "w = np.hstack(([reg.intercept_], reg.coef_))\n",
    "\n",
    "\n",
    "X = np.hstack((np.ones((data.shape[0], 1)), X))\n",
    "print('Final w =', w)\n",
    "print('Final MSE =', mse(w))\n",
    "plt.figure()\n",
    "plt.scatter(X[:,1], y, marker='o', c='gray')\n",
    "plt.plot(X[:,1], np.dot(X, w), c='r')\n",
    "plt.show()\n"
   ]
  },
  {
   "cell_type": "markdown",
   "metadata": {},
   "source": [
    "<h3> Degree-4 Polynomial Regression </h3>\n"
   ]
  },
  {
   "cell_type": "code",
   "execution_count": 40,
   "metadata": {},
   "outputs": [
    {
     "name": "stdout",
     "output_type": "stream",
     "text": [
      "Final w = [  1.49762761 -11.97854825  38.76986039 -48.85488009  21.34314688]\n",
      "Final MSE = 0.0006777706737177815\n"
     ]
    },
    {
     "data": {
      "image/png": "[encoded data removed]",
      "text/plain": [
       "<Figure size 432x288 with 1 Axes>"
      ]
     },
     "metadata": {
      "needs_background": "light"
     },
     "output_type": "display_data"
    }
   ],
   "source": [
    "import numpy as np\n",
    "import matplotlib.pyplot as plt\n",
    "\n",
    "\n",
    "data = np.array([ [0.20, 0.30], [0.32, 0.23], [0.39, 0.35], [0.46, 0.42], \n",
    "    [0.51, 0.39], [0.60, 0.47], [0.64, 0.51], [0.75, 0.46] ])\n",
    "x = np.reshape(data[:,0], (data.shape[0], 1))\n",
    "X = np.hstack((x, x ** 2, x ** 3, x ** 4))\n",
    "y = data[:,1]\n",
    "\n",
    "\n",
    "from sklearn import linear_model\n",
    "reg = linear_model.LinearRegression().fit(X, y)\n",
    "w = np.hstack(([reg.intercept_], reg.coef_))\n",
    "\n",
    "\n",
    "X = np.hstack((np.ones((data.shape[0], 1)), X))\n",
    "print('Final w =', w)\n",
    "print('Final MSE =', mse(w))\n",
    "plt.figure()\n",
    "plt.scatter(X[:,1], y, marker='o', c='gray')\n",
    "plt.plot(X[:,1], np.dot(X, w), c='r')\n",
    "plt.show()\n"
   ]
  },
  {
   "cell_type": "markdown",
   "metadata": {},
   "source": [
    "<h3> Degree-7 Polynomial Regression </h3>\n"
   ]
  },
  {
   "cell_type": "code",
   "execution_count": 41,
   "metadata": {},
   "outputs": [
    {
     "name": "stdout",
     "output_type": "stream",
     "text": [
      "Final w = [-1.46792943e+02  2.59466196e+03 -1.88432721e+04  7.32810003e+04\n",
      " -1.65354856e+05  2.17150048e+05 -1.54086738e+05  4.56825909e+04]\n",
      "Final MSE = 3.9294836087641127e-23\n"
     ]
    },
    {
     "data": {
      "image/png": "[encoded data removed]",
      "text/plain": [
       "<Figure size 432x288 with 1 Axes>"
      ]
     },
     "metadata": {
      "needs_background": "light"
     },
     "output_type": "display_data"
    }
   ],
   "source": [
    "import numpy as np\n",
    "import matplotlib.pyplot as plt\n",
    "\n",
    "\n",
    "data = np.array([ [0.20, 0.30], [0.32, 0.23], [0.39, 0.35], [0.46, 0.42], \n",
    "    [0.51, 0.39], [0.60, 0.47], [0.64, 0.51], [0.75, 0.46] ])\n",
    "x = np.reshape(data[:,0], (data.shape[0], 1))\n",
    "X = np.hstack((x, x ** 2, x ** 3, x ** 4, x ** 5, x ** 6, x ** 7))\n",
    "y = data[:,1]\n",
    "\n",
    "\n",
    "from sklearn import linear_model\n",
    "reg = linear_model.LinearRegression().fit(X, y)\n",
    "w = np.hstack(([reg.intercept_], reg.coef_))\n",
    "\n",
    "\n",
    "X = np.hstack((np.ones((data.shape[0], 1)), X))\n",
    "print('Final w =', w)\n",
    "print('Final MSE =', mse(w))\n",
    "plt.figure()\n",
    "plt.scatter(X[:,1], y, marker='o', c='gray')\n",
    "plt.plot(X[:,1], np.dot(X, w), c='r')\n",
    "plt.show()\n"
   ]
  },
  {
   "cell_type": "markdown",
   "metadata": {},
   "source": [
    "\n",
    "---\n",
    "\n",
    "<h2> Relation between Model Complexity and Generalization Error </h2>\n",
    "\n",
    "---\n",
    "\n",
    "<h3> Higher Model Complexity -> Higher Chances of \"Overfitting\" the data -> High Generalization Error </h3>\n",
    "\n",
    "<h3> Lower Model Complexity -> Higher Chances of \"Underfitting\" the data -> High Generalization Error </h3>\n",
    "\n",
    "---\n",
    "\n",
    "<h3> How can we find the <u>ideal</u> model complexity? </h3>\n",
    "\n",
    "---\n",
    "\n",
    "<img src=\"train-valid-test.jpg\" width=500>\n",
    "\n",
    "<p style=\"text-align:center\"> Source: https://rpubs.com/charlydethibault/348566 </p>\n",
    "\n",
    "<h3> Divide a data set into three parts. Each part serves different purposes:\n",
    "\n",
    "<h3> 1. Use Training Data to estimate model parameters.\n",
    "\n",
    "<h3> 2. Use Validation Data to select model complexity.\n",
    "\n",
    "<h3> 3. Use Test Data to estimate Generalization Error.\n",
    "\n",
    "---\n",
    "\n",
    "---\n"
   ]
  },
  {
   "cell_type": "markdown",
   "metadata": {},
   "source": [
    "\n",
    "---\n",
    "\n",
    "<h3> Logistic Regression: </h3>\n",
    "\n",
    "<h3> Draw a line <u>between</u> two classes of points. </h3>\n",
    "\n",
    "---\n"
   ]
  },
  {
   "cell_type": "markdown",
   "metadata": {},
   "source": [
    "Let there be two classes: $Y \\in \\{0,+1\\}$\n",
    "\n",
    "\n",
    "<h3> Logistic Function: </h3>\n",
    "\n",
    "<h3> $g(x) = \\dfrac{1}{1+e^{−w^T x}}$ </h3>\n",
    "\n",
    "<img src=\"logistic-fn.png\" width=350>\n",
    "\n",
    "<p style=\"text-align:center\"> Source: https://guide.freecodecamp.org/machine-learning/logistic-regression/ </p>\n",
    "\n",
    "---\n",
    "\n",
    "<h3> 1. For points on a line: $w^Tx = 0$, and therefore $g(x) = 0.5$</h3>\n",
    "\n",
    "<h3> 2. For points on one side of a line: $w^Tx < 0$, and therefore $g(x) \\rightarrow 0$</h3>\n",
    "\n",
    "<h3> 3. For points on one side of a line: $w^Tx > 0$, and therefore $g(x) \\rightarrow 1$</h3>\n",
    "\n",
    "---\n"
   ]
  },
  {
   "cell_type": "markdown",
   "metadata": {},
   "source": [
    "\n",
    "<h3> 1. Logistic Regression Model: A decision boundary $y = g(x) = \\dfrac{1}{1+e^{−w^T x}} $ .</h3>\n",
    "\n",
    "<h3> 2. <u>Learning</u>: Estimate the model parameters $w$.\n",
    "\n",
    "<h3> 3. <u>Cost Function</u>: Cross Entropy </h3>\n",
    "\n",
    "<h3> $ CE(w) = - \\frac{1}{n} \\sum_{i=1}^{n} \\left\\{ y_i \\log g(x_i) + (1 − y_i) \\log (1 - g(x_i)) \\right\\}$, </h3>\n",
    "\n",
    "<h4> [ The gradient of the objective function is: $\\nabla CE(w) =  -\\frac{1}{n} \\sum_{i=1}^{n} (y_i - g(x_i)) x_i$ ] </h4>\n",
    "\n",
    "<h3> 4. <u>Optimization Algorithm</u>: Gradient Descent</h3>\n",
    "\n",
    "\n",
    "---\n"
   ]
  },
  {
   "cell_type": "markdown",
   "metadata": {},
   "source": [
    "\n",
    "<h3> Implementing Logistic Regression: </h3>\n",
    "    "
   ]
  },
  {
   "cell_type": "code",
   "execution_count": 42,
   "metadata": {},
   "outputs": [
    {
     "name": "stdout",
     "output_type": "stream",
     "text": [
      "Initial Guess = [ 0.25931365 -0.949849   -0.94844938]\n",
      "Initial Obj Fun val = -0.4015148539268456\n"
     ]
    },
    {
     "data": {
      "image/png": "[encoded data removed]",
      "text/plain": [
       "<Figure size 432x288 with 1 Axes>"
      ]
     },
     "metadata": {
      "needs_background": "light"
     },
     "output_type": "display_data"
    },
    {
     "name": "stdout",
     "output_type": "stream",
     "text": [
      "Final w = [ 0.25931365 -0.949849   -0.94844938]\n",
      "Obj Fun val = -0.4015148539268456\n"
     ]
    },
    {
     "data": {
      "image/png": "[encoded data removed]",
      "text/plain": [
       "<Figure size 432x288 with 1 Axes>"
      ]
     },
     "metadata": {
      "needs_background": "light"
     },
     "output_type": "display_data"
    }
   ],
   "source": [
    "\n",
    "a1 = np.random.uniform(low=0, high=0.5, size=(100,2))\n",
    "a2 = np.random.uniform(low=0.5, high=1, size=(100,2))\n",
    "X = np.hstack((np.ones((200,1)), np.vstack((a1, a2))))\n",
    "y = np.hstack(( np.zeros((100)), np.ones((100)) ))\n",
    "\n",
    "\n",
    "def obj_fun(w):\n",
    "    gx = 1 / (1 + np.exp(-np.dot(X, w)))\n",
    "    # Implement Cross-Entropy\n",
    "    return - np.mean((y* np.fmax(gx, 1e-9)) + ((1-y)* np.fmax((1-gx), 1e-9)))\n",
    "\n",
    "def obj_grad(w):\n",
    "    gx = 1 / (1 + np.exp(-np.dot(X, w)))\n",
    "    # Implement the gradient of Cross-Entropy\n",
    "    return np.mean(np.reshape((y-gx),(X.shape[0],1))*X,axis=0)\n",
    "\n",
    "w0 = np.random.rand(X.shape[1]) * 2 - 1\n",
    "\n",
    "res = minimize(fun=obj_fun, jac=obj_grad, x0=w0, method='CG')\n",
    "\n",
    "\n",
    "print('Initial Guess =', w0)\n",
    "print('Initial Obj Fun val =', obj_fun(w0))\n",
    "plt.figure()\n",
    "for i in range(2):\n",
    "    plt.scatter(X[y==i,1], X[y==i,2], marker='x')\n",
    "extreme_xvals = np.array([np.min(X[:,1]), np.max(X[:,1])])\n",
    "plt.plot(extreme_xvals, (-w0[0] - w0[1] * extreme_xvals) / w0[2], c='r')\n",
    "plt.show()\n",
    "plt.figure()\n",
    "for i in range(2):\n",
    "    plt.scatter(X[y==i,1], X[y==i,2], marker='x')\n",
    "final_w = res.x\n",
    "print('Final w =', final_w)\n",
    "print('Obj Fun val =', obj_fun(final_w))\n",
    "plt.plot(extreme_xvals, (-final_w[0] - final_w[1] * extreme_xvals) / final_w[2], c='r')\n",
    "plt.ylim(extreme_xvals+np.array([-0.05, 0.05]))\n",
    "plt.show()"
   ]
  },
  {
   "cell_type": "markdown",
   "metadata": {},
   "source": [
    "\n",
    "---\n",
    "\n",
    "<h3> Application of Logistic Regression: Binary Classification of Handwritten '0's and '1's </h3>\n",
    "\n",
    "---\n"
   ]
  },
  {
   "cell_type": "code",
   "execution_count": 66,
   "metadata": {
    "scrolled": false
   },
   "outputs": [
    {
     "name": "stdout",
     "output_type": "stream",
     "text": [
      "Accuracy = 1.0\n"
     ]
    },
    {
     "data": {
      "image/png": "[encoded data removed]",
      "text/plain": [
       "<Figure size 300x200 with 1 Axes>"
      ]
     },
     "metadata": {},
     "output_type": "display_data"
    },
    {
     "data": {
      "image/png": "[encoded data removed]",
      "text/plain": [
       "<Figure size 300x200 with 1 Axes>"
      ]
     },
     "metadata": {},
     "output_type": "display_data"
    },
    {
     "data": {
      "image/png": "[encoded data removed]",
      "text/plain": [
       "<Figure size 300x200 with 1 Axes>"
      ]
     },
     "metadata": {},
     "output_type": "display_data"
    },
    {
     "data": {
      "image/png": "[encoded data removed]",
      "text/plain": [
       "<Figure size 300x200 with 1 Axes>"
      ]
     },
     "metadata": {},
     "output_type": "display_data"
    },
    {
     "data": {
      "image/png": "[encoded data removed]",
      "text/plain": [
       "<Figure size 300x200 with 1 Axes>"
      ]
     },
     "metadata": {},
     "output_type": "display_data"
    }
   ],
   "source": [
    "from sklearn.datasets import load_digits\n",
    "X, y = load_digits().data, load_digits().target\n",
    "X = X[y<2,:]\n",
    "y = y[y<2]\n",
    "X = np.hstack((np.ones((X.shape[0],1)), X))\n",
    "from sklearn.model_selection import train_test_split\n",
    "X_train, X_test, y_train, y_test = train_test_split(X, y, test_size=0.1)\n",
    "\n",
    "\n",
    "def obj_fun(w, X, y):\n",
    "    gx = 1 / (1 + np.exp(-np.dot(X, w)))\n",
    "    return -np.mean(y * np.log(np.fmax(gx, 1e-6)) + (1 - y) * np.log(np.fmax(1 - gx, 1e-6)))\n",
    "\n",
    "def obj_grad(w, X, y):\n",
    "    gx = 1 / (1 + np.exp(-np.dot(X, w)))\n",
    "    return -np.mean(np.reshape(y - gx, (y.shape[0],1)) * X, axis=0)\n",
    "\n",
    "\n",
    "min_cost = +np.inf\n",
    "for i in range(10):\n",
    "    w0 = (np.random.rand(X.shape[1]) * 2) - 1\n",
    "    res = minimize(fun=obj_fun, jac=obj_grad, args=(X_train, y_train), x0=w0, method='CG')\n",
    "    if res.fun < min_cost:\n",
    "        min_w = res.x\n",
    "        min_cost = res.fun\n",
    "\n",
    "\n",
    "from sklearn.metrics import accuracy_score\n",
    "print('Accuracy =', \n",
    "      accuracy_score(y_test, np.round(1 / (1 + np.exp(-np.dot(X_test, min_w)))))\n",
    ")\n",
    "for i in range(5):\n",
    "    plt.figure(dpi=50)\n",
    "    plt.imshow(np.reshape(X_test[i,1:], (8,8)), cmap='gray')\n",
    "    plt.xlabel(\n",
    "        'Predicted Digit: '+str(int(np.round(1 / (1 + np.exp(-np.dot(X_test[i,:], min_w)))))),\n",
    "    fontsize=24)\n",
    "    plt.xticks([], [])\n",
    "    plt.yticks([], [])\n",
    "    plt.show()\n"
   ]
  },
  {
   "cell_type": "markdown",
   "metadata": {},
   "source": [
    "<h2 style=\"color:maroon\"> References: </h2>\n",
    "\n",
    "<h3> <a src=\"https://docs.scipy.org/doc/scipy/reference/optimize.html\"> scipy.optimize Documentation </a> </h3>\n",
    "\n",
    "<h3> <a src=\"https://scikit-learn.org/stable/user_guide.html\"> Scikit Learn User Guide </a> </h3>\n"
   ]
  }
 ],
 "metadata": {
  "kernelspec": {
   "display_name": "Python 3",
   "language": "python",
   "name": "python3"
  },
  "language_info": {
   "codemirror_mode": {
    "name": "ipython",
    "version": 3
   },
   "file_extension": ".py",
   "mimetype": "text/x-python",
   "name": "python",
   "nbconvert_exporter": "python",
   "pygments_lexer": "ipython3",
   "version": "3.6.8"
  }
 },
 "nbformat": 4,
 "nbformat_minor": 2
}
