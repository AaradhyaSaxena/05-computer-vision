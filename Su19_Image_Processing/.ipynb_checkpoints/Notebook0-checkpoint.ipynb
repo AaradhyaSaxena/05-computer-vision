{
 "cells": [
  {
   "cell_type": "code",
   "execution_count": 1,
   "metadata": {},
   "outputs": [],
   "source": [
    "import numpy as np\n",
    "from matplotlib import pyplot as plt\n",
    "import cv2\n",
    "import glob\n",
    "\n",
    "import math\n",
    "from scipy import linalg\n",
    "from numpy.linalg import inv\n",
    "from sklearn import linear_model, datasets\n",
    "from function import *"
   ]
  },
  {
   "cell_type": "code",
   "execution_count": 2,
   "metadata": {
    "scrolled": false
   },
   "outputs": [
    {
     "data": {
      "text/plain": [
       "array([[ 2.35641141e+01, -1.13180327e-01,  1.07795469e+02],\n",
       "       [ 1.24120961e-01,  2.34434472e+01,  8.29785775e+01],\n",
       "       [ 2.21177243e-17, -6.93889390e-17,  1.00000000e+00]])"
      ]
     },
     "execution_count": 2,
     "metadata": {},
     "output_type": "execute_result"
    }
   ],
   "source": [
    "img_p = return_imagepoints()\n",
    "obj_p = return_objpoints()\n",
    "\n",
    "p = projection_matrix_direct(img_p,obj_p)\n",
    "p"
   ]
  },
  {
   "cell_type": "code",
   "execution_count": 3,
   "metadata": {},
   "outputs": [
    {
     "data": {
      "text/plain": [
       "array([[ 2.32708135e+01, -6.48353739e-02,  1.08385471e+02],\n",
       "       [-1.23646156e-02,  2.33727681e+01,  8.37870163e+01],\n",
       "       [-5.46339618e-04,  1.40990039e-04,  1.00000000e+00]])"
      ]
     },
     "execution_count": 3,
     "metadata": {},
     "output_type": "execute_result"
    }
   ],
   "source": [
    "p = projection_matrix(img_p,obj_p)\n",
    "p"
   ]
  },
  {
   "cell_type": "code",
   "execution_count": 8,
   "metadata": {},
   "outputs": [],
   "source": [
    "img_homo = np.ones((3,315))\n",
    "img_homo[0,:] = img_p[:,0]\n",
    "img_homo[1,:] = img_p[:,1]\n",
    "\n",
    "obj_homo3 = np.ones((3,315))\n",
    "obj_homo3[0,:] = obj_p[:,0]\n",
    "obj_homo3[1,:] = obj_p[:,1]\n",
    "# obj_homo3"
   ]
  },
  {
   "cell_type": "code",
   "execution_count": 11,
   "metadata": {},
   "outputs": [
    {
     "data": {
      "text/plain": [
       "array([[108.38547135, 131.65628486, 154.92709836, 178.19791186,\n",
       "        201.46872537, 224.73953887, 248.01035238, 271.28116588,\n",
       "        294.55197938, 317.82279289, 341.09360639, 364.3644199 ,\n",
       "        387.6352334 , 410.90604691, 434.17686041, 457.44767391,\n",
       "        480.71848742, 503.98930092, 527.26011443, 550.53092793,\n",
       "        573.80174144, 108.32063598, 131.59144948, 154.86226299,\n",
       "        178.13307649, 201.40388999, 224.6747035 , 247.945517  ,\n",
       "        271.21633051, 294.48714401],\n",
       "       [ 83.78701628,  83.77465166,  83.76228705,  83.74992243,\n",
       "         83.73755781,  83.7251932 ,  83.71282858,  83.70046397,\n",
       "         83.68809935,  83.67573474,  83.66337012,  83.6510055 ,\n",
       "         83.63864089,  83.62627627,  83.61391166,  83.60154704,\n",
       "         83.58918243,  83.57681781,  83.5644532 ,  83.55208858,\n",
       "         83.53972396, 107.15978439, 107.14741977, 107.13505516,\n",
       "        107.12269054, 107.11032593, 107.09796131, 107.08559669,\n",
       "        107.07323208, 107.06086746],\n",
       "       [  1.        ,   0.99945366,   0.99890732,   0.99836098,\n",
       "          0.99781464,   0.9972683 ,   0.99672196,   0.99617562,\n",
       "          0.99562928,   0.99508294,   0.9945366 ,   0.99399026,\n",
       "          0.99344392,   0.99289758,   0.99235125,   0.99180491,\n",
       "          0.99125857,   0.99071223,   0.99016589,   0.98961955,\n",
       "          0.98907321,   1.00014099,   0.99959465,   0.99904831,\n",
       "          0.99850197,   0.99795563,   0.99740929,   0.99686295,\n",
       "          0.99631661,   0.99577027]])"
      ]
     },
     "execution_count": 11,
     "metadata": {},
     "output_type": "execute_result"
    }
   ],
   "source": [
    "im_pre = np.matmul(H,obj_homo3)\n",
    "im_pre[:,:30]"
   ]
  },
  {
   "cell_type": "code",
   "execution_count": 13,
   "metadata": {},
   "outputs": [
    {
     "data": {
      "text/plain": [
       "array([[107.56755066, 130.83979797, 154.64964294, 178.43469238,\n",
       "        202.1711731 , 225.64862061, 249.3981781 , 273.0770874 ,\n",
       "        296.48498535, 319.58239746, 343.1633606 , 366.5144043 ,\n",
       "        389.93441772, 413.60021973, 437.34890747, 461.1373291 ,\n",
       "        485.06295776, 509.17733765, 533.06195068, 557.16821289,\n",
       "        580.50585938, 107.33692169, 130.93611145, 154.7782135 ,\n",
       "        178.62882996, 202.2800293 , 225.58125305, 249.2624054 ,\n",
       "        272.77856445, 296.31332397],\n",
       "       [ 83.28165436,  83.35715485,  83.52548218,  83.59564972,\n",
       "         84.16691589,  84.19496155,  84.3937149 ,  84.56157684,\n",
       "         84.66824341,  84.62976837,  84.49532318,  84.71075439,\n",
       "         84.65130615,  84.61601257,  84.27425385,  84.37445831,\n",
       "         84.3088913 ,  84.09620667,  83.88614655,  83.61513519,\n",
       "         83.75165558, 106.62995148, 106.88222504, 107.22281647,\n",
       "        107.39172363, 107.50106812, 107.51467896, 107.59059143,\n",
       "        107.61261749, 107.84807587],\n",
       "       [  1.        ,   1.        ,   1.        ,   1.        ,\n",
       "          1.        ,   1.        ,   1.        ,   1.        ,\n",
       "          1.        ,   1.        ,   1.        ,   1.        ,\n",
       "          1.        ,   1.        ,   1.        ,   1.        ,\n",
       "          1.        ,   1.        ,   1.        ,   1.        ,\n",
       "          1.        ,   1.        ,   1.        ,   1.        ,\n",
       "          1.        ,   1.        ,   1.        ,   1.        ,\n",
       "          1.        ,   1.        ]])"
      ]
     },
     "execution_count": 13,
     "metadata": {},
     "output_type": "execute_result"
    }
   ],
   "source": [
    "img_homo[:,:30]"
   ]
  },
  {
   "cell_type": "code",
   "execution_count": null,
   "metadata": {},
   "outputs": [],
   "source": []
  },
  {
   "cell_type": "code",
   "execution_count": null,
   "metadata": {},
   "outputs": [],
   "source": []
  },
  {
   "cell_type": "code",
   "execution_count": null,
   "metadata": {},
   "outputs": [],
   "source": []
  }
 ],
 "metadata": {
  "kernelspec": {
   "display_name": "Python 3",
   "language": "python",
   "name": "python3"
  },
  "language_info": {
   "codemirror_mode": {
    "name": "ipython",
    "version": 3
   },
   "file_extension": ".py",
   "mimetype": "text/x-python",
   "name": "python",
   "nbconvert_exporter": "python",
   "pygments_lexer": "ipython3",
   "version": "3.6.8"
  }
 },
 "nbformat": 4,
 "nbformat_minor": 2
}
