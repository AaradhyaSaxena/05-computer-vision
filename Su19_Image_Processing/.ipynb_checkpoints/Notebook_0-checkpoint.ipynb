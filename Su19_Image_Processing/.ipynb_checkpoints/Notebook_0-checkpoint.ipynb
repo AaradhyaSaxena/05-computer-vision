{
 "cells": [
  {
   "cell_type": "code",
   "execution_count": 1,
   "metadata": {},
   "outputs": [],
   "source": [
    "import numpy as np\n",
    "from matplotlib import pyplot as plt\n",
    "import cv2\n",
    "import glob\n",
    "\n",
    "import math\n",
    "from scipy import linalg\n",
    "from numpy.linalg import inv\n",
    "from numpy import linalg as LA\n",
    "from sklearn import linear_model, datasets\n",
    "from function import *"
   ]
  },
  {
   "cell_type": "code",
   "execution_count": 2,
   "metadata": {},
   "outputs": [],
   "source": [
    "# def return_objpoints1():\n",
    "#     objp = np.ones((21*15,3), np.float32)\n",
    "#     objp[:,:2] = np.mgrid[0:21,0:15].T.reshape(-1,2)\n",
    "\n",
    "#     return objp1\n",
    "\n",
    "# We observe that because in all our object images the points of z-axis are 0,\n",
    "# in the camera calibration matrix the points associated to z-coordinate explode,\n",
    "# as on increasing or decreasing those points doesn't really matter.\n",
    "# To counter this we thought if we add a non-zero point to all Z co-ordinate, we might get a better result.\n",
    "# But on adding a constant to all (Z), the value of x0,y0 increases rather than decreasing z co-efficients."
   ]
  },
  {
   "cell_type": "code",
   "execution_count": 3,
   "metadata": {
    "scrolled": false
   },
   "outputs": [
    {
     "name": "stdout",
     "output_type": "stream",
     "text": [
      "obj_p3.shape (3, 315)\n",
      "obj_p4.shape (4, 315)\n",
      "img_p.shape (3, 315)\n"
     ]
    }
   ],
   "source": [
    "img_p, corners = return_imagepoints()\n",
    "obj_p = return_objpoints()\n",
    "\n",
    "obj_p4 = homo_obj4(obj_p)\n",
    "obj_p3 = homo_obj3(obj_p)\n",
    "img_p = homo_img(img_p)\n",
    "\n",
    "print(\"obj_p3.shape\", obj_p3.shape)\n",
    "print(\"obj_p4.shape\", obj_p4.shape)\n",
    "print(\"img_p.shape\", img_p.shape)"
   ]
  },
  {
   "cell_type": "code",
   "execution_count": 4,
   "metadata": {},
   "outputs": [
    {
     "data": {
      "text/plain": [
       "(2, 315)"
      ]
     },
     "execution_count": 4,
     "metadata": {},
     "output_type": "execute_result"
    }
   ],
   "source": [
    "# img_p[:2,:].T.shape\n",
    "# obj_p[:2,:].T.shape\n",
    "img_p[:2,:].shape"
   ]
  },
  {
   "cell_type": "code",
   "execution_count": 5,
   "metadata": {
    "scrolled": true
   },
   "outputs": [
    {
     "name": "stdout",
     "output_type": "stream",
     "text": [
      "obj_pt.shape (315, 3)\n",
      "obj_pt.shape (315, 4)\n",
      "img_pt.shape (315, 3)\n"
     ]
    }
   ],
   "source": [
    "obj_pt3 = obj_p3.T\n",
    "obj_pt4 = obj_p4.T\n",
    "img_pt = img_p.T\n",
    "print(\"obj_pt.shape\", obj_pt3.shape)\n",
    "print(\"obj_pt.shape\", obj_pt4.shape)\n",
    "print(\"img_pt.shape\", img_pt.shape)"
   ]
  },
  {
   "cell_type": "code",
   "execution_count": 6,
   "metadata": {},
   "outputs": [
    {
     "name": "stdout",
     "output_type": "stream",
     "text": [
      "rotation_matrix [[-0.35931092 -0.07351735 -0.93031761]\n",
      " [ 0.05061929 -0.99695993  0.05923331]\n",
      " [-0.93184406 -0.02580884  0.36193998]]\n",
      "tvecs [array([[ 3.60251756],\n",
      "       [ 1.14524037],\n",
      "       [31.05735156]])]\n"
     ]
    }
   ],
   "source": [
    "objpoints = [] \n",
    "imgpoints = []\n",
    "\n",
    "imgpoints.append(corners)\n",
    "objpoints.append(obj_p)\n",
    "\n",
    "img = cv2.imread(\"./a2.png\")\n",
    "gray = cv2.cvtColor(img,cv2.COLOR_BGR2GRAY)\n",
    "\n",
    "ret, mtx, dist, rvecs, tvecs = cv2.calibrateCamera(objpoints, imgpoints, gray.shape[::-1],None,None)\n",
    "\n",
    "rx = [[1,0,0],[0,math.cos(rvecs[0][0]),math.sin(rvecs[0][0])],[0,(-1)*math.sin(rvecs[0][0]),math.cos(rvecs[0][0])]]\n",
    "\n",
    "ry = [[math.cos(rvecs[0][1]),0,math.sin(rvecs[0][1])],[0,1,0],[(-1)*math.sin(rvecs[0][1]),0,math.cos(rvecs[0][1])]]\n",
    "\n",
    "rz = [[math.cos(rvecs[0][2]),math.sin(rvecs[0][2]),0],[(-1)*math.sin(rvecs[0][2]),math.cos(rvecs[0][2]),0],[0,0,1]]\n",
    "\n",
    "R1 = np.matmul(rx,ry)\n",
    "R = np.matmul(R1,rz)\n",
    "print(\"rotation_matrix\",R)\n",
    "print(\"tvecs\",tvecs)\n",
    "\n",
    "m = np.ones((3,4))\n",
    "m[:,:3] = R\n",
    "m[:,[3]]= np.array(tvecs)\n",
    "\n",
    "cv_homography = np.matmul(mtx,m)\n",
    "\n",
    "pcv = cv_homography/cv_homography[-1,-1]"
   ]
  },
  {
   "cell_type": "code",
   "execution_count": 7,
   "metadata": {
    "scrolled": false
   },
   "outputs": [
    {
     "name": "stdout",
     "output_type": "stream",
     "text": [
      "[[-1.90072736e+01  1.39647872e+00  4.65086156e+02]\n",
      " [ 8.77643509e-02 -1.32428023e+01  2.98250911e+02]\n",
      " [ 2.21177243e-17 -6.93889390e-17  1.00000000e+00]] \n",
      "\n",
      "[[-2.19311161e+01  8.45470954e+00  4.95585144e+02]\n",
      " [ 3.16263003e-01 -1.05539577e+01  3.08031103e+02]\n",
      " [ 1.05463664e-03  2.39458574e-02  1.00000000e+00]] \n",
      "\n",
      "[[ 8.87860273e-14 -3.40413346e-14 -2.57623331e-04 -2.00642148e-12]\n",
      " [-1.36762756e-15  4.27383590e-14 -9.99999967e-01 -1.24579490e-12]\n",
      " [-4.34287029e-18 -9.64299891e-17  0.00000000e+00 -4.04787968e-15]] \n",
      "\n",
      "[[-2.05687441e+01 -2.00448704e+00 -1.61601313e+01  4.96540306e+02]\n",
      " [-7.20953650e+00 -2.43417183e+01  4.70807368e+00  3.08776356e+02]\n",
      " [-3.00039770e-02 -8.31005810e-04  1.16539230e-02  1.00000000e+00]]\n"
     ]
    }
   ],
   "source": [
    "p = projection_matrix_direct(img_pt,obj_pt3)\n",
    "print(p,\"\\n\")\n",
    "\n",
    "p_ = projection_matrix3(img_pt,obj_pt3)\n",
    "print(p_,\"\\n\")\n",
    "\n",
    "_p = projection_matrix4(img_pt,obj_pt4)\n",
    "print(_p,\"\\n\")\n",
    "\n",
    "print(pcv)"
   ]
  },
  {
   "cell_type": "code",
   "execution_count": 8,
   "metadata": {
    "scrolled": false
   },
   "outputs": [],
   "source": [
    "# a,b,c = RQ_decomposition(_p)\n",
    "# print(\"camera_calibration_matrix\",a)\n",
    "# print(\"rotation_matrix\",b)\n",
    "# print(\"translation_matrix\",c)"
   ]
  },
  {
   "cell_type": "markdown",
   "metadata": {},
   "source": [
    "NOTE: The (1,2) term is zero in a camera calibration matrix, which is not zero in our case."
   ]
  },
  {
   "cell_type": "markdown",
   "metadata": {},
   "source": [
    "Manually decomposing the p-matrix by RQ decomposition."
   ]
  },
  {
   "cell_type": "code",
   "execution_count": 16,
   "metadata": {},
   "outputs": [],
   "source": [
    "# # trying to get the camera matrix in proper form\n",
    "# m = _p[:,:3]\n",
    "# m1 = m[:,0]\n",
    "# m2 = m[:,1]\n",
    "# m3 = m[:,2]\n",
    "\n",
    "# alpha1 = LA.norm(m1)\n",
    "# alpha2 = LA.norm(m2)\n",
    "# x0 = LA.norm(m3)\n",
    "# y0 = LA.norm(m3)\n",
    "# print(alpha1,alpha2,x0,y0)\n",
    "# # kappa = [[alpha1,0,x0],[0,alpha2,y0],[0,0,1]]\n",
    "# # kappa\n",
    "# # print(_p[0])\n",
    "# # print(_p[1])\n",
    "# # print(_p[2])"
   ]
  },
  {
   "cell_type": "markdown",
   "metadata": {},
   "source": [
    "On manually calculating the RQ decomposition, in the k-matrix the value of all the variable comes out to be 136.9, this is because in all the columns of p-matrix, there is a dominting value (1.36) present."
   ]
  },
  {
   "cell_type": "code",
   "execution_count": 10,
   "metadata": {},
   "outputs": [
    {
     "name": "stdout",
     "output_type": "stream",
     "text": [
      "[[-1365.25000219]\n",
      " [  220.6539928 ]\n",
      " [    1.84873241]] \n",
      "\n",
      "[[-2.57623331e-02]\n",
      " [-9.99999967e+01]\n",
      " [-6.01990817e-15]] \n",
      "\n",
      "[[-2.00642148e-12 -1.91763545e-12 -1.82884942e-12 -1.74006340e-12\n",
      "  -1.65127737e-12]\n",
      " [-1.24579490e-12 -1.24716252e-12 -1.24853015e-12 -1.24989778e-12\n",
      "  -1.25126541e-12]\n",
      " [-4.04787968e-15 -4.05222255e-15 -4.05656542e-15 -4.06090829e-15\n",
      "  -4.06525116e-15]] \n",
      "\n",
      "[[495.6722123  473.23053585 450.83691052 428.49118218 406.1931973 ]\n",
      " [307.76480368 307.77246489 307.7801097  307.78773815 307.79535031]\n",
      " [  1.           1.           1.           1.           1.        ]]\n",
      "[[496.90975952 474.15545654 451.12341309 428.28366089 405.47537231]\n",
      " [310.34054565 309.70172119 309.73733521 309.17352295 309.41809082]\n",
      " [  1.           1.           1.           1.           1.        ]] \n",
      "\n"
     ]
    }
   ],
   "source": [
    "proj_cv = img_projection(pcv, np.array([[10,20,100]]))\n",
    "print(proj_cv,'\\n')\n",
    "\n",
    "_proj = img_projection(_p,np.array([[10,20,100]]))\n",
    "print(_proj,'\\n')\n",
    "\n",
    "p = img_projection(_p,obj_p[:5,:])\n",
    "print(p,'\\n')\n",
    "\n",
    "print(p/p[2])\n",
    "\n",
    "print(img_p[:,:5],'\\n')"
   ]
  },
  {
   "cell_type": "markdown",
   "metadata": {},
   "source": [
    "So basically we can't predict z co-ordinates by _p, because the 3rd row contains too large numbers. And we normalize by LA.norm(..,axis=0), we wouldn't get proper estimation of points."
   ]
  },
  {
   "cell_type": "code",
   "execution_count": 21,
   "metadata": {},
   "outputs": [
    {
     "name": "stdout",
     "output_type": "stream",
     "text": [
      "[[-2.57623333e-04]\n",
      " [-9.99999967e-01]\n",
      " [-4.24508253e-15]] \n",
      "\n"
     ]
    },
    {
     "data": {
      "text/plain": [
       "array([[ 8.87860273e-14, -3.40413346e-14, -2.57623331e-04,\n",
       "        -2.00642148e-12],\n",
       "       [-1.36762756e-15,  4.27383590e-14, -9.99999967e-01,\n",
       "        -1.24579490e-12],\n",
       "       [-4.34287029e-18, -9.64299891e-17,  0.00000000e+00,\n",
       "        -4.04787968e-15]])"
      ]
     },
     "execution_count": 21,
     "metadata": {},
     "output_type": "execute_result"
    }
   ],
   "source": [
    "_proj = img_projection(_p,np.array([[1,2,1]]))\n",
    "print(_proj,'\\n')\n",
    "\n",
    "_proj/_proj[2]\n",
    "_p\n"
   ]
  },
  {
   "cell_type": "code",
   "execution_count": null,
   "metadata": {},
   "outputs": [],
   "source": []
  },
  {
   "cell_type": "code",
   "execution_count": null,
   "metadata": {},
   "outputs": [],
   "source": []
  },
  {
   "cell_type": "code",
   "execution_count": 22,
   "metadata": {
    "scrolled": true
   },
   "outputs": [],
   "source": [
    "img_p, corners = return_imagepoints()\n",
    "obj_p = return_objpoints()\n",
    "\n",
    "# obj_p4 = homo_obj4(obj_p)\n",
    "# obj_p3 = homo_obj3(obj_p)\n",
    "# img_p = homo_img(img_p)\n",
    "\n",
    "# print(\"obj_p3.shape\", obj_p3.shape)\n",
    "# print(\"obj_p4.shape\", obj_p4.shape)\n",
    "# print(\"img_p.shape\", img_p.shape)\n",
    "\n",
    "# # img_p[:2,:].T.shape\n",
    "# # obj_p[:2,:].T.shape\n",
    "# img_p[:2,:].shape\n",
    "\n",
    "# obj_pt3 = obj_p3.T\n",
    "# obj_pt4 = obj_p4.T\n",
    "# img_pt = img_p.T\n",
    "# print(\"obj_pt.shape\", obj_pt3.shape)\n",
    "# print(\"obj_pt.shape\", obj_pt4.shape)\n",
    "# print(\"img_pt.shape\", img_pt.shape)"
   ]
  },
  {
   "cell_type": "code",
   "execution_count": 23,
   "metadata": {},
   "outputs": [
    {
     "data": {
      "text/plain": [
       "(315, 2)"
      ]
     },
     "execution_count": 23,
     "metadata": {},
     "output_type": "execute_result"
    }
   ],
   "source": [
    "img_p.shape\n",
    "# obj_p = obj_p4\n",
    "# obj_p4.shape"
   ]
  },
  {
   "cell_type": "code",
   "execution_count": 24,
   "metadata": {},
   "outputs": [],
   "source": [
    "C = []\n",
    "\n",
    "for i in range(315):\n",
    "    C.append(np.array([obj_p[i,0], obj_p[i,1], obj_p[i,2],1,0,0,0,0,(-1)*obj_p[i,0]*img_p[i,0], \n",
    "                           (-1)*obj_p[i,1]*img_p[i,0],(-1)*obj_p[i,2]*img_p[i,0], (-1)*img_p[i,0]]))\n",
    "        \n",
    "    C.append(np.array([0,0,0,0, obj_p[i,0], obj_p[i,1], obj_p[i,2],1,(-1)*obj_p[i,0]*img_p[i,1], \n",
    "                           (-1)*obj_p[i,1]*img_p[i,1], (-1)*obj_p[i,2]*img_p[i,1],(-1)*img_p[i,1]]))\n",
    "    \n",
    "c = np.array(C)\n",
    "ctc = np.matmul(c.T,c)\n",
    "u, s, vh = np.linalg.svd(ctc, full_matrices=True)\n",
    "L = vh[-2]\n",
    "H = L.reshape(3, 4)"
   ]
  },
  {
   "cell_type": "code",
   "execution_count": 25,
   "metadata": {
    "scrolled": true
   },
   "outputs": [
    {
     "data": {
      "text/plain": [
       "array([[-1.78718144e-03, -1.47935487e-03,  3.46944695e-18,\n",
       "        -1.79031126e-04, -1.81403782e-03, -9.72479243e-04,\n",
       "         0.00000000e+00, -1.44573701e-04,  7.94402699e-01,\n",
       "         6.01872955e-01,  0.00000000e+00,  8.16310330e-02],\n",
       "       [-7.64019393e-04,  1.76938620e-03,  0.00000000e+00,\n",
       "         8.85301621e-05, -2.13555273e-03,  3.38981242e-04,\n",
       "         0.00000000e+00, -8.32730996e-05,  6.05441495e-01,\n",
       "        -7.95416951e-01,  0.00000000e+00, -2.72775627e-02],\n",
       "       [ 6.30052762e-03,  4.91567154e-03,  7.20127083e-16,\n",
       "        -1.26484145e-03,  5.86247630e-03,  5.03356786e-03,\n",
       "         0.00000000e+00, -7.13410129e-04, -4.84794454e-02,\n",
       "        -7.10736100e-02,  0.00000000e+00,  9.96229196e-01],\n",
       "       [-6.11414474e-01, -3.13418580e-01, -1.53621148e-13,\n",
       "        -4.42107776e-02,  5.92655003e-01,  4.15046527e-01,\n",
       "         0.00000000e+00,  4.98140212e-02,  6.85937477e-04,\n",
       "        -1.00434163e-03,  0.00000000e+00, -2.30071864e-04],\n",
       "       [-6.39962814e-01,  1.48303441e-01, -1.27575251e-13,\n",
       "        -1.82805986e-02, -5.37933843e-02, -7.50374253e-01,\n",
       "         0.00000000e+00, -4.59009847e-02, -2.12728254e-03,\n",
       "        -1.09362612e-03,  0.00000000e+00,  7.18588539e-03],\n",
       "       [ 4.15176017e-01,  2.15648327e-01, -4.55903219e-13,\n",
       "         1.61040487e-02,  8.02965178e-01, -3.68531503e-01,\n",
       "        -5.55111512e-17, -1.56995712e-02,  3.10531559e-03,\n",
       "         3.53487374e-04,  0.00000000e+00, -6.36739406e-03],\n",
       "       [-2.02072728e-01,  9.12141015e-01,  1.07531031e-12,\n",
       "        -4.79475241e-02,  2.16474115e-02,  3.49140072e-01,\n",
       "        -1.11022302e-16,  4.96747000e-02,  2.24075868e-04,\n",
       "         2.64323775e-03,  0.00000000e+00, -4.94005654e-03],\n",
       "       [-4.42956207e-02,  3.21004360e-02, -3.72429403e-12,\n",
       "         5.24619432e-01,  2.45380994e-02,  8.12877959e-02,\n",
       "        -2.49800181e-16, -8.45323555e-01, -4.20387084e-05,\n",
       "         2.09941088e-04,  0.00000000e+00, -3.59706186e-04],\n",
       "       [-3.75479563e-02,  1.44751896e-02, -7.46129263e-09,\n",
       "         8.48484374e-01,  5.41469452e-04, -1.80692830e-02,\n",
       "        -4.41841008e-13,  5.27375731e-01,  1.80562861e-06,\n",
       "         4.09973666e-05,  0.00000000e+00,  1.71208597e-03],\n",
       "       [-2.80090263e-10,  1.07211309e-10,  9.99999967e-01,\n",
       "         6.33279352e-09,  4.55835637e-12, -1.35092880e-10,\n",
       "        -2.57623331e-04,  3.93169756e-09,  1.44500189e-14,\n",
       "         3.03626829e-13,  0.00000000e+00,  1.27756039e-11],\n",
       "       [ 8.87860273e-14, -3.40413346e-14, -2.57623331e-04,\n",
       "        -2.00642148e-12, -1.36762756e-15,  4.27383590e-14,\n",
       "        -9.99999967e-01, -1.24579490e-12, -4.34287029e-18,\n",
       "        -9.64299891e-17,  0.00000000e+00, -4.04787968e-15],\n",
       "       [ 0.00000000e+00,  0.00000000e+00,  0.00000000e+00,\n",
       "         0.00000000e+00,  0.00000000e+00,  0.00000000e+00,\n",
       "         0.00000000e+00,  0.00000000e+00,  0.00000000e+00,\n",
       "         0.00000000e+00, -1.00000000e+00,  0.00000000e+00]])"
      ]
     },
     "execution_count": 25,
     "metadata": {},
     "output_type": "execute_result"
    }
   ],
   "source": [
    "vh"
   ]
  },
  {
   "cell_type": "code",
   "execution_count": 26,
   "metadata": {},
   "outputs": [
    {
     "data": {
      "text/plain": [
       "(12, 12)"
      ]
     },
     "execution_count": 26,
     "metadata": {},
     "output_type": "execute_result"
    }
   ],
   "source": [
    "vh.shape"
   ]
  },
  {
   "cell_type": "code",
   "execution_count": 30,
   "metadata": {},
   "outputs": [
    {
     "data": {
      "text/plain": [
       "0.9999999999999999"
      ]
     },
     "execution_count": 30,
     "metadata": {},
     "output_type": "execute_result"
    }
   ],
   "source": [
    "np.sum(vh[-2]*vh[-2])"
   ]
  },
  {
   "cell_type": "code",
   "execution_count": null,
   "metadata": {},
   "outputs": [],
   "source": []
  },
  {
   "cell_type": "markdown",
   "metadata": {},
   "source": [
    "--------------------------------------"
   ]
  },
  {
   "cell_type": "markdown",
   "metadata": {},
   "source": [
    "---------------------------------------"
   ]
  }
 ],
 "metadata": {
  "kernelspec": {
   "display_name": "Python 3",
   "language": "python",
   "name": "python3"
  },
  "language_info": {
   "codemirror_mode": {
    "name": "ipython",
    "version": 3
   },
   "file_extension": ".py",
   "mimetype": "text/x-python",
   "name": "python",
   "nbconvert_exporter": "python",
   "pygments_lexer": "ipython3",
   "version": "3.6.8"
  }
 },
 "nbformat": 4,
 "nbformat_minor": 2
}
