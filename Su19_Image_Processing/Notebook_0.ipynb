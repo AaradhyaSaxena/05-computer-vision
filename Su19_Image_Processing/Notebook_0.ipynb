{
 "cells": [
  {
   "cell_type": "code",
   "execution_count": 1,
   "metadata": {},
   "outputs": [],
   "source": [
    "import numpy as np\n",
    "from matplotlib import pyplot as plt\n",
    "import cv2\n",
    "import glob\n",
    "\n",
    "import math\n",
    "from scipy import linalg\n",
    "from numpy.linalg import inv\n",
    "from numpy import linalg as LA\n",
    "from sklearn import linear_model, datasets\n",
    "from function import *"
   ]
  },
  {
   "cell_type": "code",
   "execution_count": 19,
   "metadata": {},
   "outputs": [],
   "source": [
    "# prepare object points, like (0,0,0), (1,0,0), (2,0,0) ....,(6,5,0)\n",
    "objp = np.zeros((21*15,3), np.float32)\n",
    "objp[:,:2] = np.mgrid[0:21,0:15].T.reshape(-1,2)"
   ]
  },
  {
   "cell_type": "code",
   "execution_count": 20,
   "metadata": {},
   "outputs": [],
   "source": [
    "# Arrays to store object points and image points from all the images.\n",
    "objpoints = [] # 3d point in real world space\n",
    "imgpoints = [] # 2d points in image plane.\n",
    "\n",
    "images = glob.glob('a.png')\n",
    "\n",
    "for fname in images:\n",
    "    img = cv2.imread(fname)\n",
    "    gray = cv2.cvtColor(img,cv2.COLOR_BGR2GRAY)\n",
    "    \n",
    "    # Find the chess board corners\n",
    "    ret, corners = cv2.findChessboardCorners(gray, (21,15),None)\n",
    "\n",
    "    # If found, add object points, image points (after refining them)\n",
    "    if ret == True:\n",
    "        \n",
    "        # termination criteria\n",
    "        criteria = (cv2.TERM_CRITERIA_EPS + cv2.TERM_CRITERIA_MAX_ITER, 30, 0.001)\n",
    "        \n",
    "        objpoints.append(objp)\n",
    "        cv2.cornerSubPix(gray,corners,(11,11),(-1,-1),criteria)\n",
    "        imgpoints.append(corners)\n",
    "\n",
    "        # Draw and display the corners\n",
    "        cv2.drawChessboardCorners(img, (21,15), corners,ret)\n",
    "        cv2.imshow('img',img)\n",
    "        cv2.waitKey(5000000)\n",
    "    \n",
    "cv2.destroyAllWindows()"
   ]
  },
  {
   "cell_type": "code",
   "execution_count": 6,
   "metadata": {
    "scrolled": false
   },
   "outputs": [
    {
     "name": "stdout",
     "output_type": "stream",
     "text": [
      "obj_p3.shape (3, 315)\n",
      "obj_p4.shape (4, 315)\n",
      "img_p.shape (3, 315)\n"
     ]
    }
   ],
   "source": [
    "img_p = return_imagepoints()\n",
    "obj_p = return_objpoints()\n",
    "\n",
    "obj_p4 = homo_obj4(obj_p)\n",
    "obj_p3 = homo_obj3(obj_p)\n",
    "img_p = homo_img(img_p)\n",
    "\n",
    "print(\"obj_p3.shape\", obj_p3.shape)\n",
    "print(\"obj_p4.shape\", obj_p4.shape)\n",
    "print(\"img_p.shape\", img_p.shape)"
   ]
  },
  {
   "cell_type": "code",
   "execution_count": 15,
   "metadata": {},
   "outputs": [
    {
     "data": {
      "text/plain": [
       "(315, 3)"
      ]
     },
     "execution_count": 15,
     "metadata": {},
     "output_type": "execute_result"
    }
   ],
   "source": [
    "# img_p[:2,:].T.shape\n",
    "# obj_p[:2,:].T.shape\n",
    "obj_p.shape"
   ]
  },
  {
   "cell_type": "code",
   "execution_count": 3,
   "metadata": {},
   "outputs": [
    {
     "name": "stdout",
     "output_type": "stream",
     "text": [
      "obj_pt.shape (315, 3)\n",
      "obj_pt.shape (315, 4)\n",
      "img_pt.shape (315, 3)\n"
     ]
    }
   ],
   "source": [
    "obj_pt3 = obj_p3.T\n",
    "obj_pt4 = obj_p4.T\n",
    "img_pt = img_p.T\n",
    "print(\"obj_pt.shape\", obj_pt3.shape)\n",
    "print(\"obj_pt.shape\", obj_pt4.shape)\n",
    "print(\"img_pt.shape\", img_pt.shape)"
   ]
  },
  {
   "cell_type": "code",
   "execution_count": 4,
   "metadata": {
    "scrolled": true
   },
   "outputs": [
    {
     "name": "stdout",
     "output_type": "stream",
     "text": [
      "[[ 2.35641141e+01 -1.13180327e-01  1.07795469e+02]\n",
      " [ 1.24120961e-01  2.34434472e+01  8.29785775e+01]\n",
      " [ 2.21177243e-17 -6.93889390e-17  1.00000000e+00]] \n",
      "\n",
      "[[ 2.32708135e+01 -6.48353739e-02  1.08385471e+02]\n",
      " [-1.23646156e-02  2.33727681e+01  8.37870163e+01]\n",
      " [-5.46339618e-04  1.40990039e-04  1.00000000e+00]] \n",
      "\n",
      "[[ 1.36930779e+02 -3.50209450e-01  5.00613492e-02  1.08329258e+02]\n",
      " [-5.06145912e-02  1.36930340e+02 -1.36930779e+02  8.37485083e+01]\n",
      " [-3.13732526e-03  8.94422047e-04  0.00000000e+00  1.00000000e+00]]\n"
     ]
    }
   ],
   "source": [
    "p = projection_matrix_direct(img_pt,obj_pt3)\n",
    "print(p,\"\\n\")\n",
    "\n",
    "p_ = projection_matrix3(img_pt,obj_pt3)\n",
    "print(p_,\"\\n\")\n",
    "\n",
    "_p = projection_matrix4(img_pt,obj_pt4)\n",
    "print(_p)"
   ]
  },
  {
   "cell_type": "code",
   "execution_count": 5,
   "metadata": {},
   "outputs": [
    {
     "name": "stdout",
     "output_type": "stream",
     "text": [
      "camera_calibration_matrix [[-8.23117244e+03  7.89362395e+03 -4.03944076e+04]\n",
      " [-0.00000000e+00  5.82300214e+04  1.15225601e+04]\n",
      " [-0.00000000e+00 -0.00000000e+00  1.00000000e+00]]\n",
      "rotation_matrix [[ 0.19762446  0.69319872  0.69312345]\n",
      " [-0.19003129 -0.66656449  0.7208189 ]\n",
      " [ 0.96168221 -0.27416659  0.        ]]\n",
      "translation_matrix [-5.10903824 -0.19644182  1.        ]\n"
     ]
    }
   ],
   "source": [
    "a,b,c = RQ_decomposition(_p)\n",
    "print(\"camera_calibration_matrix\",a)\n",
    "print(\"rotation_matrix\",b)\n",
    "print(\"translation_matrix\",c)"
   ]
  },
  {
   "cell_type": "code",
   "execution_count": 22,
   "metadata": {},
   "outputs": [
    {
     "ename": "TypeError",
     "evalue": "objectPoints is not a numpy array, neither a scalar",
     "output_type": "error",
     "traceback": [
      "\u001b[1;31m---------------------------------------------------------------------------\u001b[0m",
      "\u001b[1;31mTypeError\u001b[0m                                 Traceback (most recent call last)",
      "\u001b[1;32m<ipython-input-22-47822b76df51>\u001b[0m in \u001b[0;36m<module>\u001b[1;34m\u001b[0m\n\u001b[1;32m----> 1\u001b[1;33m \u001b[0mret\u001b[0m\u001b[1;33m,\u001b[0m \u001b[0mmtx\u001b[0m\u001b[1;33m,\u001b[0m \u001b[0mdist\u001b[0m\u001b[1;33m,\u001b[0m \u001b[0mrvecs\u001b[0m\u001b[1;33m,\u001b[0m \u001b[0mtvecs\u001b[0m \u001b[1;33m=\u001b[0m \u001b[0mcv2\u001b[0m\u001b[1;33m.\u001b[0m\u001b[0mcalibrateCamera\u001b[0m\u001b[1;33m(\u001b[0m\u001b[0mobj_p\u001b[0m\u001b[1;33m.\u001b[0m\u001b[0mtolist\u001b[0m\u001b[1;33m(\u001b[0m\u001b[1;33m)\u001b[0m\u001b[1;33m,\u001b[0m \u001b[0mimg_p\u001b[0m\u001b[1;33m[\u001b[0m\u001b[1;33m:\u001b[0m\u001b[1;36m2\u001b[0m\u001b[1;33m,\u001b[0m\u001b[1;33m:\u001b[0m\u001b[1;33m]\u001b[0m\u001b[1;33m.\u001b[0m\u001b[0mtolist\u001b[0m\u001b[1;33m(\u001b[0m\u001b[1;33m)\u001b[0m\u001b[1;33m,\u001b[0m \u001b[0mgray\u001b[0m\u001b[1;33m.\u001b[0m\u001b[0mshape\u001b[0m\u001b[1;33m[\u001b[0m\u001b[1;33m:\u001b[0m\u001b[1;33m:\u001b[0m\u001b[1;33m-\u001b[0m\u001b[1;36m1\u001b[0m\u001b[1;33m]\u001b[0m\u001b[1;33m,\u001b[0m\u001b[1;32mNone\u001b[0m\u001b[1;33m,\u001b[0m\u001b[1;32mNone\u001b[0m\u001b[1;33m)\u001b[0m\u001b[1;33m\u001b[0m\u001b[1;33m\u001b[0m\u001b[0m\n\u001b[0m",
      "\u001b[1;31mTypeError\u001b[0m: objectPoints is not a numpy array, neither a scalar"
     ]
    }
   ],
   "source": [
    "ret, mtx, dist, rvecs, tvecs = cv2.calibrateCamera(obj_p, img_p[:2,:], gray.shape[::-1],None,None)"
   ]
  },
  {
   "cell_type": "code",
   "execution_count": null,
   "metadata": {},
   "outputs": [],
   "source": []
  },
  {
   "cell_type": "code",
   "execution_count": null,
   "metadata": {},
   "outputs": [],
   "source": []
  },
  {
   "cell_type": "code",
   "execution_count": 11,
   "metadata": {},
   "outputs": [],
   "source": [
    "# test = np.matmul(_p,obj_p4)\n",
    "# test[:,:5]\n",
    "# img_p[:,:5]\n",
    "# ptp = np.matmul(_p.T,_p)\n",
    "# ptpinv = inv(ptp)\n",
    "# pinv = np.matmul(ptpinv,_p.T)\n",
    "# test4 = np.matmul(pinv, img_p)\n",
    "# test4[:,:5]\n",
    "# obj_p4[:,:5]"
   ]
  },
  {
   "cell_type": "code",
   "execution_count": null,
   "metadata": {},
   "outputs": [],
   "source": []
  },
  {
   "cell_type": "code",
   "execution_count": null,
   "metadata": {},
   "outputs": [],
   "source": []
  },
  {
   "cell_type": "code",
   "execution_count": null,
   "metadata": {},
   "outputs": [],
   "source": []
  },
  {
   "cell_type": "markdown",
   "metadata": {},
   "source": [
    "--------------------------------------"
   ]
  },
  {
   "cell_type": "markdown",
   "metadata": {},
   "source": [
    "---------------------------------------"
   ]
  }
 ],
 "metadata": {
  "kernelspec": {
   "display_name": "Python 3",
   "language": "python",
   "name": "python3"
  },
  "language_info": {
   "codemirror_mode": {
    "name": "ipython",
    "version": 3
   },
   "file_extension": ".py",
   "mimetype": "text/x-python",
   "name": "python",
   "nbconvert_exporter": "python",
   "pygments_lexer": "ipython3",
   "version": "3.6.8"
  }
 },
 "nbformat": 4,
 "nbformat_minor": 2
}
