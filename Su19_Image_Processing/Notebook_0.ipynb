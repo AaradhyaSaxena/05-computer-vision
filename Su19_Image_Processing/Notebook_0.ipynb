{
 "cells": [
  {
   "cell_type": "code",
   "execution_count": 1,
   "metadata": {},
   "outputs": [],
   "source": [
    "import numpy as np\n",
    "from matplotlib import pyplot as plt\n",
    "import cv2\n",
    "import glob\n",
    "\n",
    "import math\n",
    "from scipy import linalg\n",
    "from numpy.linalg import inv\n",
    "from numpy import linalg as LA\n",
    "from sklearn import linear_model, datasets\n",
    "from function import *"
   ]
  },
  {
   "cell_type": "code",
   "execution_count": 2,
   "metadata": {
    "scrolled": false
   },
   "outputs": [
    {
     "name": "stdout",
     "output_type": "stream",
     "text": [
      "obj_p3.shape (3, 315)\n",
      "obj_p4.shape (4, 315)\n",
      "img_p.shape (3, 315)\n"
     ]
    }
   ],
   "source": [
    "img_p, corners = return_imagepoints()\n",
    "obj_p = return_objpoints()\n",
    "\n",
    "obj_p4 = homo_obj4(obj_p)\n",
    "obj_p3 = homo_obj3(obj_p)\n",
    "img_p = homo_img(img_p)\n",
    "\n",
    "print(\"obj_p3.shape\", obj_p3.shape)\n",
    "print(\"obj_p4.shape\", obj_p4.shape)\n",
    "print(\"img_p.shape\", img_p.shape)"
   ]
  },
  {
   "cell_type": "code",
   "execution_count": 3,
   "metadata": {},
   "outputs": [
    {
     "data": {
      "text/plain": [
       "(2, 315)"
      ]
     },
     "execution_count": 3,
     "metadata": {},
     "output_type": "execute_result"
    }
   ],
   "source": [
    "# img_p[:2,:].T.shape\n",
    "# obj_p[:2,:].T.shape\n",
    "img_p[:2,:].shape"
   ]
  },
  {
   "cell_type": "code",
   "execution_count": 4,
   "metadata": {
    "scrolled": true
   },
   "outputs": [
    {
     "name": "stdout",
     "output_type": "stream",
     "text": [
      "obj_pt.shape (315, 3)\n",
      "obj_pt.shape (315, 4)\n",
      "img_pt.shape (315, 3)\n"
     ]
    }
   ],
   "source": [
    "obj_pt3 = obj_p3.T\n",
    "obj_pt4 = obj_p4.T\n",
    "img_pt = img_p.T\n",
    "print(\"obj_pt.shape\", obj_pt3.shape)\n",
    "print(\"obj_pt.shape\", obj_pt4.shape)\n",
    "print(\"img_pt.shape\", img_pt.shape)"
   ]
  },
  {
   "cell_type": "code",
   "execution_count": 5,
   "metadata": {},
   "outputs": [
    {
     "name": "stdout",
     "output_type": "stream",
     "text": [
      "rotation_matrix [[ 0.9992851   0.0046721   0.0375162 ]\n",
      " [-0.0048877   0.99997205  0.0056571 ]\n",
      " [-0.03748872 -0.00583643  0.99928001]]\n",
      "tvecs [array([[-9.46710699],\n",
      "       [-5.90093295],\n",
      "       [63.95609032]])]\n"
     ]
    }
   ],
   "source": [
    "objpoints = [] \n",
    "imgpoints = []\n",
    "\n",
    "imgpoints.append(corners)\n",
    "objpoints.append(obj_p)\n",
    "\n",
    "img = cv2.imread(\"./a.png\")\n",
    "gray = cv2.cvtColor(img,cv2.COLOR_BGR2GRAY)\n",
    "\n",
    "ret, mtx, dist, rvecs, tvecs = cv2.calibrateCamera(objpoints, imgpoints, gray.shape[::-1],None,None)\n",
    "\n",
    "rx = [[1,0,0],[0,math.cos(rvecs[0][0]),math.sin(rvecs[0][0])],[0,(-1)*math.sin(rvecs[0][0]),math.cos(rvecs[0][0])]]\n",
    "\n",
    "ry = [[math.cos(rvecs[0][1]),0,math.sin(rvecs[0][1])],[0,1,0],[(-1)*math.sin(rvecs[0][1]),0,math.cos(rvecs[0][1])]]\n",
    "\n",
    "rz = [[math.cos(rvecs[0][2]),math.sin(rvecs[0][2]),0],[(-1)*math.sin(rvecs[0][2]),math.cos(rvecs[0][2]),0],[0,0,1]]\n",
    "\n",
    "R1 = np.matmul(rx,ry)\n",
    "R = np.matmul(R1,rz)\n",
    "print(\"rotation_matrix\",R)\n",
    "print(\"tvecs\",tvecs)\n",
    "\n",
    "m = np.ones((3,4))\n",
    "m[:,:3] = R\n",
    "m[:,[3]]= np.array(tvecs)\n",
    "\n",
    "cv_homography = np.matmul(mtx,m)\n",
    "\n",
    "pcv = cv_homography/cv_homography[-1,-1]"
   ]
  },
  {
   "cell_type": "code",
   "execution_count": 6,
   "metadata": {
    "scrolled": false
   },
   "outputs": [
    {
     "name": "stdout",
     "output_type": "stream",
     "text": [
      "[[ 2.35641141e+01 -1.13180327e-01  1.07795469e+02]\n",
      " [ 1.24120961e-01  2.34434472e+01  8.29785775e+01]\n",
      " [ 2.21177243e-17 -6.93889390e-17  1.00000000e+00]] \n",
      "\n",
      "[[ 2.32708135e+01 -6.48353739e-02  1.08385471e+02]\n",
      " [-1.23646156e-02  2.33727681e+01  8.37870163e+01]\n",
      " [-5.46339618e-04  1.40990039e-04  1.00000000e+00]] \n",
      "\n",
      "[[ 1.36930779e+02 -3.50209450e-01  5.00613492e-02  1.08329258e+02]\n",
      " [-5.06145912e-02  1.36930340e+02 -1.36930779e+02  8.37485083e+01]\n",
      " [-3.13732526e-03  8.94422047e-04  0.00000000e+00  1.00000000e+00]] \n",
      "\n",
      "[[ 2.29941872e+01  7.82454466e-02  6.03584809e+00  1.10910486e+02]\n",
      " [-2.42857211e-01  2.30889446e+01  3.59337234e+00  8.52468687e+01]\n",
      " [-5.86163404e-04 -9.12567791e-05  1.56244699e-02  1.00000000e+00]]\n"
     ]
    }
   ],
   "source": [
    "p = projection_matrix_direct(img_pt,obj_pt3)\n",
    "print(p,\"\\n\")\n",
    "\n",
    "p_ = projection_matrix3(img_pt,obj_pt3)\n",
    "print(p_,\"\\n\")\n",
    "\n",
    "_p = projection_matrix4(img_pt,obj_pt4)\n",
    "print(_p,\"\\n\")\n",
    "\n",
    "print(pcv)"
   ]
  },
  {
   "cell_type": "code",
   "execution_count": 7,
   "metadata": {
    "scrolled": false
   },
   "outputs": [],
   "source": [
    "# a,b,c = RQ_decomposition(_p)\n",
    "# print(\"camera_calibration_matrix\",a)\n",
    "# print(\"rotation_matrix\",b)\n",
    "# print(\"translation_matrix\",c)"
   ]
  },
  {
   "cell_type": "markdown",
   "metadata": {},
   "source": [
    "NOTE: The (1,2) term is zero in a camera calibration matrix, which is not zero in our case."
   ]
  },
  {
   "cell_type": "markdown",
   "metadata": {},
   "source": [
    "Manually decomposing the p-matrix by RQ decomposition."
   ]
  },
  {
   "cell_type": "code",
   "execution_count": 8,
   "metadata": {},
   "outputs": [],
   "source": [
    "# # trying to get the camera matrix in proper form\n",
    "# m = _p[:,:3]\n",
    "# m1 = m[:,0]\n",
    "# m2 = m[:,1]\n",
    "# m3 = m[:,2]\n",
    "\n",
    "# alpha1 = LA.norm(m1)\n",
    "# alpha2 = LA.norm(m2)\n",
    "# x0 = LA.norm(m3)\n",
    "# y0 = LA.norm(m3)\n",
    "# print(alpha1,alpha2,x0,y0)\n",
    "# # kappa = [[alpha1,0,x0],[0,alpha2,y0],[0,0,1]]\n",
    "# # kappa\n",
    "# # print(_p[0])\n",
    "# # print(_p[1])\n",
    "# # print(_p[2])"
   ]
  },
  {
   "cell_type": "markdown",
   "metadata": {},
   "source": [
    "On manually calculating the RQ decomposition, in the k-matrix the value of all the variable comes out to be 136.9, this is because in all the columns of p-matrix, there is a dominting value (1.36) present."
   ]
  },
  {
   "cell_type": "code",
   "execution_count": 9,
   "metadata": {},
   "outputs": [
    {
     "name": "stdout",
     "output_type": "stream",
     "text": [
      "[[370.28996658]\n",
      " [353.82358638]\n",
      " [  1.        ]]\n",
      "[[ 1.4958097e+03]\n",
      " [-1.1019829e+04]\n",
      " [ 1.0000000e+00]]\n"
     ]
    },
    {
     "data": {
      "text/plain": [
       "array([[109.01327782, 246.80867434, 384.60407087],\n",
       "       [ 84.27731901,  84.22638482,  84.17545063],\n",
       "       [  1.00631427,   1.00315714,   1.        ]])"
      ]
     },
     "execution_count": 9,
     "metadata": {},
     "output_type": "execute_result"
    }
   ],
   "source": [
    "proj_cv = img_projection(pcv, np.array([[10,20,100]]))\n",
    "print(proj_cv)\n",
    "\n",
    "_proj = img_projection(_p,np.array([[10,20,100]]))\n",
    "print(_proj)\n",
    "\n",
    "p = img_projection(_p,obj_p[:3,:])\n",
    "p"
   ]
  },
  {
   "cell_type": "code",
   "execution_count": null,
   "metadata": {},
   "outputs": [],
   "source": []
  },
  {
   "cell_type": "code",
   "execution_count": null,
   "metadata": {},
   "outputs": [],
   "source": []
  },
  {
   "cell_type": "code",
   "execution_count": null,
   "metadata": {},
   "outputs": [],
   "source": []
  },
  {
   "cell_type": "markdown",
   "metadata": {},
   "source": [
    "--------------------------------------"
   ]
  },
  {
   "cell_type": "markdown",
   "metadata": {},
   "source": [
    "---------------------------------------"
   ]
  }
 ],
 "metadata": {
  "kernelspec": {
   "display_name": "Python 3",
   "language": "python",
   "name": "python3"
  },
  "language_info": {
   "codemirror_mode": {
    "name": "ipython",
    "version": 3
   },
   "file_extension": ".py",
   "mimetype": "text/x-python",
   "name": "python",
   "nbconvert_exporter": "python",
   "pygments_lexer": "ipython3",
   "version": "3.6.8"
  }
 },
 "nbformat": 4,
 "nbformat_minor": 2
}
