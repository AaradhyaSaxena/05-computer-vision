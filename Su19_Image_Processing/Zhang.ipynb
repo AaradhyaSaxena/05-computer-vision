{
 "cells": [
  {
   "cell_type": "code",
   "execution_count": null,
   "metadata": {},
   "outputs": [],
   "source": [
    "from steps.parser import parse_data\n",
    "from steps.dlt import compute_homography\n",
    "from steps.intrinsics import get_camera_intrinsics\n",
    "from steps.extrinsics import get_camera_extrinsics\n",
    "from steps.distortion import estimate_lens_distortion\n",
    "from utils.timer import timer\n",
    "\n",
    "\n",
    "def calibrate():\n",
    "    data = parse_data()\n",
    "\n",
    "    end = timer()\n",
    "    homographies = compute_homography(data)\n",
    "    end(\"Homography Estimation\")\n",
    "    print(\"homographies\")\n",
    "    print(homographies)\n",
    "\n",
    "    end = timer()\n",
    "    intrinsics = get_camera_intrinsics(homographies)\n",
    "    end(\"Intrinsics\")\n",
    "\n",
    "    print(\"intrinsics\")\n",
    "    print(intrinsics)\n",
    "\n",
    "    end = timer()\n",
    "    extrinsics = get_camera_extrinsics(intrinsics, homographies)\n",
    "    end(\"Extrinsics\")\n",
    "\n",
    "    print(\"extrinsics\")\n",
    "    print(extrinsics)\n",
    "\n",
    "    end = timer()\n",
    "    distortion = estimate_lens_distortion(\n",
    "        intrinsics,\n",
    "        extrinsics,\n",
    "        data[\"real\"],\n",
    "        data[\"sensed\"]\n",
    "    )\n",
    "    end(\"Distortion\")\n",
    "\n",
    "    return\n",
    "\n",
    "calibrate()"
   ]
  }
 ],
 "metadata": {
  "kernelspec": {
   "display_name": "Python 3",
   "language": "python",
   "name": "python3"
  },
  "language_info": {
   "codemirror_mode": {
    "name": "ipython",
    "version": 3
   },
   "file_extension": ".py",
   "mimetype": "text/x-python",
   "name": "python",
   "nbconvert_exporter": "python",
   "pygments_lexer": "ipython3",
   "version": "3.6.8"
  }
 },
 "nbformat": 4,
 "nbformat_minor": 2
}
