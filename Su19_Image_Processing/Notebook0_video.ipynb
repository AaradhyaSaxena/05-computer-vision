{
 "cells": [
  {
   "cell_type": "code",
   "execution_count": 1,
   "metadata": {},
   "outputs": [],
   "source": [
    "import numpy as np\n",
    "from matplotlib import pyplot as plt\n",
    "import cv2\n",
    "import glob\n",
    "\n",
    "import math\n",
    "from scipy import linalg\n",
    "from numpy.linalg import inv\n",
    "from numpy import linalg as LA\n",
    "from sklearn import linear_model, datasets\n",
    "from function import *"
   ]
  },
  {
   "cell_type": "code",
   "execution_count": 2,
   "metadata": {},
   "outputs": [],
   "source": [
    "# #returns (num_corners,2)\n",
    "# def return_videopoints(image_path=\"./a2.png\"):\n",
    "#     img = cv2.imread(image_path)\n",
    "#     gray = cv2.cvtColor(img,cv2.COLOR_BGR2GRAY)\n",
    "    \n",
    "#     # Find the chess board corners\n",
    "#     ret, corners = cv2.findChessboardCorners(gray, (21,15),None)\n",
    "#     if(ret==False):\n",
    "#         print(\"image/corner doesnt exist\")\n",
    "#     else:\n",
    "#         # termination criteria\n",
    "#         criteria = (cv2.TERM_CRITERIA_EPS + cv2.TERM_CRITERIA_MAX_ITER, 30, 0.001)\n",
    "#         cv2.cornerSubPix(gray,corners,(11,11),(-1,-1),criteria)\n",
    "#         imgpt = np.ones((21*15,2))\n",
    "#         imgpt[:,0] = corners[:,0,0]\n",
    "#         imgpt[:,1] = corners[:,0,1]\n",
    "        \n",
    "#         return imgpt, corners"
   ]
  },
  {
   "cell_type": "code",
   "execution_count": null,
   "metadata": {},
   "outputs": [],
   "source": []
  },
  {
   "cell_type": "code",
   "execution_count": 3,
   "metadata": {},
   "outputs": [],
   "source": [
    "# img_p, corners = return_imagepoints()\n",
    "# obj_p = return_objpoints()\n",
    "\n",
    "# obj_p4 = homo_obj4(obj_p)\n",
    "# obj_p3 = homo_obj3(obj_p)\n",
    "# img_p = homo_img(img_p)\n",
    "\n",
    "# print(\"obj_p3.shape\", obj_p3.shape)\n",
    "# print(\"obj_p4.shape\", obj_p4.shape)\n",
    "# print(\"img_p.shape\", img_p.shape)\n",
    "\n",
    "# # img_p[:2,:].T.shape\n",
    "# # obj_p[:2,:].T.shape\n",
    "# img_p[:2,:].shape\n",
    "\n",
    "# obj_pt3 = obj_p3.T\n",
    "# obj_pt4 = obj_p4.T\n",
    "# img_pt = img_p.T\n",
    "# print(\"obj_pt.shape\", obj_pt3.shape)\n",
    "# print(\"obj_pt.shape\", obj_pt4.shape)\n",
    "# print(\"img_pt.shape\", img_pt.shape)\n",
    "\n",
    "# _p = projection_matrix4(img_pt,obj_pt4)\n",
    "# print(_p,\"\\n\")"
   ]
  },
  {
   "cell_type": "code",
   "execution_count": 4,
   "metadata": {},
   "outputs": [],
   "source": [
    "# prepare object points, like (0,0,0), (1,0,0), (2,0,0) ....,(6,5,0)\n",
    "grid_x=21\n",
    "grid_y=15\n",
    "grid=(grid_x,grid_y)\n"
   ]
  },
  {
   "cell_type": "code",
   "execution_count": 5,
   "metadata": {},
   "outputs": [
    {
     "name": "stdout",
     "output_type": "stream",
     "text": [
      "image/corner doesnt exist\n"
     ]
    },
    {
     "ename": "TypeError",
     "evalue": "'NoneType' object is not subscriptable",
     "output_type": "error",
     "traceback": [
      "\u001b[1;31m---------------------------------------------------------------------------\u001b[0m",
      "\u001b[1;31mTypeError\u001b[0m                                 Traceback (most recent call last)",
      "\u001b[1;32m<ipython-input-5-e033f6f0c8bc>\u001b[0m in \u001b[0;36m<module>\u001b[1;34m\u001b[0m\n\u001b[0;32m     18\u001b[0m     \u001b[0mcv2\u001b[0m\u001b[1;33m.\u001b[0m\u001b[0mdrawChessboardCorners\u001b[0m\u001b[1;33m(\u001b[0m\u001b[0mgray\u001b[0m\u001b[1;33m,\u001b[0m \u001b[0mgrid\u001b[0m\u001b[1;33m,\u001b[0m \u001b[0mcorners\u001b[0m\u001b[1;33m,\u001b[0m\u001b[1;32mTrue\u001b[0m\u001b[1;33m)\u001b[0m\u001b[1;33m\u001b[0m\u001b[1;33m\u001b[0m\u001b[0m\n\u001b[0;32m     19\u001b[0m \u001b[1;33m\u001b[0m\u001b[0m\n\u001b[1;32m---> 20\u001b[1;33m     \u001b[0mP\u001b[0m \u001b[1;33m=\u001b[0m \u001b[0mprojection_matrix4\u001b[0m\u001b[1;33m(\u001b[0m\u001b[0mimg_pt\u001b[0m\u001b[1;33m,\u001b[0m\u001b[0mobj_pt3x4\u001b[0m\u001b[1;33m)\u001b[0m\u001b[1;33m\u001b[0m\u001b[1;33m\u001b[0m\u001b[0m\n\u001b[0m\u001b[0;32m     21\u001b[0m \u001b[1;33m\u001b[0m\u001b[0m\n\u001b[0;32m     22\u001b[0m     \u001b[0mproj_px\u001b[0m \u001b[1;33m=\u001b[0m \u001b[0mimg_projection\u001b[0m\u001b[1;33m(\u001b[0m\u001b[0mP\u001b[0m\u001b[1;33m,\u001b[0m \u001b[0mnp\u001b[0m\u001b[1;33m.\u001b[0m\u001b[0marray\u001b[0m\u001b[1;33m(\u001b[0m\u001b[1;33m[\u001b[0m\u001b[1;33m[\u001b[0m\u001b[1;36m0\u001b[0m\u001b[1;33m,\u001b[0m\u001b[1;36m0\u001b[0m\u001b[1;33m,\u001b[0m\u001b[1;36m0\u001b[0m\u001b[1;33m]\u001b[0m\u001b[1;33m,\u001b[0m\u001b[1;33m[\u001b[0m\u001b[1;36m0\u001b[0m\u001b[1;33m,\u001b[0m\u001b[1;36m0\u001b[0m\u001b[1;33m,\u001b[0m\u001b[1;36m10\u001b[0m\u001b[1;33m]\u001b[0m\u001b[1;33m,\u001b[0m\u001b[1;33m[\u001b[0m\u001b[1;36m10\u001b[0m\u001b[1;33m,\u001b[0m\u001b[1;36m0\u001b[0m\u001b[1;33m,\u001b[0m\u001b[1;36m0\u001b[0m\u001b[1;33m]\u001b[0m\u001b[1;33m,\u001b[0m\u001b[1;33m[\u001b[0m\u001b[1;36m0\u001b[0m\u001b[1;33m,\u001b[0m\u001b[1;36m10\u001b[0m\u001b[1;33m,\u001b[0m\u001b[1;36m0\u001b[0m\u001b[1;33m]\u001b[0m\u001b[1;33m]\u001b[0m\u001b[1;33m)\u001b[0m\u001b[1;33m)\u001b[0m\u001b[1;33m\u001b[0m\u001b[1;33m\u001b[0m\u001b[0m\n",
      "\u001b[1;32m~\\05_computer-vision\\Su19_Image_Processing\\function.py\u001b[0m in \u001b[0;36mprojection_matrix4\u001b[1;34m(img_p, obj_p)\u001b[0m\n\u001b[0;32m     56\u001b[0m \u001b[1;33m\u001b[0m\u001b[0m\n\u001b[0;32m     57\u001b[0m     \u001b[1;32mfor\u001b[0m \u001b[0mi\u001b[0m \u001b[1;32min\u001b[0m \u001b[0mrange\u001b[0m\u001b[1;33m(\u001b[0m\u001b[0mobj_p\u001b[0m\u001b[1;33m.\u001b[0m\u001b[0mshape\u001b[0m\u001b[1;33m[\u001b[0m\u001b[1;36m0\u001b[0m\u001b[1;33m]\u001b[0m\u001b[1;33m)\u001b[0m\u001b[1;33m:\u001b[0m\u001b[1;33m\u001b[0m\u001b[1;33m\u001b[0m\u001b[0m\n\u001b[1;32m---> 58\u001b[1;33m         C.append(np.array([obj_p[i,0], obj_p[i,1], obj_p[i,2],1,0,0,0,0,(-1)*obj_p[i,0]*img_p[i,0], \n\u001b[0m\u001b[0;32m     59\u001b[0m                            (-1)*obj_p[i,1]*img_p[i,0],(-1)*obj_p[i,2]*img_p[i,0], (-1)*img_p[i,0]]))\n\u001b[0;32m     60\u001b[0m \u001b[1;33m\u001b[0m\u001b[0m\n",
      "\u001b[1;31mTypeError\u001b[0m: 'NoneType' object is not subscriptable"
     ]
    }
   ],
   "source": [
    "objpoints = [] \n",
    "imgpoints = []\n",
    "\n",
    "cap = cv2.VideoCapture(0)\n",
    " \n",
    "while(True):\n",
    "    ret, frame = cap.read()\n",
    "    gray = cv2.cvtColor(frame, cv2.COLOR_BGR2GRAY)\n",
    "\n",
    "    obj_pt3x4 = return_objpoints(grid)\n",
    "    ret,img_pt, corners = return_imgGreypoints(gray,grid)\n",
    "    if(ret):\n",
    "        cv2.imshow('frame',gray)\n",
    "        if cv2.waitKey(10) & 0xFF == ord('q'):\n",
    "            break\n",
    "        continue\n",
    "        \n",
    "    cv2.drawChessboardCorners(gray, grid, corners,True)\n",
    "    \n",
    "    P = projection_matrix4(img_pt,obj_pt3x4)\n",
    "    \n",
    "    proj_px = img_projection(P, np.array([[0,0,0],[0,0,10],[10,0,0],[0,10,0]]))\n",
    "    proj_px = np.clip(proj_px/proj_px[2],0,1000)   \n",
    "    print(proj_px)\n",
    "    cv2.line(gray,(int(proj_px[0,0]),int(proj_px[1,0])),(int(proj_px[0,1]),int(proj_px[1,1])),(0,255,0),5)\n",
    "    cv2.line(gray,(int(proj_px[0,2]),int(proj_px[1,2])),(int(proj_px[0,0]),int(proj_px[1,0])),(0,255,0),5)\n",
    "    cv2.line(gray,(int(proj_px[0,3]),int(proj_px[1,3])),(int(proj_px[0,0]),int(proj_px[1,0])),(0,255,0),5)\n",
    "    cv2.imshow('frame',gray)\n",
    "\n",
    "    if cv2.waitKey(10) & 0xFF == ord('q'):\n",
    "        break\n",
    "   \n",
    "      \n",
    "\n",
    "#         # Draw and display the corners\n",
    "#         cv2.drawChessboardCorners(gray, (8,6), corners,ret)\n",
    "        \n",
    "#         proj_cv = img_projection(_p, np.array([[0,0,0],[0,0,10],[10,0,0],[0,10,0]]))\n",
    "#         proj_cv = np.clip(proj_cv/proj_cv[2],0,1000)\n",
    "        \n",
    "#         print(proj_cv)\n",
    "#         cv2.line(gray,(int(proj_cv[0,0]),int(proj_cv[1,0])),(int(proj_cv[0,1]),int(proj_cv[1,1])),(0,255,0),5)\n",
    "#         cv2.line(gray,(int(proj_cv[0,2]),int(proj_cv[1,2])),(int(proj_cv[0,0]),int(proj_cv[1,0])),(0,255,0),5)\n",
    "#         cv2.line(gray,(int(proj_cv[0,3]),int(proj_cv[1,3])),(int(proj_cv[0,0]),int(proj_cv[1,0])),(0,255,0),5)\n",
    "#         # cv2.line(img,(int(proj_cv[0,4]),int(proj_cv[1,4])),(int(proj_cv[0,1]),int(proj_cv[1,1])),(0,255,0),5)\n",
    "#         # cv2.line(img,(int(proj_cv[0,3]),int(proj_cv[1,3])),(int(proj_cv[0,4]),int(proj_cv[1,4])),(0,255,0),5)\n",
    "# #         plt.imshow(gray)\n",
    "\n",
    "#         cv2.imshow('frame',gray)\n",
    "#         if cv2.waitKey(10) & 0xFF == ord('q'):\n",
    "#             break\n",
    "\n",
    "cap.release()\n",
    "cv2.destroyAllWindows()"
   ]
  },
  {
   "cell_type": "code",
   "execution_count": null,
   "metadata": {},
   "outputs": [],
   "source": [
    "    ret, frame = cap.read()\n",
    "    gray = cv2.cvtColor(frame, cv2.COLOR_BGR2GRAY)\n",
    "\n",
    "    obj_pt3x4 = return_objpoints(grid)\n",
    "    ret,img_pt, corners = return_imgGreypoints(gray,grid)"
   ]
  },
  {
   "cell_type": "code",
   "execution_count": null,
   "metadata": {},
   "outputs": [],
   "source": [
    "cap.release()\n",
    "cv2.destroyAllWindows()"
   ]
  },
  {
   "cell_type": "code",
   "execution_count": null,
   "metadata": {},
   "outputs": [],
   "source": [
    "while(True):\n",
    "    ret, frame = cap.read()\n",
    "    gray = cv2.cvtColor(frame, cv2.COLOR_BGR2GRAY)\n",
    "\n",
    "    obj_pt3x4 = return_objpoints(grid)\n",
    "    ret,img_pt, corners = return_imgGreypoints(gray,grid)\n",
    "    if(ret):\n",
    "        cv2.imshow('frame',gray)\n",
    "        if cv2.waitKey(10) & 0xFF == ord('q'):\n",
    "            break\n",
    "        continue"
   ]
  },
  {
   "cell_type": "code",
   "execution_count": null,
   "metadata": {},
   "outputs": [],
   "source": [
    "img = cv2.imread(\"./a.png\")\n",
    "gray = cv2.cvtColor(img,cv2.COLOR_BGR2GRAY)\n",
    "\n",
    "ret, mtx, dist, rvecs, tvecs = cv2.calibrateCamera(objpoints, imgpoints, gray.shape[::-1],None,None)\n",
    "\n",
    "rx = [[1,0,0],[0,math.cos(rvecs[0][0]),math.sin(rvecs[0][0])],[0,(-1)*math.sin(rvecs[0][0]),math.cos(rvecs[0][0])]]\n",
    "\n",
    "ry = [[math.cos(rvecs[0][1]),0,math.sin(rvecs[0][1])],[0,1,0],[(-1)*math.sin(rvecs[0][1]),0,math.cos(rvecs[0][1])]]\n",
    "\n",
    "rz = [[math.cos(rvecs[0][2]),math.sin(rvecs[0][2]),0],[(-1)*math.sin(rvecs[0][2]),math.cos(rvecs[0][2]),0],[0,0,1]]\n",
    "\n",
    "R1 = np.matmul(rx,ry)\n",
    "R = np.matmul(R1,rz)\n",
    "print(\"rotation_matrix\",R)\n",
    "print(\"tvecs\",tvecs)\n",
    "\n",
    "m = np.ones((3,4))\n",
    "m[:,:3] = R\n",
    "m[:,[3]]= np.array(tvecs)\n",
    "\n",
    "cv_homography = np.matmul(mtx,m)\n",
    "\n",
    "pcv = cv_homography/cv_homography[-1,-1]\n",
    "\n",
    "p = projection_matrix_direct(img_pt,obj_pt3)\n",
    "print(p,\"\\n\")\n",
    "\n",
    "p_ = projection_matrix3(img_pt,obj_pt3)\n",
    "print(p_,\"\\n\")\n",
    "\n",
    "_p = projection_matrix4(img_pt,obj_pt4)\n",
    "print(_p,\"\\n\")\n",
    "\n",
    "print(pcv)"
   ]
  },
  {
   "cell_type": "code",
   "execution_count": null,
   "metadata": {},
   "outputs": [],
   "source": [
    "    ret, frame = cap.read()\n",
    "    gray = cv2.cvtColor(frame, cv2.COLOR_BGR2GRAY)\n",
    "\n",
    "    obj_pt3x4 = return_objpoints(grid)\n",
    "    ret,img_pt, corners = return_imgGreypoints(gray,grid)\n"
   ]
  },
  {
   "cell_type": "code",
   "execution_count": null,
   "metadata": {},
   "outputs": [],
   "source": [
    "ret"
   ]
  },
  {
   "cell_type": "code",
   "execution_count": null,
   "metadata": {},
   "outputs": [],
   "source": [
    "proj_cv = img_projection(pcv, np.array([[10,20,100]]))\n",
    "print(proj_cv,'\\n')\n",
    "\n",
    "_proj = img_projection(_p,np.array([[10,20,100]]))\n",
    "print(_proj,'\\n')\n",
    "\n",
    "p = img_projection(_p,obj_p[:5,:])\n",
    "print(p,'\\n')\n",
    "\n",
    "print(img_p[:,:5],'\\n')"
   ]
  },
  {
   "cell_type": "code",
   "execution_count": null,
   "metadata": {},
   "outputs": [],
   "source": []
  },
  {
   "cell_type": "code",
   "execution_count": null,
   "metadata": {},
   "outputs": [],
   "source": []
  },
  {
   "cell_type": "code",
   "execution_count": null,
   "metadata": {},
   "outputs": [],
   "source": []
  },
  {
   "cell_type": "code",
   "execution_count": null,
   "metadata": {},
   "outputs": [],
   "source": []
  },
  {
   "cell_type": "code",
   "execution_count": null,
   "metadata": {},
   "outputs": [],
   "source": []
  },
  {
   "cell_type": "code",
   "execution_count": null,
   "metadata": {},
   "outputs": [],
   "source": []
  },
  {
   "cell_type": "code",
   "execution_count": null,
   "metadata": {},
   "outputs": [],
   "source": []
  },
  {
   "cell_type": "code",
   "execution_count": null,
   "metadata": {},
   "outputs": [],
   "source": []
  },
  {
   "cell_type": "code",
   "execution_count": null,
   "metadata": {},
   "outputs": [],
   "source": []
  },
  {
   "cell_type": "code",
   "execution_count": null,
   "metadata": {},
   "outputs": [],
   "source": []
  },
  {
   "cell_type": "code",
   "execution_count": null,
   "metadata": {},
   "outputs": [],
   "source": []
  },
  {
   "cell_type": "code",
   "execution_count": null,
   "metadata": {},
   "outputs": [],
   "source": []
  },
  {
   "cell_type": "code",
   "execution_count": null,
   "metadata": {},
   "outputs": [],
   "source": []
  },
  {
   "cell_type": "code",
   "execution_count": null,
   "metadata": {},
   "outputs": [],
   "source": []
  },
  {
   "cell_type": "code",
   "execution_count": null,
   "metadata": {},
   "outputs": [],
   "source": []
  },
  {
   "cell_type": "code",
   "execution_count": null,
   "metadata": {},
   "outputs": [],
   "source": []
  },
  {
   "cell_type": "code",
   "execution_count": null,
   "metadata": {},
   "outputs": [],
   "source": []
  },
  {
   "cell_type": "code",
   "execution_count": null,
   "metadata": {},
   "outputs": [],
   "source": []
  },
  {
   "cell_type": "code",
   "execution_count": null,
   "metadata": {},
   "outputs": [],
   "source": []
  },
  {
   "cell_type": "code",
   "execution_count": null,
   "metadata": {},
   "outputs": [],
   "source": []
  },
  {
   "cell_type": "code",
   "execution_count": null,
   "metadata": {},
   "outputs": [],
   "source": []
  },
  {
   "cell_type": "code",
   "execution_count": null,
   "metadata": {},
   "outputs": [],
   "source": []
  },
  {
   "cell_type": "code",
   "execution_count": null,
   "metadata": {},
   "outputs": [],
   "source": []
  },
  {
   "cell_type": "code",
   "execution_count": null,
   "metadata": {},
   "outputs": [],
   "source": []
  },
  {
   "cell_type": "code",
   "execution_count": null,
   "metadata": {},
   "outputs": [],
   "source": []
  },
  {
   "cell_type": "code",
   "execution_count": null,
   "metadata": {},
   "outputs": [],
   "source": []
  },
  {
   "cell_type": "code",
   "execution_count": null,
   "metadata": {},
   "outputs": [],
   "source": []
  },
  {
   "cell_type": "code",
   "execution_count": null,
   "metadata": {},
   "outputs": [],
   "source": []
  },
  {
   "cell_type": "code",
   "execution_count": null,
   "metadata": {},
   "outputs": [],
   "source": []
  },
  {
   "cell_type": "code",
   "execution_count": null,
   "metadata": {},
   "outputs": [],
   "source": []
  },
  {
   "cell_type": "code",
   "execution_count": null,
   "metadata": {},
   "outputs": [],
   "source": []
  },
  {
   "cell_type": "code",
   "execution_count": null,
   "metadata": {},
   "outputs": [],
   "source": []
  },
  {
   "cell_type": "code",
   "execution_count": null,
   "metadata": {},
   "outputs": [],
   "source": []
  },
  {
   "cell_type": "code",
   "execution_count": null,
   "metadata": {},
   "outputs": [],
   "source": []
  },
  {
   "cell_type": "code",
   "execution_count": null,
   "metadata": {},
   "outputs": [],
   "source": []
  },
  {
   "cell_type": "code",
   "execution_count": null,
   "metadata": {},
   "outputs": [],
   "source": []
  },
  {
   "cell_type": "code",
   "execution_count": null,
   "metadata": {},
   "outputs": [],
   "source": []
  },
  {
   "cell_type": "code",
   "execution_count": null,
   "metadata": {},
   "outputs": [],
   "source": []
  },
  {
   "cell_type": "code",
   "execution_count": null,
   "metadata": {},
   "outputs": [],
   "source": []
  },
  {
   "cell_type": "code",
   "execution_count": null,
   "metadata": {},
   "outputs": [],
   "source": []
  },
  {
   "cell_type": "code",
   "execution_count": null,
   "metadata": {},
   "outputs": [],
   "source": []
  },
  {
   "cell_type": "code",
   "execution_count": null,
   "metadata": {},
   "outputs": [],
   "source": []
  },
  {
   "cell_type": "code",
   "execution_count": null,
   "metadata": {},
   "outputs": [],
   "source": []
  },
  {
   "cell_type": "code",
   "execution_count": null,
   "metadata": {},
   "outputs": [],
   "source": []
  },
  {
   "cell_type": "code",
   "execution_count": null,
   "metadata": {},
   "outputs": [],
   "source": []
  },
  {
   "cell_type": "code",
   "execution_count": null,
   "metadata": {},
   "outputs": [],
   "source": []
  },
  {
   "cell_type": "code",
   "execution_count": null,
   "metadata": {},
   "outputs": [],
   "source": []
  },
  {
   "cell_type": "code",
   "execution_count": null,
   "metadata": {},
   "outputs": [],
   "source": []
  },
  {
   "cell_type": "code",
   "execution_count": null,
   "metadata": {},
   "outputs": [],
   "source": []
  }
 ],
 "metadata": {
  "kernelspec": {
   "display_name": "Python 3",
   "language": "python",
   "name": "python3"
  },
  "language_info": {
   "codemirror_mode": {
    "name": "ipython",
    "version": 3
   },
   "file_extension": ".py",
   "mimetype": "text/x-python",
   "name": "python",
   "nbconvert_exporter": "python",
   "pygments_lexer": "ipython3",
   "version": "3.6.8"
  }
 },
 "nbformat": 4,
 "nbformat_minor": 2
}
