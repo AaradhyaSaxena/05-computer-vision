{
 "cells": [
  {
   "cell_type": "code",
   "execution_count": 1,
   "metadata": {},
   "outputs": [],
   "source": [
    "import numpy as np\n",
    "from matplotlib import pyplot as plt\n",
    "import cv2\n",
    "import glob\n",
    "\n",
    "import math\n",
    "from scipy import linalg\n",
    "from numpy.linalg import inv\n",
    "from sklearn import linear_model, datasets\n",
    "from function import *"
   ]
  },
  {
   "cell_type": "code",
   "execution_count": 2,
   "metadata": {},
   "outputs": [],
   "source": [
    "img_p = return_imagepoints()\n",
    "obj_p = return_objpoints()\n",
    "p = projection_matrix(img_p,obj_p)\n"
   ]
  },
  {
   "cell_type": "code",
   "execution_count": 3,
   "metadata": {},
   "outputs": [],
   "source": [
    "def return_obj_transformed(projection_matrix, image_path):\n",
    "    \n",
    "    imgp1 = return_imagepoints(image_path)\n",
    "    imgp = np.ones((315,3))\n",
    "    imgp[:,0] = imgp1[:,0]\n",
    "    imgp[:,1] = imgp1[:,1]\n",
    "    imgp = imgp.T   \n",
    "    \n",
    "    kinv = inv(projection_matrix)\n",
    "    obj_transformed = np.matmul(kinv, imgp)\n",
    "    \n",
    "    return obj_transformed"
   ]
  },
  {
   "cell_type": "code",
   "execution_count": 4,
   "metadata": {},
   "outputs": [],
   "source": [
    "# objk = return_obj_transformed(p, image_path=\"./a.png\")\n",
    "# objk"
   ]
  },
  {
   "cell_type": "code",
   "execution_count": 6,
   "metadata": {},
   "outputs": [
    {
     "data": {
      "text/plain": [
       "(3, 315)"
      ]
     },
     "execution_count": 6,
     "metadata": {},
     "output_type": "execute_result"
    }
   ],
   "source": [
    "image_path=\"./a.png\"\n",
    "imgp1 = return_imagepoints(image_path)\n",
    "imgp = np.ones((315,3))\n",
    "imgp[:,0] = imgp1[:,0]\n",
    "imgp[:,1] = imgp1[:,1]\n",
    "imgp = imgp.T\n",
    "\n",
    "kinv = inv(p)\n",
    "obj_transformed = np.matmul(kinv, imgp)\n",
    "obj_transformed.shape\n",
    "# imgp"
   ]
  },
  {
   "cell_type": "code",
   "execution_count": null,
   "metadata": {},
   "outputs": [],
   "source": []
  },
  {
   "cell_type": "code",
   "execution_count": null,
   "metadata": {},
   "outputs": [],
   "source": []
  },
  {
   "cell_type": "code",
   "execution_count": null,
   "metadata": {},
   "outputs": [],
   "source": []
  },
  {
   "cell_type": "code",
   "execution_count": null,
   "metadata": {},
   "outputs": [],
   "source": []
  },
  {
   "cell_type": "code",
   "execution_count": null,
   "metadata": {},
   "outputs": [],
   "source": []
  },
  {
   "cell_type": "code",
   "execution_count": null,
   "metadata": {},
   "outputs": [],
   "source": []
  },
  {
   "cell_type": "code",
   "execution_count": 7,
   "metadata": {},
   "outputs": [],
   "source": [
    "#takes input image shape=(num_points,2); obj shape=(num_points,3)\n",
    "def projection_matrix(imgp1, objp):\n",
    "\n",
    "    imgp = np.ones((315,3))\n",
    "    imgp[:,0] = imgp1[:,0]\n",
    "    imgp[:,1] = imgp1[:,1]\n",
    "    imgp = imgp.T\n",
    "\n",
    "    objp = (objp.T).reshape((3,315))\n",
    "    obj = np.ones((3,315))\n",
    "    obj[:2,:] = objp[:2,:]\n",
    "    \n",
    "    ab = np.matmul(obj,obj.T)\n",
    "    abinv = inv(ab)\n",
    "    abc = np.matmul(obj.T,abinv)\n",
    "    camera_matrix = np.matmul(imgp,abc)\n",
    "    \n",
    "    return camera_matrix"
   ]
  },
  {
   "cell_type": "code",
   "execution_count": 8,
   "metadata": {},
   "outputs": [],
   "source": [
    "#returns (num_corners,2)\n",
    "def return_imagepoints(image_path=\"./a.png\"):\n",
    "    img = cv2.imread(image_path)\n",
    "    gray = cv2.cvtColor(img,cv2.COLOR_BGR2GRAY)\n",
    "    \n",
    "    # Find the chess board corners\n",
    "    ret, corners = cv2.findChessboardCorners(gray, (21,15),None)\n",
    "    if(ret==False):\n",
    "        print(\"image/corner doesnt exist\")\n",
    "    else:\n",
    "        # termination criteria\n",
    "        criteria = (cv2.TERM_CRITERIA_EPS + cv2.TERM_CRITERIA_MAX_ITER, 30, 0.001)\n",
    "        cv2.cornerSubPix(gray,corners,(11,11),(-1,-1),criteria)\n",
    "        imgpt = np.ones((21*15,2))\n",
    "        imgpt[:,0] = corners[:,0,0]\n",
    "        imgpt[:,1] = corners[:,0,1]\n",
    "        \n",
    "        return imgpt"
   ]
  },
  {
   "cell_type": "code",
   "execution_count": 9,
   "metadata": {},
   "outputs": [],
   "source": [
    "#returns (num_obj,3)\n",
    "def return_objpoints():\n",
    "    objp = np.zeros((21*15,3), np.float32)\n",
    "    objp[:,:2] = np.mgrid[0:21,0:15].T.reshape(-1,2)\n",
    "\n",
    "    return objp"
   ]
  },
  {
   "cell_type": "code",
   "execution_count": 11,
   "metadata": {
    "scrolled": true
   },
   "outputs": [
    {
     "data": {
      "text/plain": [
       "array([[ 2.35641141e+01, -1.13180327e-01,  1.07795469e+02],\n",
       "       [ 1.24120961e-01,  2.34434472e+01,  8.29785775e+01],\n",
       "       [ 2.21177243e-17, -6.93889390e-17,  1.00000000e+00]])"
      ]
     },
     "execution_count": 11,
     "metadata": {},
     "output_type": "execute_result"
    }
   ],
   "source": [
    "img_p = return_imagepoints()\n",
    "obj_p = return_objpoints()\n",
    "p = projection_matrix(img_p,obj_p)\n",
    "p"
   ]
  },
  {
   "cell_type": "code",
   "execution_count": null,
   "metadata": {},
   "outputs": [],
   "source": []
  },
  {
   "cell_type": "code",
   "execution_count": null,
   "metadata": {},
   "outputs": [],
   "source": []
  },
  {
   "cell_type": "code",
   "execution_count": null,
   "metadata": {},
   "outputs": [],
   "source": []
  },
  {
   "cell_type": "code",
   "execution_count": null,
   "metadata": {},
   "outputs": [],
   "source": []
  }
 ],
 "metadata": {
  "kernelspec": {
   "display_name": "Python 3",
   "language": "python",
   "name": "python3"
  },
  "language_info": {
   "codemirror_mode": {
    "name": "ipython",
    "version": 3
   },
   "file_extension": ".py",
   "mimetype": "text/x-python",
   "name": "python",
   "nbconvert_exporter": "python",
   "pygments_lexer": "ipython3",
   "version": "3.6.8"
  }
 },
 "nbformat": 4,
 "nbformat_minor": 2
}
