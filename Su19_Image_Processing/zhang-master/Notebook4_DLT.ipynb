{
 "cells": [
  {
   "cell_type": "code",
   "execution_count": 1,
   "metadata": {},
   "outputs": [],
   "source": [
    "import numpy as np\n",
    "from scipy import optimize as opt\n",
    "from matplotlib import pyplot as plt\n",
    "import cv2\n",
    "import glob\n",
    "\n",
    "import math\n",
    "from scipy import linalg\n",
    "from numpy.linalg import inv\n",
    "from sklearn import linear_model, datasets"
   ]
  },
  {
   "cell_type": "code",
   "execution_count": 2,
   "metadata": {},
   "outputs": [],
   "source": [
    "# prepare object points, like (0,0,0), (1,0,0), (2,0,0) ....,(6,5,0)\n",
    "objp = np.zeros((15*21,3), np.float32)\n",
    "objp[:,:2] = np.mgrid[0:21,0:15].T.reshape(-1,2)"
   ]
  },
  {
   "cell_type": "code",
   "execution_count": 3,
   "metadata": {},
   "outputs": [
    {
     "data": {
      "text/plain": [
       "(315, 3)"
      ]
     },
     "execution_count": 3,
     "metadata": {},
     "output_type": "execute_result"
    }
   ],
   "source": [
    "objp.shape"
   ]
  },
  {
   "cell_type": "code",
   "execution_count": 6,
   "metadata": {},
   "outputs": [],
   "source": [
    "# Arrays to store object points and image points from all the images.\n",
    "objpoints = [] # 3d point in real world space\n",
    "imgpoints = [] # 2d points in image plane.\n",
    "\n",
    "images = glob.glob('a.png')\n",
    "\n",
    "for fname in images:\n",
    "    img = cv2.imread(fname)\n",
    "    gray = cv2.cvtColor(img,cv2.COLOR_BGR2GRAY)\n",
    "    \n",
    "    # Find the chess board corners\n",
    "    ret, corners = cv2.findChessboardCorners(gray, (21,15),None)\n",
    "\n",
    "    # If found, add object points, image points (after refining them)\n",
    "    if ret == True:\n",
    "        \n",
    "        # termination criteria\n",
    "        criteria = (cv2.TERM_CRITERIA_EPS + cv2.TERM_CRITERIA_MAX_ITER, 30, 0.001)\n",
    "        \n",
    "        objpoints.append(objp)\n",
    "        cv2.cornerSubPix(gray,corners,(11,11),(-1,-1),criteria)\n",
    "        imgpoints.append(corners)\n",
    "\n",
    "        # Draw and display the corners\n",
    "        cv2.drawChessboardCorners(img, (21,15), corners,ret)\n",
    "        cv2.imshow('img',img)\n",
    "        cv2.waitKey(5000)\n",
    "    \n",
    "cv2.destroyAllWindows()"
   ]
  },
  {
   "cell_type": "code",
   "execution_count": 5,
   "metadata": {},
   "outputs": [
    {
     "ename": "NameError",
     "evalue": "name 'corners' is not defined",
     "output_type": "error",
     "traceback": [
      "\u001b[1;31m---------------------------------------------------------------------------\u001b[0m",
      "\u001b[1;31mNameError\u001b[0m                                 Traceback (most recent call last)",
      "\u001b[1;32m<ipython-input-5-0f1214cb2b1f>\u001b[0m in \u001b[0;36m<module>\u001b[1;34m\u001b[0m\n\u001b[1;32m----> 1\u001b[1;33m \u001b[0mprint\u001b[0m\u001b[1;33m(\u001b[0m\u001b[0mcorners\u001b[0m\u001b[1;33m.\u001b[0m\u001b[0mshape\u001b[0m\u001b[1;33m)\u001b[0m\u001b[1;33m\u001b[0m\u001b[1;33m\u001b[0m\u001b[0m\n\u001b[0m",
      "\u001b[1;31mNameError\u001b[0m: name 'corners' is not defined"
     ]
    }
   ],
   "source": [
    "print(corners.shape)"
   ]
  },
  {
   "cell_type": "code",
   "execution_count": null,
   "metadata": {},
   "outputs": [],
   "source": [
    "imgp = np.ones((3,315))\n",
    "\n",
    "imgp1 = np.array(imgpoints)\n",
    "imgp1 = imgp1.reshape((2,315))\n",
    "imgp[:2,:] = imgp1\n",
    "print(imgp.shape)\n",
    "\n",
    "objp = objp.T\n",
    "print(objp.shape)\n",
    "obj = np.ones((4,315))\n",
    "obj[:3,:] = objp"
   ]
  },
  {
   "cell_type": "code",
   "execution_count": null,
   "metadata": {},
   "outputs": [],
   "source": [
    "obj"
   ]
  },
  {
   "cell_type": "code",
   "execution_count": null,
   "metadata": {},
   "outputs": [],
   "source": [
    "imgp"
   ]
  },
  {
   "cell_type": "code",
   "execution_count": null,
   "metadata": {},
   "outputs": [],
   "source": []
  },
  {
   "cell_type": "code",
   "execution_count": null,
   "metadata": {},
   "outputs": [],
   "source": []
  },
  {
   "cell_type": "code",
   "execution_count": null,
   "metadata": {},
   "outputs": [],
   "source": []
  },
  {
   "cell_type": "code",
   "execution_count": null,
   "metadata": {},
   "outputs": [],
   "source": []
  },
  {
   "cell_type": "code",
   "execution_count": null,
   "metadata": {},
   "outputs": [],
   "source": []
  },
  {
   "cell_type": "code",
   "execution_count": null,
   "metadata": {},
   "outputs": [],
   "source": []
  },
  {
   "cell_type": "code",
   "execution_count": null,
   "metadata": {},
   "outputs": [],
   "source": []
  },
  {
   "cell_type": "code",
   "execution_count": null,
   "metadata": {},
   "outputs": [],
   "source": []
  },
  {
   "cell_type": "code",
   "execution_count": null,
   "metadata": {},
   "outputs": [],
   "source": []
  },
  {
   "cell_type": "code",
   "execution_count": null,
   "metadata": {},
   "outputs": [],
   "source": []
  },
  {
   "cell_type": "code",
   "execution_count": null,
   "metadata": {},
   "outputs": [],
   "source": []
  },
  {
   "cell_type": "code",
   "execution_count": null,
   "metadata": {},
   "outputs": [],
   "source": []
  },
  {
   "cell_type": "code",
   "execution_count": 87,
   "metadata": {},
   "outputs": [],
   "source": [
    "real = [[1,1],[2,3],[4,5]]\n",
    "real = np.array(real)\n",
    "sensed = [[100,200],[200,360],[400,600]]\n",
    "sensed = np.array(sensed)"
   ]
  },
  {
   "cell_type": "code",
   "execution_count": 84,
   "metadata": {},
   "outputs": [],
   "source": [
    "def get_normalisation_matrix(flattened_corners):\n",
    "#     end = timer()\n",
    "\n",
    "    avg_x = flattened_corners[:, 0].mean()\n",
    "    avg_y = flattened_corners[:, 1].mean()\n",
    "\n",
    "    s_x = np.sqrt(2 / flattened_corners[:,0].std())\n",
    "    s_y = np.sqrt(2 / flattened_corners[:,1].std())\n",
    "\n",
    "#     end(\"get_normalization_matrix\")\n",
    "    return np.matrix([\n",
    "        [s_x,   0,   -s_x * avg_x],\n",
    "        [0,   s_y,   -s_y * avg_y],\n",
    "        [0,     0,              1]\n",
    "    ])"
   ]
  },
  {
   "cell_type": "code",
   "execution_count": 89,
   "metadata": {},
   "outputs": [
    {
     "data": {
      "text/plain": [
       "matrix([[ 1.26632044,  0.        , -2.95474769],\n",
       "        [ 0.        ,  1.10668192, -3.32004576],\n",
       "        [ 0.        ,  0.        ,  1.        ]])"
      ]
     },
     "execution_count": 89,
     "metadata": {},
     "output_type": "execute_result"
    }
   ],
   "source": [
    "first_normalisation_matrix = get_normalisation_matrix(real)\n",
    "first_normalisation_matrix"
   ]
  },
  {
   "cell_type": "code",
   "execution_count": 90,
   "metadata": {
    "scrolled": false
   },
   "outputs": [
    {
     "data": {
      "text/plain": [
       "matrix([[  0.12663204,   0.        , -29.54747688],\n",
       "        [  0.        ,   0.11030234, -42.65023879],\n",
       "        [  0.        ,   0.        ,   1.        ]])"
      ]
     },
     "execution_count": 90,
     "metadata": {},
     "output_type": "execute_result"
    }
   ],
   "source": [
    "second_normalisation_matrix = get_normalisation_matrix(sensed)\n",
    "second_normalisation_matrix"
   ]
  },
  {
   "cell_type": "code",
   "execution_count": 91,
   "metadata": {},
   "outputs": [
    {
     "data": {
      "text/plain": [
       "array([[1, 1],\n",
       "       [2, 3],\n",
       "       [4, 5]])"
      ]
     },
     "execution_count": 91,
     "metadata": {},
     "output_type": "execute_result"
    }
   ],
   "source": [
    "real"
   ]
  },
  {
   "cell_type": "code",
   "execution_count": 103,
   "metadata": {},
   "outputs": [
    {
     "name": "stdout",
     "output_type": "stream",
     "text": [
      "[[1. 1. 1.]\n",
      " [2. 3. 1.]\n",
      " [4. 5. 1.]]\n",
      "[[100. 200.   1.]\n",
      " [200. 360.   1.]\n",
      " [400. 600.   1.]]\n"
     ]
    }
   ],
   "source": [
    "fnm = np.ones((3,3))\n",
    "fnm[:,:2] = real\n",
    "print(fnm)\n",
    "snm = np.ones((3,3))\n",
    "snm[:,:2] = sensed\n",
    "print(snm)"
   ]
  },
  {
   "cell_type": "code",
   "execution_count": 112,
   "metadata": {
    "scrolled": false
   },
   "outputs": [
    {
     "name": "stdout",
     "output_type": "stream",
     "text": [
      "[[-10.55267032 -13.507418    -1.68842725]\n",
      " [-11.0668192  -13.28018304  -2.21336384]\n",
      " [  4.           5.           1.        ]]\n",
      "[[-1.18063275e+04 -1.77031597e+04 -2.94208448e+01]\n",
      " [-1.70380350e+04 -2.55504344e+04 -4.25399364e+01]\n",
      " [ 4.00000000e+02  6.00000000e+02  1.00000000e+00]]\n"
     ]
    }
   ],
   "source": [
    "pr_1 = np.dot(first_normalisation_matrix,fnm)\n",
    "pr_2 = np.dot(second_normalisation_matrix,snm)\n",
    "print(pr_1)\n",
    "print(pr_2)"
   ]
  },
  {
   "cell_type": "code",
   "execution_count": 119,
   "metadata": {},
   "outputs": [
    {
     "data": {
      "text/plain": [
       "-13.507418004398486"
      ]
     },
     "execution_count": 119,
     "metadata": {},
     "output_type": "execute_result"
    }
   ],
   "source": [
    "pr_1.item(1)"
   ]
  },
  {
   "cell_type": "code",
   "execution_count": 113,
   "metadata": {},
   "outputs": [],
   "source": [
    "M=[]\n",
    "\n",
    "M.append(np.array([pr_1.item(0), pr_1.item(1), 1,0, 0, 0,-pr_1.item(0)*pr_2.item(0), -pr_1.item(1)*pr_2.item(0), -pr_2.item(0)]))\n",
    "\n",
    "M.append(np.array([0, 0, 0, pr_1.item(0), pr_1.item(1),1, -pr_1.item(0)*pr_2.item(1), -pr_1.item(1)*pr_2.item(1), -pr_2.item(1)]))"
   ]
  },
  {
   "cell_type": "code",
   "execution_count": 114,
   "metadata": {
    "scrolled": true
   },
   "outputs": [
    {
     "data": {
      "text/plain": [
       "[array([-1.05526703e+01, -1.35074180e+01,  1.00000000e+00,  0.00000000e+00,\n",
       "         0.00000000e+00,  0.00000000e+00, -1.24588282e+05, -1.59473001e+05,\n",
       "         1.18063275e+04]),\n",
       " array([ 0.00000000e+00,  0.00000000e+00,  0.00000000e+00, -1.05526703e+01,\n",
       "        -1.35074180e+01,  1.00000000e+00, -1.86815608e+05, -2.39123978e+05,\n",
       "         1.77031597e+04])]"
      ]
     },
     "execution_count": 114,
     "metadata": {},
     "output_type": "execute_result"
    }
   ],
   "source": [
    "M"
   ]
  },
  {
   "cell_type": "code",
   "execution_count": 117,
   "metadata": {},
   "outputs": [],
   "source": [
    "U, S, Vh = np.linalg.svd(np.array(M).reshape((2, 9)))\n",
    "\n",
    "L = Vh[-1]\n",
    "\n",
    "H = L.reshape(3, 3)\n",
    "\n",
    "denormalised = np.dot( np.dot (np.linalg.inv(first_normalisation_matrix),H ), second_normalisation_matrix)"
   ]
  },
  {
   "cell_type": "code",
   "execution_count": 118,
   "metadata": {
    "scrolled": true
   },
   "outputs": [
    {
     "data": {
      "text/plain": [
       "matrix([[-7.68193772e-03, -4.56451220e-03,  2.40308098e+00],\n",
       "        [-7.09658972e-03, -7.91226426e-03,  3.23185954e+00],\n",
       "        [-2.24934303e-03, -2.50788014e-03,  1.00000000e+00]])"
      ]
     },
     "execution_count": 118,
     "metadata": {},
     "output_type": "execute_result"
    }
   ],
   "source": [
    "denormalised / denormalised[-1, -1]"
   ]
  },
  {
   "cell_type": "code",
   "execution_count": null,
   "metadata": {},
   "outputs": [],
   "source": [
    "def estimate_homography(first, second):\n",
    "    end = timer()\n",
    "\n",
    "    first_normalisation_matrix = get_normalisation_matrix(first)\n",
    "    second_normalisation_matrix = get_normalisation_matrix(second)\n",
    "\n",
    "    M = []\n",
    "\n",
    "    for j in range(0, first.size):\n",
    "        homogeneous_first = np.array([\n",
    "            first[j][0],\n",
    "            first[j][1],\n",
    "            1\n",
    "        ])\n",
    "\n",
    "        homogeneous_second = np.array([\n",
    "            second[j][0],\n",
    "            second[j][1],\n",
    "            1\n",
    "        ])\n",
    "\n",
    "        pr_1 = np.dot(first_normalisation_matrix, homogeneous_first)\n",
    "\n",
    "        pr_2 = np.dot(second_normalisation_matrix, homogeneous_second)\n",
    "\n",
    "        M.append(np.array([\n",
    "            pr_1.item(0), pr_1.item(1), 1,\n",
    "            0, 0, 0,\n",
    "            -pr_1.item(0)*pr_2.item(0), -pr_1.item(1)*pr_2.item(0), -pr_2.item(0)\n",
    "        ]))\n",
    "\n",
    "        M.append(np.array([\n",
    "            0, 0, 0, pr_1.item(0), pr_1.item(1),\n",
    "            1, -pr_1.item(0)*pr_2.item(1), -pr_1.item(1)*pr_2.item(1), -pr_2.item(1)\n",
    "        ]))\n",
    "\n",
    "    U, S, Vh = np.linalg.svd(np.array(M).reshape((512, 9)))\n",
    "\n",
    "    L = Vh[-1]\n",
    "\n",
    "    H = L.reshape(3, 3)\n",
    "\n",
    "    denormalised = np.dot(\n",
    "        np.dot(\n",
    "            np.linalg.inv(first_normalisation_matrix),\n",
    "            H\n",
    "        ),\n",
    "        second_normalisation_matrix\n",
    "    )\n",
    "\n",
    "    end(\"estimate_homography\")\n",
    "    return denormalised / denormalised[-1, -1]\n"
   ]
  },
  {
   "cell_type": "code",
   "execution_count": 83,
   "metadata": {},
   "outputs": [],
   "source": [
    "def compute_homography(real, sensed):\n",
    "    end = timer()\n",
    "\n",
    "    real = data['real']\n",
    "\n",
    "    refined_homographies = []\n",
    "\n",
    "    for i in range(0, len(data['sensed'])):\n",
    "        sensed = data['sensed'][i]\n",
    "        estimated = estimate_homography(real, sensed)\n",
    "#         end = timer()\n",
    "#         refined = refine_homography(estimated, sensed, real)\n",
    "#         refined = refined / refined[-1]\n",
    "#         end(\"refine_homography\")\n",
    "#         refined_homographies.append(estimated)\n",
    "\n",
    "#     end(\"compute_homography\")\n",
    "#     return np.array(refined_homographies)\n",
    "    return 0"
   ]
  },
  {
   "cell_type": "code",
   "execution_count": null,
   "metadata": {},
   "outputs": [],
   "source": []
  },
  {
   "cell_type": "code",
   "execution_count": null,
   "metadata": {},
   "outputs": [],
   "source": []
  },
  {
   "cell_type": "code",
   "execution_count": null,
   "metadata": {},
   "outputs": [],
   "source": []
  },
  {
   "cell_type": "code",
   "execution_count": null,
   "metadata": {},
   "outputs": [],
   "source": []
  },
  {
   "cell_type": "code",
   "execution_count": null,
   "metadata": {},
   "outputs": [],
   "source": []
  },
  {
   "cell_type": "code",
   "execution_count": null,
   "metadata": {},
   "outputs": [],
   "source": []
  },
  {
   "cell_type": "code",
   "execution_count": null,
   "metadata": {},
   "outputs": [],
   "source": []
  },
  {
   "cell_type": "code",
   "execution_count": null,
   "metadata": {},
   "outputs": [],
   "source": []
  },
  {
   "cell_type": "code",
   "execution_count": null,
   "metadata": {},
   "outputs": [],
   "source": []
  },
  {
   "cell_type": "code",
   "execution_count": null,
   "metadata": {},
   "outputs": [],
   "source": []
  },
  {
   "cell_type": "code",
   "execution_count": null,
   "metadata": {},
   "outputs": [],
   "source": []
  },
  {
   "cell_type": "code",
   "execution_count": null,
   "metadata": {},
   "outputs": [],
   "source": []
  },
  {
   "cell_type": "code",
   "execution_count": null,
   "metadata": {},
   "outputs": [],
   "source": []
  },
  {
   "cell_type": "code",
   "execution_count": 3,
   "metadata": {},
   "outputs": [],
   "source": [
    "from steps.parser import parse_data\n",
    "from steps.dlt import compute_homography\n",
    "from steps.intrinsics import get_camera_intrinsics\n",
    "from steps.extrinsics import get_camera_extrinsics\n",
    "from steps.distortion import estimate_lens_distortion\n",
    "from utils.timer import timer\n",
    "\n",
    "\n",
    "def calibrate():\n",
    "    data = parse_data()\n",
    "\n",
    "    end = timer()\n",
    "    homographies = compute_homography(data)\n",
    "    end(\"Homography Estimation\")\n",
    "    print(\"homographies\")\n",
    "    print(homographies)\n",
    "\n",
    "    end = timer()\n",
    "    intrinsics = get_camera_intrinsics(homographies)\n",
    "    end(\"Intrinsics\")\n",
    "\n",
    "    print(\"intrinsics\")\n",
    "    print(intrinsics)\n",
    "\n",
    "    end = timer()\n",
    "    extrinsics = get_camera_extrinsics(intrinsics, homographies)\n",
    "    end(\"Extrinsics\")\n",
    "\n",
    "    print(\"extrinsics\")\n",
    "    print(extrinsics)\n",
    "\n",
    "    end = timer()\n",
    "    distortion = estimate_lens_distortion(\n",
    "        intrinsics,\n",
    "        extrinsics,\n",
    "        data[\"real\"],\n",
    "        data[\"sensed\"]\n",
    "    )\n",
    "    end(\"Distortion\")\n",
    "\n",
    "    return 0\n",
    "\n",
    "# calibrate()"
   ]
  },
  {
   "cell_type": "code",
   "execution_count": 20,
   "metadata": {},
   "outputs": [
    {
     "data": {
      "text/plain": [
       "2"
      ]
     },
     "execution_count": 20,
     "metadata": {},
     "output_type": "execute_result"
    }
   ],
   "source": [
    "data = parse_data()\n",
    "data[\"real\"].shape\n",
    "len(data[\"sensed\"][0][0])"
   ]
  },
  {
   "cell_type": "code",
   "execution_count": 22,
   "metadata": {},
   "outputs": [],
   "source": [
    "def parse_data(basepath=\"data/corners_\", ext=\".dat\"):\n",
    "\n",
    "    sensed = []\n",
    "    for i in range(1, 6):\n",
    "        sensed.append(np.loadtxt(basepath + str(i) + ext).reshape((256, 2)))\n",
    "\n",
    "    return {\n",
    "        'real': np.loadtxt(basepath + \"real\" + ext).reshape((256, 2)),\n",
    "        'sensed': sensed\n",
    "    }"
   ]
  },
  {
   "cell_type": "code",
   "execution_count": 23,
   "metadata": {},
   "outputs": [],
   "source": [
    "def compute_homography(data):\n",
    "    end = timer()\n",
    "\n",
    "    real = data['real']\n",
    "\n",
    "    refined_homographies = []\n",
    "\n",
    "    for i in range(0, len(data['sensed'])):\n",
    "        sensed = data['sensed'][i]\n",
    "        estimated = estimate_homography(real, sensed)\n",
    "        end = timer()\n",
    "        refined = refine_homography(estimated, sensed, real)\n",
    "        refined = refined / refined[-1]\n",
    "        end(\"refine_homography\")\n",
    "        refined_homographies.append(estimated)\n",
    "\n",
    "    end(\"compute_homography\")\n",
    "    return np.array(refined_homographies)"
   ]
  },
  {
   "cell_type": "code",
   "execution_count": 24,
   "metadata": {},
   "outputs": [],
   "source": [
    "import numpy as np\n",
    "from scipy import optimize as opt\n",
    "from utils.timer import timer\n",
    "\n",
    "\n",
    "def get_normalisation_matrix(flattened_corners):\n",
    "    end = timer()\n",
    "\n",
    "    avg_x = flattened_corners[:, 0].mean()\n",
    "    avg_y = flattened_corners[:, 1].mean()\n",
    "\n",
    "    s_x = np.sqrt(2 / flattened_corners[0].std())\n",
    "    s_y = np.sqrt(2 / flattened_corners[1].std())\n",
    "\n",
    "    end(\"get_normalization_matrix\")\n",
    "    return np.matrix([\n",
    "        [s_x,   0,   -s_x * avg_x],\n",
    "        [0,   s_y,   -s_y * avg_y],\n",
    "        [0,     0,              1]\n",
    "    ])\n",
    "\n",
    "\n",
    "def estimate_homography(first, second):\n",
    "    end = timer()\n",
    "\n",
    "    first_normalisation_matrix = get_normalisation_matrix(first)\n",
    "    second_normalisation_matrix = get_normalisation_matrix(second)\n",
    "\n",
    "    M = []\n",
    "\n",
    "    for j in range(0, int(first.size / 2)):\n",
    "        homogeneous_first = np.array([\n",
    "            first[j][0],\n",
    "            first[j][1],\n",
    "            1\n",
    "        ])\n",
    "\n",
    "        homogeneous_second = np.array([\n",
    "            second[j][0],\n",
    "            second[j][1],\n",
    "            1\n",
    "        ])\n",
    "\n",
    "        pr_1 = np.dot(first_normalisation_matrix, homogeneous_first)\n",
    "\n",
    "        pr_2 = np.dot(second_normalisation_matrix, homogeneous_second)\n",
    "\n",
    "        M.append(np.array([\n",
    "            pr_1.item(0), pr_1.item(1), 1,\n",
    "            0, 0, 0,\n",
    "            -pr_1.item(0)*pr_2.item(0), -pr_1.item(1)*pr_2.item(0), -pr_2.item(0)\n",
    "        ]))\n",
    "\n",
    "        M.append(np.array([\n",
    "            0, 0, 0, pr_1.item(0), pr_1.item(1),\n",
    "            1, -pr_1.item(0)*pr_2.item(1), -pr_1.item(1)*pr_2.item(1), -pr_2.item(1)\n",
    "        ]))\n",
    "\n",
    "    U, S, Vh = np.linalg.svd(np.array(M).reshape((512, 9)))\n",
    "\n",
    "    L = Vh[-1]\n",
    "\n",
    "    H = L.reshape(3, 3)\n",
    "\n",
    "    denormalised = np.dot(\n",
    "        np.dot(\n",
    "            np.linalg.inv(first_normalisation_matrix),\n",
    "            H\n",
    "        ),\n",
    "        second_normalisation_matrix\n",
    "    )\n",
    "\n",
    "    end(\"estimate_homography\")\n",
    "    return denormalised / denormalised[-1, -1]\n",
    "\n",
    "\n",
    "def cost(homography, data):\n",
    "    [sensed, real] = data\n",
    "\n",
    "    Y = []\n",
    "\n",
    "    for i in range(0, sensed.size / 2):\n",
    "        x = sensed[i][0]\n",
    "        y = sensed[i][1]\n",
    "\n",
    "        w = homography[6] * x + homography[7] * y + homography[8]\n",
    "\n",
    "        M = np.array([\n",
    "            [homography[0], homography[1], homography[2]],\n",
    "            [homography[3], homography[4], homography[5]]\n",
    "        ])\n",
    "\n",
    "        homog = np.transpose(np.array([x, y, 1]))\n",
    "        [u, v] = (1/w) * np.dot(M, homog)\n",
    "\n",
    "        Y.append(u)\n",
    "        Y.append(v)\n",
    "\n",
    "    return np.array(Y)\n",
    "\n",
    "\n",
    "def jac(homography, data):\n",
    "    [sensed, real] = data\n",
    "\n",
    "    J = []\n",
    "\n",
    "    for i in range(0, sensed.size / 2):\n",
    "        x = sensed[i][0]\n",
    "        y = sensed[i][1]\n",
    "\n",
    "        s_x = homography[0] * x + homography[1] * y + homography[2]\n",
    "        s_y = homography[3] * x + homography[4] * y + homography[5]\n",
    "        w = homography[6] * x + homography[7] * y + homography[8]\n",
    "\n",
    "        J.append(\n",
    "            np.array([\n",
    "                x / w, y / w, 1/w,\n",
    "                0, 0, 0,\n",
    "                (-s_x * x) / (w*w), (-s_x * y) / (w*w), -s_x / (w*w)\n",
    "            ])\n",
    "        )\n",
    "\n",
    "        J.append(\n",
    "            np.array([\n",
    "                0, 0, 0,\n",
    "                x / w, y / w, 1 / w,\n",
    "                (-s_y * x) / (w*w), (-s_y * y) / (w*w), -s_y / (w*w)\n",
    "            ])\n",
    "        )\n",
    "\n",
    "    return np.array(J)\n",
    "\n",
    "\n",
    "def refine_homography(homography, sensed, real):\n",
    "    return opt.root(\n",
    "        cost,\n",
    "        homography,\n",
    "        jac=jac,\n",
    "        args=[sensed, real],\n",
    "        method='lm'\n",
    "    ).x\n"
   ]
  },
  {
   "cell_type": "code",
   "execution_count": null,
   "metadata": {},
   "outputs": [],
   "source": []
  }
 ],
 "metadata": {
  "kernelspec": {
   "display_name": "Python 3",
   "language": "python",
   "name": "python3"
  },
  "language_info": {
   "codemirror_mode": {
    "name": "ipython",
    "version": 3
   },
   "file_extension": ".py",
   "mimetype": "text/x-python",
   "name": "python",
   "nbconvert_exporter": "python",
   "pygments_lexer": "ipython3",
   "version": "3.6.8"
  }
 },
 "nbformat": 4,
 "nbformat_minor": 2
}
