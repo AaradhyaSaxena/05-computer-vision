{
 "cells": [
  {
   "cell_type": "code",
   "execution_count": 1,
   "metadata": {},
   "outputs": [],
   "source": [
    "import numpy as np\n",
    "from scipy import optimize as opt\n",
    "from matplotlib import pyplot as plt\n",
    "import cv2\n",
    "import glob\n",
    "\n",
    "import math\n",
    "from scipy import linalg\n",
    "from numpy.linalg import inv\n",
    "from sklearn import linear_model, datasets"
   ]
  },
  {
   "cell_type": "code",
   "execution_count": 2,
   "metadata": {},
   "outputs": [],
   "source": [
    "# prepare object points, like (0,0,0), (1,0,0), (2,0,0) ....,(6,5,0)\n",
    "objp = np.zeros((15*21,2), np.float32)\n",
    "objp[:,:2] = np.mgrid[0:21,0:15].T.reshape(-1,2)"
   ]
  },
  {
   "cell_type": "code",
   "execution_count": 3,
   "metadata": {},
   "outputs": [
    {
     "data": {
      "text/plain": [
       "(315, 2)"
      ]
     },
     "execution_count": 3,
     "metadata": {},
     "output_type": "execute_result"
    }
   ],
   "source": [
    "objp.shape"
   ]
  },
  {
   "cell_type": "code",
   "execution_count": 4,
   "metadata": {},
   "outputs": [],
   "source": [
    "# Arrays to store object points and image points from all the images.\n",
    "objpoints = [] # 3d point in real world space\n",
    "imgpoints = [] # 2d points in image plane.\n",
    "\n",
    "images = glob.glob('a.png')\n",
    "\n",
    "for fname in images:\n",
    "    img = cv2.imread(fname)\n",
    "    gray = cv2.cvtColor(img,cv2.COLOR_BGR2GRAY)\n",
    "    \n",
    "    # Find the chess board corners\n",
    "    ret, corners = cv2.findChessboardCorners(gray, (21,15),None)\n",
    "\n",
    "    # If found, add object points, image points (after refining them)\n",
    "    if ret == True:\n",
    "        \n",
    "        # termination criteria\n",
    "        criteria = (cv2.TERM_CRITERIA_EPS + cv2.TERM_CRITERIA_MAX_ITER, 30, 0.001)\n",
    "        \n",
    "        objpoints.append(objp)\n",
    "        cv2.cornerSubPix(gray,corners,(11,11),(-1,-1),criteria)\n",
    "        imgpoints.append(corners)\n",
    "\n",
    "        # Draw and display the corners\n",
    "        cv2.drawChessboardCorners(img, (21,15), corners,ret)\n",
    "        cv2.imshow('img',img)\n",
    "        cv2.waitKey(5000)\n",
    "    \n",
    "cv2.destroyAllWindows()"
   ]
  },
  {
   "cell_type": "code",
   "execution_count": 5,
   "metadata": {},
   "outputs": [
    {
     "name": "stdout",
     "output_type": "stream",
     "text": [
      "(315, 1, 2)\n"
     ]
    }
   ],
   "source": [
    "print(corners.shape)"
   ]
  },
  {
   "cell_type": "code",
   "execution_count": 6,
   "metadata": {},
   "outputs": [
    {
     "name": "stdout",
     "output_type": "stream",
     "text": [
      "[[107.56755066 130.83979797 154.64964294 178.43469238 202.1711731 ]\n",
      " [ 83.28165436  83.35715485  83.52548218  83.59564972  84.16691589]\n",
      " [  1.           1.           1.           1.           1.        ]]\n",
      "(2, 315)\n",
      "(3, 315)\n"
     ]
    }
   ],
   "source": [
    "imgpoints\n",
    "imgp1 = np.array(imgpoints)\n",
    "imgp1.reshape((315,2))\n",
    "\n",
    "imagepoints = np.ones((315,3))\n",
    "imagepoints[:,0] = imgp1[0,:,0,0]\n",
    "imagepoints[:,1] = imgp1[0,:,0,1]\n",
    "\n",
    "imagepoints = imagepoints.T\n",
    "\n",
    "print(imagepoints[:,:5])\n",
    "\n",
    "objp = objp.T\n",
    "print(objp.shape)\n",
    "obj = np.ones((3,315))\n",
    "obj[:2,:] = objp[:2,:]\n",
    "print(obj.shape)"
   ]
  },
  {
   "cell_type": "code",
   "execution_count": 7,
   "metadata": {},
   "outputs": [
    {
     "data": {
      "text/plain": [
       "array([[107.56755066, 130.83979797, 154.64964294, 178.43469238,\n",
       "        202.1711731 ],\n",
       "       [ 83.28165436,  83.35715485,  83.52548218,  83.59564972,\n",
       "         84.16691589]])"
      ]
     },
     "execution_count": 7,
     "metadata": {},
     "output_type": "execute_result"
    }
   ],
   "source": [
    "real = obj[:2,:]\n",
    "sensed = imagepoints[:2,:]\n",
    "real[:2,:5]\n",
    "sensed[:2,:5]"
   ]
  },
  {
   "cell_type": "code",
   "execution_count": 8,
   "metadata": {},
   "outputs": [],
   "source": [
    "def get_normalisation_matrix(flattened_corners):\n",
    "#     end = timer()\n",
    "\n",
    "    avg_x = flattened_corners[0].mean()\n",
    "    avg_y = flattened_corners[1].mean()\n",
    "\n",
    "    s_x = np.sqrt(2 / flattened_corners[0].std())\n",
    "    s_y = np.sqrt(2 / flattened_corners[1].std())\n",
    "\n",
    "#     end(\"get_normalization_matrix\")\n",
    "    return np.matrix([\n",
    "        [s_x,   0,   -s_x * avg_x],\n",
    "        [0,   s_y,   -s_y * avg_y],\n",
    "        [0,     0,              1]\n",
    "    ])"
   ]
  },
  {
   "cell_type": "code",
   "execution_count": 9,
   "metadata": {},
   "outputs": [
    {
     "data": {
      "text/plain": [
       "matrix([[ 0.57470786,  0.        , -5.74707865],\n",
       "        [ 0.        ,  0.68037493, -4.76262453],\n",
       "        [ 0.        ,  0.        ,  1.        ]])"
      ]
     },
     "execution_count": 9,
     "metadata": {},
     "output_type": "execute_result"
    }
   ],
   "source": [
    "rnm = get_normalisation_matrix(real)\n",
    "rnm"
   ]
  },
  {
   "cell_type": "code",
   "execution_count": 10,
   "metadata": {},
   "outputs": [
    {
     "data": {
      "text/plain": [
       "matrix([[  0.11839092,   0.        , -40.56598119],\n",
       "        [  0.        ,   0.14051707, -34.89374921],\n",
       "        [  0.        ,   0.        ,   1.        ]])"
      ]
     },
     "execution_count": 10,
     "metadata": {},
     "output_type": "execute_result"
    }
   ],
   "source": [
    "inm = get_normalisation_matrix(sensed)\n",
    "inm"
   ]
  },
  {
   "cell_type": "code",
   "execution_count": 11,
   "metadata": {},
   "outputs": [
    {
     "name": "stdout",
     "output_type": "stream",
     "text": [
      "(3, 315)\n",
      "(3, 315)\n"
     ]
    }
   ],
   "source": [
    "real_ = np.ones((3,315))\n",
    "real_[:2,:] = real\n",
    "print(real_.shape)\n",
    "sensed_ = np.ones((3,315))\n",
    "sensed_[:2,:] = sensed\n",
    "print(sensed_.shape)"
   ]
  },
  {
   "cell_type": "markdown",
   "metadata": {},
   "source": [
    "Getting normalized matrix of real and sensed co-ordinates"
   ]
  },
  {
   "cell_type": "code",
   "execution_count": 12,
   "metadata": {},
   "outputs": [],
   "source": [
    "real_obj = np.dot(rnm,real_)\n",
    "sensed_im = np.dot(inm,sensed_)\n",
    "# real_obj[:,:5]\n",
    "# sensed_im[:,:5]"
   ]
  },
  {
   "cell_type": "code",
   "execution_count": 13,
   "metadata": {},
   "outputs": [
    {
     "name": "stdout",
     "output_type": "stream",
     "text": [
      "(3, 315)\n",
      "(3, 315)\n",
      "(3, 315)\n"
     ]
    }
   ],
   "source": [
    "print(real_obj.shape)\n",
    "print(sensed_im.shape)\n",
    "print(obj.shape)\n",
    "# print(imgp.shape)"
   ]
  },
  {
   "cell_type": "code",
   "execution_count": 14,
   "metadata": {},
   "outputs": [],
   "source": [
    "obj = real_obj\n",
    "imgp = sensed_im"
   ]
  },
  {
   "cell_type": "code",
   "execution_count": 22,
   "metadata": {},
   "outputs": [
    {
     "data": {
      "text/plain": [
       "matrix([[-5.74707865, -5.17237078, -4.59766292, -4.02295505, -3.44824719],\n",
       "        [-4.76262453, -4.76262453, -4.76262453, -4.76262453, -4.76262453],\n",
       "        [ 1.        ,  1.        ,  1.        ,  1.        ,  1.        ]])"
      ]
     },
     "execution_count": 22,
     "metadata": {},
     "output_type": "execute_result"
    }
   ],
   "source": [
    "obj[:,:5]"
   ]
  },
  {
   "cell_type": "code",
   "execution_count": 16,
   "metadata": {},
   "outputs": [],
   "source": [
    "C = []\n",
    "\n",
    "for i in range(315):\n",
    "    C.append(np.array([obj[0,i], obj[1,i],1,0,0,0, (-1)*obj[0,i]*imgp[0,i], (-1)*obj[1,i]*imgp[0,i],(-1)*imgp[0,i]]))\n",
    "    C.append(np.array([0,0,0, obj[0,i], obj[1,i],1, (-1)*obj[0,i]*imgp[1,i], (-1)*obj[1,i]*imgp[1,i],(-1)*imgp[1,i]]))"
   ]
  },
  {
   "cell_type": "code",
   "execution_count": 17,
   "metadata": {},
   "outputs": [
    {
     "name": "stdout",
     "output_type": "stream",
     "text": [
      "(630, 9)\n",
      "(9, 9)\n",
      "(9, 9)\n",
      "(9,)\n",
      "(9, 9)\n"
     ]
    }
   ],
   "source": [
    "C = np.array(C)\n",
    "print(C.shape)\n",
    "\n",
    "ctc = np.matmul(C.T,C)\n",
    "print(ctc.shape)\n",
    "\n",
    "u, s, vh = np.linalg.svd(ctc, full_matrices=True)\n",
    "print(u.shape)\n",
    "print(s.shape)\n",
    "print(vh.shape)"
   ]
  },
  {
   "cell_type": "code",
   "execution_count": 18,
   "metadata": {},
   "outputs": [
    {
     "data": {
      "text/plain": [
       "array([2.73274480e+06, 1.76539470e+06, 1.57066986e+05, 3.81482074e+03,\n",
       "       3.17374511e+03, 2.72190966e+03, 2.16600574e+02, 1.89502578e+02,\n",
       "       3.02951207e-02])"
      ]
     },
     "execution_count": 18,
     "metadata": {},
     "output_type": "execute_result"
    }
   ],
   "source": [
    "s\n",
    "# vh"
   ]
  },
  {
   "cell_type": "code",
   "execution_count": 19,
   "metadata": {},
   "outputs": [
    {
     "data": {
      "text/plain": [
       "array([[ 7.00571988e-01, -2.83914649e-03, -8.22683168e-03],\n",
       "       [ 4.38240334e-03,  6.98766130e-01,  1.08356081e-03],\n",
       "       [-1.39848870e-04,  2.71253180e-05,  1.44321321e-01]])"
      ]
     },
     "execution_count": 19,
     "metadata": {},
     "output_type": "execute_result"
    }
   ],
   "source": [
    "L = vh[-1]\n",
    "H = L.reshape(3, 3)\n",
    "H"
   ]
  },
  {
   "cell_type": "code",
   "execution_count": 20,
   "metadata": {
    "scrolled": false
   },
   "outputs": [
    {
     "data": {
      "text/plain": [
       "matrix([[ 9.67162804e-01, -4.40167514e-03, -3.20712988e+02],\n",
       "        [ 4.33871826e-03,  9.68427204e-01, -2.35181573e+02],\n",
       "        [-1.11083983e-04,  2.55727829e-05,  1.00000000e+00]])"
      ]
     },
     "execution_count": 20,
     "metadata": {},
     "output_type": "execute_result"
    }
   ],
   "source": [
    "denormalised = np.dot( np.dot (np.linalg.inv(rnm),H ), inm)\n",
    "estimated_homography = denormalised / denormalised[-1, -1]\n",
    "estimated_homography"
   ]
  },
  {
   "cell_type": "markdown",
   "metadata": {},
   "source": [
    "We have calculated the HOMOGRAPHY matrix"
   ]
  },
  {
   "cell_type": "markdown",
   "metadata": {},
   "source": [
    "------------------------------"
   ]
  },
  {
   "cell_type": "markdown",
   "metadata": {},
   "source": [
    "Now we will optimize the estimated_homography matrix, but first we should check how accurate the current homography matrix is in transforming the real points"
   ]
  },
  {
   "cell_type": "code",
   "execution_count": 119,
   "metadata": {},
   "outputs": [],
   "source": [
    "homography = estimated_homography.tolist()\n",
    "\n",
    "homo =[]\n",
    "for i in range(3):\n",
    "    for j in range(3):\n",
    "        homo.append(homography[i][j])"
   ]
  },
  {
   "cell_type": "code",
   "execution_count": 151,
   "metadata": {},
   "outputs": [],
   "source": [
    "def cost(homography, real):\n",
    "#     [sensed, real] = data\n",
    "\n",
    "#     aX = []\n",
    "#     aY = []\n",
    "    Y = []\n",
    "\n",
    "    for i in range(len(real[0])):\n",
    "        x = sensed[0][i]\n",
    "        y = sensed[1][i]\n",
    "\n",
    "        w = homography[6] * x + homography[7] * y + homography[8]\n",
    "\n",
    "        M = np.array([\n",
    "            [homography[0], homography[1], homography[2]],\n",
    "            [homography[3], homography[4], homography[5]]\n",
    "        ])\n",
    "\n",
    "        homog = np.transpose(np.array([x, y, 1]))\n",
    "        [u, v] = (1/w) * np.dot(M, homog)\n",
    "\n",
    "#         aX.append(u)\n",
    "#         aY.append(v)\n",
    "        Y.append(u)\n",
    "        Y.append(v)\n",
    "\n",
    "#     return aX,aY\n",
    "    return np.array(Y)"
   ]
  },
  {
   "cell_type": "code",
   "execution_count": 152,
   "metadata": {},
   "outputs": [],
   "source": [
    "# Y = cost(homo,real[:2,:])\n",
    "# Y\n",
    "# sensed"
   ]
  },
  {
   "cell_type": "code",
   "execution_count": 153,
   "metadata": {},
   "outputs": [],
   "source": [
    "def jac(homography, real):\n",
    "#     [sensed, real] = data\n",
    "\n",
    "    J = []\n",
    "\n",
    "    for i in range(len(real[0])):\n",
    "        x = real[0][i]\n",
    "        y = real[1][i]\n",
    "\n",
    "        s_x = homography[0] * x + homography[1] * y + homography[2]\n",
    "        s_y = homography[3] * x + homography[4] * y + homography[5]\n",
    "        w = homography[6] * x + homography[7] * y + homography[8]\n",
    "\n",
    "        J.append(\n",
    "            np.array([\n",
    "                x / w, y / w, 1/w,\n",
    "                0, 0, 0,\n",
    "                (-s_x * x) / (w*w), (-s_x * y) / (w*w), -s_x / (w*w)\n",
    "            ])\n",
    "        )\n",
    "\n",
    "        J.append(\n",
    "            np.array([\n",
    "                0, 0, 0,\n",
    "                x / w, y / w, 1 / w,\n",
    "                (-s_y * x) / (w*w), (-s_y * y) / (w*w), -s_y / (w*w)\n",
    "            ])\n",
    "        )\n",
    "\n",
    "    return np.array(J)"
   ]
  },
  {
   "cell_type": "code",
   "execution_count": 154,
   "metadata": {},
   "outputs": [],
   "source": [
    "def refine_homography(homography, real, sensed):\n",
    "    return opt.root(\n",
    "        cost,\n",
    "        homo,\n",
    "        jac=jac,\n",
    "        args=[real, sensed],\n",
    "        method='lm'\n",
    "    ).x"
   ]
  },
  {
   "cell_type": "code",
   "execution_count": 157,
   "metadata": {},
   "outputs": [],
   "source": [
    "# def compute_homography(real, sensed):\n",
    "#     end = timer()\n",
    "\n",
    "#     real = data['real']\n",
    "\n",
    "#     refined_homographies = []\n",
    "\n",
    "#     for i in range(0, len(data['sensed'])):\n",
    "#         sensed = data['sensed'][i]\n",
    "#         estimated = estimate_homography(real, sensed)\n",
    "#         end = timer()\n",
    "#         refined = refine_homography(estimated, sensed, real)\n",
    "#         refined = refined / refined[-1]\n",
    "#         end(\"refine_homography\")\n",
    "#         refined_homographies.append(refined)\n",
    "\n",
    "#     end(\"compute_homography\")\n",
    "#     return np.array(refined_homographies)\n",
    "# #     return 0"
   ]
  },
  {
   "cell_type": "code",
   "execution_count": 158,
   "metadata": {},
   "outputs": [
    {
     "ename": "TypeError",
     "evalue": "Improper input: N=9 must not exceed M=4",
     "output_type": "error",
     "traceback": [
      "\u001b[1;31m---------------------------------------------------------------------------\u001b[0m",
      "\u001b[1;31mTypeError\u001b[0m                                 Traceback (most recent call last)",
      "\u001b[1;32m<ipython-input-158-4ef790670541>\u001b[0m in \u001b[0;36m<module>\u001b[1;34m\u001b[0m\n\u001b[1;32m----> 1\u001b[1;33m \u001b[0mrefined\u001b[0m \u001b[1;33m=\u001b[0m \u001b[0mrefine_homography\u001b[0m\u001b[1;33m(\u001b[0m\u001b[0mhomo\u001b[0m\u001b[1;33m,\u001b[0m \u001b[0mreal\u001b[0m\u001b[1;33m,\u001b[0m \u001b[0msensed\u001b[0m\u001b[1;33m)\u001b[0m\u001b[1;33m\u001b[0m\u001b[1;33m\u001b[0m\u001b[0m\n\u001b[0m\u001b[0;32m      2\u001b[0m \u001b[0mrefined\u001b[0m \u001b[1;33m=\u001b[0m \u001b[0mrefined\u001b[0m \u001b[1;33m/\u001b[0m \u001b[0mrefined\u001b[0m\u001b[1;33m[\u001b[0m\u001b[1;33m-\u001b[0m\u001b[1;36m1\u001b[0m\u001b[1;33m]\u001b[0m\u001b[1;33m\u001b[0m\u001b[1;33m\u001b[0m\u001b[0m\n",
      "\u001b[1;32m<ipython-input-154-615b9f158494>\u001b[0m in \u001b[0;36mrefine_homography\u001b[1;34m(homography, real, sensed)\u001b[0m\n\u001b[0;32m      5\u001b[0m         \u001b[0mjac\u001b[0m\u001b[1;33m=\u001b[0m\u001b[0mjac\u001b[0m\u001b[1;33m,\u001b[0m\u001b[1;33m\u001b[0m\u001b[1;33m\u001b[0m\u001b[0m\n\u001b[0;32m      6\u001b[0m         \u001b[0margs\u001b[0m\u001b[1;33m=\u001b[0m\u001b[1;33m[\u001b[0m\u001b[0mreal\u001b[0m\u001b[1;33m,\u001b[0m \u001b[0msensed\u001b[0m\u001b[1;33m]\u001b[0m\u001b[1;33m,\u001b[0m\u001b[1;33m\u001b[0m\u001b[1;33m\u001b[0m\u001b[0m\n\u001b[1;32m----> 7\u001b[1;33m         \u001b[0mmethod\u001b[0m\u001b[1;33m=\u001b[0m\u001b[1;34m'lm'\u001b[0m\u001b[1;33m\u001b[0m\u001b[1;33m\u001b[0m\u001b[0m\n\u001b[0m\u001b[0;32m      8\u001b[0m     ).x\n",
      "\u001b[1;32m~\\Anaconda3\\envs\\tf-keras\\lib\\site-packages\\scipy\\optimize\\_root.py\u001b[0m in \u001b[0;36mroot\u001b[1;34m(fun, x0, args, method, jac, tol, callback, options)\u001b[0m\n\u001b[0;32m    187\u001b[0m         \u001b[0msol\u001b[0m \u001b[1;33m=\u001b[0m \u001b[0m_root_hybr\u001b[0m\u001b[1;33m(\u001b[0m\u001b[0mfun\u001b[0m\u001b[1;33m,\u001b[0m \u001b[0mx0\u001b[0m\u001b[1;33m,\u001b[0m \u001b[0margs\u001b[0m\u001b[1;33m=\u001b[0m\u001b[0margs\u001b[0m\u001b[1;33m,\u001b[0m \u001b[0mjac\u001b[0m\u001b[1;33m=\u001b[0m\u001b[0mjac\u001b[0m\u001b[1;33m,\u001b[0m \u001b[1;33m**\u001b[0m\u001b[0moptions\u001b[0m\u001b[1;33m)\u001b[0m\u001b[1;33m\u001b[0m\u001b[1;33m\u001b[0m\u001b[0m\n\u001b[0;32m    188\u001b[0m     \u001b[1;32melif\u001b[0m \u001b[0mmeth\u001b[0m \u001b[1;33m==\u001b[0m \u001b[1;34m'lm'\u001b[0m\u001b[1;33m:\u001b[0m\u001b[1;33m\u001b[0m\u001b[1;33m\u001b[0m\u001b[0m\n\u001b[1;32m--> 189\u001b[1;33m         \u001b[0msol\u001b[0m \u001b[1;33m=\u001b[0m \u001b[0m_root_leastsq\u001b[0m\u001b[1;33m(\u001b[0m\u001b[0mfun\u001b[0m\u001b[1;33m,\u001b[0m \u001b[0mx0\u001b[0m\u001b[1;33m,\u001b[0m \u001b[0margs\u001b[0m\u001b[1;33m=\u001b[0m\u001b[0margs\u001b[0m\u001b[1;33m,\u001b[0m \u001b[0mjac\u001b[0m\u001b[1;33m=\u001b[0m\u001b[0mjac\u001b[0m\u001b[1;33m,\u001b[0m \u001b[1;33m**\u001b[0m\u001b[0moptions\u001b[0m\u001b[1;33m)\u001b[0m\u001b[1;33m\u001b[0m\u001b[1;33m\u001b[0m\u001b[0m\n\u001b[0m\u001b[0;32m    190\u001b[0m     \u001b[1;32melif\u001b[0m \u001b[0mmeth\u001b[0m \u001b[1;33m==\u001b[0m \u001b[1;34m'df-sane'\u001b[0m\u001b[1;33m:\u001b[0m\u001b[1;33m\u001b[0m\u001b[1;33m\u001b[0m\u001b[0m\n\u001b[0;32m    191\u001b[0m         \u001b[0m_warn_jac_unused\u001b[0m\u001b[1;33m(\u001b[0m\u001b[0mjac\u001b[0m\u001b[1;33m,\u001b[0m \u001b[0mmethod\u001b[0m\u001b[1;33m)\u001b[0m\u001b[1;33m\u001b[0m\u001b[1;33m\u001b[0m\u001b[0m\n",
      "\u001b[1;32m~\\Anaconda3\\envs\\tf-keras\\lib\\site-packages\\scipy\\optimize\\_root.py\u001b[0m in \u001b[0;36m_root_leastsq\u001b[1;34m(func, x0, args, jac, col_deriv, xtol, ftol, gtol, maxiter, eps, factor, diag, **unknown_options)\u001b[0m\n\u001b[0;32m    250\u001b[0m                                        \u001b[0mftol\u001b[0m\u001b[1;33m=\u001b[0m\u001b[0mftol\u001b[0m\u001b[1;33m,\u001b[0m \u001b[0mgtol\u001b[0m\u001b[1;33m=\u001b[0m\u001b[0mgtol\u001b[0m\u001b[1;33m,\u001b[0m\u001b[1;33m\u001b[0m\u001b[1;33m\u001b[0m\u001b[0m\n\u001b[0;32m    251\u001b[0m                                        \u001b[0mmaxfev\u001b[0m\u001b[1;33m=\u001b[0m\u001b[0mmaxiter\u001b[0m\u001b[1;33m,\u001b[0m \u001b[0mepsfcn\u001b[0m\u001b[1;33m=\u001b[0m\u001b[0meps\u001b[0m\u001b[1;33m,\u001b[0m\u001b[1;33m\u001b[0m\u001b[1;33m\u001b[0m\u001b[0m\n\u001b[1;32m--> 252\u001b[1;33m                                        factor=factor, diag=diag)\n\u001b[0m\u001b[0;32m    253\u001b[0m     sol = OptimizeResult(x=x, message=msg, status=ier,\n\u001b[0;32m    254\u001b[0m                          \u001b[0msuccess\u001b[0m\u001b[1;33m=\u001b[0m\u001b[0mier\u001b[0m \u001b[1;32min\u001b[0m \u001b[1;33m(\u001b[0m\u001b[1;36m1\u001b[0m\u001b[1;33m,\u001b[0m \u001b[1;36m2\u001b[0m\u001b[1;33m,\u001b[0m \u001b[1;36m3\u001b[0m\u001b[1;33m,\u001b[0m \u001b[1;36m4\u001b[0m\u001b[1;33m)\u001b[0m\u001b[1;33m,\u001b[0m \u001b[0mcov_x\u001b[0m\u001b[1;33m=\u001b[0m\u001b[0mcov_x\u001b[0m\u001b[1;33m,\u001b[0m\u001b[1;33m\u001b[0m\u001b[1;33m\u001b[0m\u001b[0m\n",
      "\u001b[1;32m~\\Anaconda3\\envs\\tf-keras\\lib\\site-packages\\scipy\\optimize\\minpack.py\u001b[0m in \u001b[0;36mleastsq\u001b[1;34m(func, x0, args, Dfun, full_output, col_deriv, ftol, xtol, gtol, maxfev, epsfcn, factor, diag)\u001b[0m\n\u001b[0;32m    385\u001b[0m     \u001b[0mm\u001b[0m \u001b[1;33m=\u001b[0m \u001b[0mshape\u001b[0m\u001b[1;33m[\u001b[0m\u001b[1;36m0\u001b[0m\u001b[1;33m]\u001b[0m\u001b[1;33m\u001b[0m\u001b[1;33m\u001b[0m\u001b[0m\n\u001b[0;32m    386\u001b[0m     \u001b[1;32mif\u001b[0m \u001b[0mn\u001b[0m \u001b[1;33m>\u001b[0m \u001b[0mm\u001b[0m\u001b[1;33m:\u001b[0m\u001b[1;33m\u001b[0m\u001b[1;33m\u001b[0m\u001b[0m\n\u001b[1;32m--> 387\u001b[1;33m         \u001b[1;32mraise\u001b[0m \u001b[0mTypeError\u001b[0m\u001b[1;33m(\u001b[0m\u001b[1;34m'Improper input: N=%s must not exceed M=%s'\u001b[0m \u001b[1;33m%\u001b[0m \u001b[1;33m(\u001b[0m\u001b[0mn\u001b[0m\u001b[1;33m,\u001b[0m \u001b[0mm\u001b[0m\u001b[1;33m)\u001b[0m\u001b[1;33m)\u001b[0m\u001b[1;33m\u001b[0m\u001b[1;33m\u001b[0m\u001b[0m\n\u001b[0m\u001b[0;32m    388\u001b[0m     \u001b[1;32mif\u001b[0m \u001b[0mepsfcn\u001b[0m \u001b[1;32mis\u001b[0m \u001b[1;32mNone\u001b[0m\u001b[1;33m:\u001b[0m\u001b[1;33m\u001b[0m\u001b[1;33m\u001b[0m\u001b[0m\n\u001b[0;32m    389\u001b[0m         \u001b[0mepsfcn\u001b[0m \u001b[1;33m=\u001b[0m \u001b[0mfinfo\u001b[0m\u001b[1;33m(\u001b[0m\u001b[0mdtype\u001b[0m\u001b[1;33m)\u001b[0m\u001b[1;33m.\u001b[0m\u001b[0meps\u001b[0m\u001b[1;33m\u001b[0m\u001b[1;33m\u001b[0m\u001b[0m\n",
      "\u001b[1;31mTypeError\u001b[0m: Improper input: N=9 must not exceed M=4"
     ]
    }
   ],
   "source": [
    "refined = refine_homography(homo, real, sensed)\n",
    "refined = refined / refined[-1]"
   ]
  },
  {
   "cell_type": "markdown",
   "metadata": {},
   "source": [
    "----------------------------------"
   ]
  },
  {
   "cell_type": "markdown",
   "metadata": {},
   "source": [
    "----------------------------------"
   ]
  },
  {
   "cell_type": "markdown",
   "metadata": {},
   "source": [
    "Checkin by ro and si"
   ]
  },
  {
   "cell_type": "code",
   "execution_count": 21,
   "metadata": {},
   "outputs": [
    {
     "data": {
      "text/plain": [
       "1.1066819197003215"
      ]
     },
     "execution_count": 21,
     "metadata": {},
     "output_type": "execute_result"
    }
   ],
   "source": [
    "ro = np.array([[1,2,4],[1,3,5]])\n",
    "si = np.array([[100,200,400],[120,360,600]])\n",
    "\n",
    "si[1].std()\n",
    "s_x = np.sqrt(2 / ro[1].std())\n",
    "s_x"
   ]
  },
  {
   "cell_type": "code",
   "execution_count": 22,
   "metadata": {},
   "outputs": [
    {
     "data": {
      "text/plain": [
       "matrix([[ 1.26632044,  0.        , -2.95474769],\n",
       "        [ 0.        ,  1.10668192, -3.32004576],\n",
       "        [ 0.        ,  0.        ,  1.        ]])"
      ]
     },
     "execution_count": 22,
     "metadata": {},
     "output_type": "execute_result"
    }
   ],
   "source": [
    "first_normalisation_matrix = get_normalisation_matrix(ro)\n",
    "first_normalisation_matrix"
   ]
  },
  {
   "cell_type": "code",
   "execution_count": 23,
   "metadata": {
    "scrolled": true
   },
   "outputs": [
    {
     "data": {
      "text/plain": [
       "matrix([[  0.12663204,   0.        , -29.54747688],\n",
       "        [  0.        ,   0.10102578, -36.36927908],\n",
       "        [  0.        ,   0.        ,   1.        ]])"
      ]
     },
     "execution_count": 23,
     "metadata": {},
     "output_type": "execute_result"
    }
   ],
   "source": [
    "second_normalisation_matrix = get_normalisation_matrix(si)\n",
    "second_normalisation_matrix"
   ]
  },
  {
   "cell_type": "code",
   "execution_count": 24,
   "metadata": {},
   "outputs": [],
   "source": [
    "ro_ = np.array([[1,2,4],[1,3,5],[1,1,1]])\n",
    "si_ = np.array([[100,200,400],[120,360,600],[1,1,1]])"
   ]
  },
  {
   "cell_type": "code",
   "execution_count": 25,
   "metadata": {},
   "outputs": [],
   "source": [
    "# fnm = np.ones((315,3))\n",
    "# fnm[:,:2] = real\n",
    "# print(fnm[:,:5])\n",
    "# snm = np.ones((315,3))\n",
    "# snm[:,:2] = sensed\n",
    "# print(snm[:,:5])"
   ]
  },
  {
   "cell_type": "code",
   "execution_count": 26,
   "metadata": {
    "scrolled": true
   },
   "outputs": [
    {
     "data": {
      "text/plain": [
       "matrix([[-16.88427251,  -4.22106813,  21.10534063],\n",
       "        [-24.24618606,   0.        ,  24.24618606],\n",
       "        [  1.        ,   1.        ,   1.        ]])"
      ]
     },
     "execution_count": 26,
     "metadata": {},
     "output_type": "execute_result"
    }
   ],
   "source": [
    "pr_1 = np.dot(first_normalisation_matrix,ro_)\n",
    "pr_2 = np.dot(second_normalisation_matrix,si_)\n",
    "pr_1\n",
    "pr_2"
   ]
  },
  {
   "cell_type": "code",
   "execution_count": 27,
   "metadata": {},
   "outputs": [],
   "source": [
    "obj = pr_1\n",
    "imgp = pr_2"
   ]
  },
  {
   "cell_type": "code",
   "execution_count": 28,
   "metadata": {},
   "outputs": [],
   "source": [
    "M = []\n",
    "\n",
    "for i in range(3):\n",
    "    M.append(np.array([obj[0,i], obj[1,i],1,0,0,0, (-1)*obj[0,i]*imgp[0,i], (-1)*obj[1,i]*imgp[0,i],(-1)*imgp[0,i]]))\n",
    "    M.append(np.array([0,0,0, obj[0,i], obj[1,i],1, (-1)*obj[0,i]*imgp[1,i], (-1)*obj[1,i]*imgp[1,i],(-1)*imgp[1,i]]))"
   ]
  },
  {
   "cell_type": "code",
   "execution_count": 29,
   "metadata": {},
   "outputs": [
    {
     "data": {
      "text/plain": [
       "[array([ -1.68842725,  -2.21336384,   1.        ,   0.        ,\n",
       "          0.        ,   0.        , -28.5078658 , -37.37103822,\n",
       "         16.88427251]),\n",
       " array([  0.        ,   0.        ,   0.        ,  -1.68842725,\n",
       "         -2.21336384,   1.        , -40.93792126, -53.66563146,\n",
       "         24.24618606]),\n",
       " array([-0.42210681,  0.        ,  1.        ,  0.        ,  0.        ,\n",
       "         0.        , -1.78174161,  0.        ,  4.22106813]),\n",
       " array([ 0.        ,  0.        ,  0.        , -0.42210681,  0.        ,\n",
       "         1.        ,  0.        , -0.        , -0.        ]),\n",
       " array([  2.11053406,   2.21336384,   1.        ,   0.        ,\n",
       "          0.        ,   0.        , -44.54354032, -46.71379777,\n",
       "        -21.10534063]),\n",
       " array([  0.        ,   0.        ,   0.        ,   2.11053406,\n",
       "          2.21336384,   1.        , -51.17240157, -53.66563146,\n",
       "        -24.24618606])]"
      ]
     },
     "execution_count": 29,
     "metadata": {},
     "output_type": "execute_result"
    }
   ],
   "source": [
    "M"
   ]
  },
  {
   "cell_type": "code",
   "execution_count": 30,
   "metadata": {},
   "outputs": [
    {
     "name": "stdout",
     "output_type": "stream",
     "text": [
      "(6, 9)\n",
      "(9, 9)\n",
      "(9, 9)\n",
      "(9,)\n",
      "(9, 9)\n"
     ]
    }
   ],
   "source": [
    "M = np.array(M)\n",
    "print(M.shape)\n",
    "\n",
    "mtm = np.matmul(M.T,M)\n",
    "print(mtm.shape)\n",
    "\n",
    "u, s, vh = np.linalg.svd(mtm, full_matrices=True)\n",
    "print(u.shape)\n",
    "print(s.shape)\n",
    "print(vh.shape)"
   ]
  },
  {
   "cell_type": "code",
   "execution_count": 31,
   "metadata": {
    "scrolled": false
   },
   "outputs": [
    {
     "data": {
      "text/plain": [
       "array([[ 0.70489036, -0.04728987, -0.00747516],\n",
       "       [ 0.00848088,  0.70425714,  0.00357984],\n",
       "       [-0.01153888,  0.01000258,  0.06738931]])"
      ]
     },
     "execution_count": 31,
     "metadata": {},
     "output_type": "execute_result"
    }
   ],
   "source": [
    "L = vh[-1]\n",
    "H = L.reshape(3, 3)\n",
    "H"
   ]
  },
  {
   "cell_type": "code",
   "execution_count": 35,
   "metadata": {
    "scrolled": true
   },
   "outputs": [
    {
     "data": {
      "text/plain": [
       "array([[0.65012533, 1.26043595, 2.57563693],\n",
       "       [0.71631786, 2.13331302, 3.55878906],\n",
       "       [0.06585301, 0.07431929, 0.07124669]])"
      ]
     },
     "execution_count": 35,
     "metadata": {},
     "output_type": "execute_result"
    }
   ],
   "source": [
    "im = np.dot(H,ro_)\n",
    "im"
   ]
  },
  {
   "cell_type": "code",
   "execution_count": 36,
   "metadata": {},
   "outputs": [
    {
     "data": {
      "text/plain": [
       "array([[100, 200, 400],\n",
       "       [120, 360, 600],\n",
       "       [  1,   1,   1]])"
      ]
     },
     "execution_count": 36,
     "metadata": {},
     "output_type": "execute_result"
    }
   ],
   "source": [
    "si_"
   ]
  },
  {
   "cell_type": "markdown",
   "metadata": {},
   "source": [
    "Not working so well ! , ........trying after denormalization of H"
   ]
  },
  {
   "cell_type": "code",
   "execution_count": 37,
   "metadata": {},
   "outputs": [
    {
     "data": {
      "text/plain": [
       "matrix([[ 1.50579921e+00, -3.17607530e-02, -3.36522034e+02],\n",
       "        [-7.66182532e-02,  1.51122160e+00, -5.21551316e+02],\n",
       "        [-3.28007667e-02,  2.26840669e-02,  1.00000000e+00]])"
      ]
     },
     "execution_count": 37,
     "metadata": {},
     "output_type": "execute_result"
    }
   ],
   "source": [
    "denormalised = np.dot( np.dot (np.linalg.inv(first_normalisation_matrix),H ), second_normalisation_matrix)\n",
    "estimated_homography = denormalised / denormalised[-1, -1]\n",
    "estimated_homography"
   ]
  },
  {
   "cell_type": "markdown",
   "metadata": {},
   "source": [
    "Image_points = homography X object_points"
   ]
  },
  {
   "cell_type": "code",
   "execution_count": 33,
   "metadata": {},
   "outputs": [
    {
     "data": {
      "text/plain": [
       "matrix([[-335.04799544, -333.60571775, -330.65764084],\n",
       "        [-520.11671293, -517.17088797, -514.30168127],\n",
       "        [   0.9898833 ,    1.00245067,    0.98221727]])"
      ]
     },
     "execution_count": 33,
     "metadata": {},
     "output_type": "execute_result"
    }
   ],
   "source": [
    "imdeno = np.dot(estimated_homography,ro_)\n",
    "imdeno"
   ]
  },
  {
   "cell_type": "code",
   "execution_count": 34,
   "metadata": {},
   "outputs": [
    {
     "data": {
      "text/plain": [
       "array([[100, 200, 400],\n",
       "       [120, 360, 600],\n",
       "       [  1,   1,   1]])"
      ]
     },
     "execution_count": 34,
     "metadata": {},
     "output_type": "execute_result"
    }
   ],
   "source": [
    "si_"
   ]
  },
  {
   "cell_type": "markdown",
   "metadata": {},
   "source": [
    "Poor result, Estimated homogaphy ain't good enough!"
   ]
  },
  {
   "cell_type": "code",
   "execution_count": null,
   "metadata": {},
   "outputs": [],
   "source": []
  },
  {
   "cell_type": "code",
   "execution_count": null,
   "metadata": {},
   "outputs": [],
   "source": [
    "from steps.parser import parse_data\n",
    "from steps.dlt import compute_homography\n",
    "from steps.intrinsics import get_camera_intrinsics\n",
    "from steps.extrinsics import get_camera_extrinsics\n",
    "from steps.distortion import estimate_lens_distortion\n",
    "from utils.timer import timer\n",
    "\n",
    "\n",
    "def calibrate():\n",
    "    data = parse_data()\n",
    "\n",
    "    end = timer()\n",
    "    homographies = compute_homography(data)\n",
    "    end(\"Homography Estimation\")\n",
    "    print(\"homographies\")\n",
    "    print(homographies)\n",
    "\n",
    "    end = timer()\n",
    "    intrinsics = get_camera_intrinsics(homographies)\n",
    "    end(\"Intrinsics\")\n",
    "\n",
    "    print(\"intrinsics\")\n",
    "    print(intrinsics)\n",
    "\n",
    "    end = timer()\n",
    "    extrinsics = get_camera_extrinsics(intrinsics, homographies)\n",
    "    end(\"Extrinsics\")\n",
    "\n",
    "    print(\"extrinsics\")\n",
    "    print(extrinsics)\n",
    "\n",
    "    end = timer()\n",
    "    distortion = estimate_lens_distortion(\n",
    "        intrinsics,\n",
    "        extrinsics,\n",
    "        data[\"real\"],\n",
    "        data[\"sensed\"]\n",
    "    )\n",
    "    end(\"Distortion\")\n",
    "\n",
    "    return 0\n",
    "\n",
    "# calibrate()"
   ]
  },
  {
   "cell_type": "code",
   "execution_count": 138,
   "metadata": {},
   "outputs": [],
   "source": [
    "# here the data is kept in different order,\n",
    "# they have the x coord followed by y, in our case we have separate list for x and y\n",
    "\n",
    "def cost(homography, data):\n",
    "    [sensed, real] = data\n",
    "\n",
    "    Y = []\n",
    "\n",
    "    for i in range(0, sensed.size / 2):\n",
    "        x = sensed[i][0]\n",
    "        y = sensed[i][1]\n",
    "\n",
    "        w = homography[6] * x + homography[7] * y + homography[8]\n",
    "\n",
    "        M = np.array([\n",
    "            [homography[0], homography[1], homography[2]],\n",
    "            [homography[3], homography[4], homography[5]]\n",
    "        ])\n",
    "\n",
    "        homog = np.transpose(np.array([x, y, 1]))\n",
    "        [u, v] = (1/w) * np.dot(M, homog)\n",
    "\n",
    "        Y.append(u)\n",
    "        Y.append(v)\n",
    "\n",
    "    return np.array(Y)"
   ]
  },
  {
   "cell_type": "code",
   "execution_count": null,
   "metadata": {},
   "outputs": [],
   "source": [
    "def refine_homography(homography, sensed, real):\n",
    "    return opt.root(\n",
    "        cost,\n",
    "        homography,\n",
    "        jac=jac,\n",
    "        args=[sensed, real],\n",
    "        method='lm'\n",
    "    ).x"
   ]
  },
  {
   "cell_type": "code",
   "execution_count": null,
   "metadata": {},
   "outputs": [],
   "source": [
    "def jac(homography, data):\n",
    "    [sensed, real] = data\n",
    "\n",
    "    J = []\n",
    "\n",
    "    for i in range(0, sensed.size / 2):\n",
    "        x = sensed[i][0]\n",
    "        y = sensed[i][1]\n",
    "\n",
    "        s_x = homography[0] * x + homography[1] * y + homography[2]\n",
    "        s_y = homography[3] * x + homography[4] * y + homography[5]\n",
    "        w = homography[6] * x + homography[7] * y + homography[8]\n",
    "\n",
    "        J.append(\n",
    "            np.array([\n",
    "                x / w, y / w, 1/w,\n",
    "                0, 0, 0,\n",
    "                (-s_x * x) / (w*w), (-s_x * y) / (w*w), -s_x / (w*w)\n",
    "            ])\n",
    "        )\n",
    "\n",
    "        J.append(\n",
    "            np.array([\n",
    "                0, 0, 0,\n",
    "                x / w, y / w, 1 / w,\n",
    "                (-s_y * x) / (w*w), (-s_y * y) / (w*w), -s_y / (w*w)\n",
    "            ])\n",
    "        )\n",
    "\n",
    "    return np.array(J)"
   ]
  },
  {
   "cell_type": "code",
   "execution_count": 83,
   "metadata": {},
   "outputs": [],
   "source": [
    "def compute_homography(real, sensed):\n",
    "    end = timer()\n",
    "\n",
    "    real = data['real']\n",
    "\n",
    "    refined_homographies = []\n",
    "\n",
    "    for i in range(0, len(data['sensed'])):\n",
    "        sensed = data['sensed'][i]\n",
    "        estimated = estimate_homography(real, sensed)\n",
    "        end = timer()\n",
    "        refined = refine_homography(estimated, sensed, real)\n",
    "        refined = refined / refined[-1]\n",
    "        end(\"refine_homography\")\n",
    "        refined_homographies.append(estimated)\n",
    "\n",
    "    end(\"compute_homography\")\n",
    "    return np.array(refined_homographies)\n",
    "    return 0"
   ]
  },
  {
   "cell_type": "code",
   "execution_count": 24,
   "metadata": {},
   "outputs": [],
   "source": [
    "import numpy as np\n",
    "from scipy import optimize as opt\n",
    "from utils.timer import timer\n",
    "\n",
    "\n",
    "def get_normalisation_matrix(flattened_corners):\n",
    "    end = timer()\n",
    "\n",
    "    avg_x = flattened_corners[:, 0].mean()\n",
    "    avg_y = flattened_corners[:, 1].mean()\n",
    "\n",
    "    s_x = np.sqrt(2 / flattened_corners[0].std())\n",
    "    s_y = np.sqrt(2 / flattened_corners[1].std())\n",
    "\n",
    "    end(\"get_normalization_matrix\")\n",
    "    return np.matrix([\n",
    "        [s_x,   0,   -s_x * avg_x],\n",
    "        [0,   s_y,   -s_y * avg_y],\n",
    "        [0,     0,              1]\n",
    "    ])\n",
    "\n",
    "\n",
    "def estimate_homography(first, second):\n",
    "    end = timer()\n",
    "\n",
    "    first_normalisation_matrix = get_normalisation_matrix(first)\n",
    "    second_normalisation_matrix = get_normalisation_matrix(second)\n",
    "\n",
    "    M = []\n",
    "\n",
    "    for j in range(0, int(first.size / 2)):\n",
    "        homogeneous_first = np.array([\n",
    "            first[j][0],\n",
    "            first[j][1],\n",
    "            1\n",
    "        ])\n",
    "\n",
    "        homogeneous_second = np.array([\n",
    "            second[j][0],\n",
    "            second[j][1],\n",
    "            1\n",
    "        ])\n",
    "\n",
    "        pr_1 = np.dot(first_normalisation_matrix, homogeneous_first)\n",
    "\n",
    "        pr_2 = np.dot(second_normalisation_matrix, homogeneous_second)\n",
    "\n",
    "        M.append(np.array([\n",
    "            pr_1.item(0), pr_1.item(1), 1,\n",
    "            0, 0, 0,\n",
    "            -pr_1.item(0)*pr_2.item(0), -pr_1.item(1)*pr_2.item(0), -pr_2.item(0)\n",
    "        ]))\n",
    "\n",
    "        M.append(np.array([\n",
    "            0, 0, 0, pr_1.item(0), pr_1.item(1),\n",
    "            1, -pr_1.item(0)*pr_2.item(1), -pr_1.item(1)*pr_2.item(1), -pr_2.item(1)\n",
    "        ]))\n",
    "\n",
    "    U, S, Vh = np.linalg.svd(np.array(M).reshape((512, 9)))\n",
    "\n",
    "    L = Vh[-1]\n",
    "\n",
    "    H = L.reshape(3, 3)\n",
    "\n",
    "    denormalised = np.dot(\n",
    "        np.dot(\n",
    "            np.linalg.inv(first_normalisation_matrix),\n",
    "            H\n",
    "        ),\n",
    "        second_normalisation_matrix\n",
    "    )\n",
    "\n",
    "    end(\"estimate_homography\")\n",
    "    return denormalised / denormalised[-1, -1]\n",
    "\n",
    "\n",
    "def cost(homography, data):\n",
    "    [sensed, real] = data\n",
    "\n",
    "    Y = []\n",
    "\n",
    "    for i in range(0, sensed.size / 2):\n",
    "        x = sensed[i][0]\n",
    "        y = sensed[i][1]\n",
    "\n",
    "        w = homography[6] * x + homography[7] * y + homography[8]\n",
    "\n",
    "        M = np.array([\n",
    "            [homography[0], homography[1], homography[2]],\n",
    "            [homography[3], homography[4], homography[5]]\n",
    "        ])\n",
    "\n",
    "        homog = np.transpose(np.array([x, y, 1]))\n",
    "        [u, v] = (1/w) * np.dot(M, homog)\n",
    "\n",
    "        Y.append(u)\n",
    "        Y.append(v)\n",
    "\n",
    "    return np.array(Y)\n",
    "\n",
    "\n",
    "def jac(homography, data):\n",
    "    [sensed, real] = data\n",
    "\n",
    "    J = []\n",
    "\n",
    "    for i in range(0, sensed.size / 2):\n",
    "        x = sensed[i][0]\n",
    "        y = sensed[i][1]\n",
    "\n",
    "        s_x = homography[0] * x + homography[1] * y + homography[2]\n",
    "        s_y = homography[3] * x + homography[4] * y + homography[5]\n",
    "        w = homography[6] * x + homography[7] * y + homography[8]\n",
    "\n",
    "        J.append(\n",
    "            np.array([\n",
    "                x / w, y / w, 1/w,\n",
    "                0, 0, 0,\n",
    "                (-s_x * x) / (w*w), (-s_x * y) / (w*w), -s_x / (w*w)\n",
    "            ])\n",
    "        )\n",
    "\n",
    "        J.append(\n",
    "            np.array([\n",
    "                0, 0, 0,\n",
    "                x / w, y / w, 1 / w,\n",
    "                (-s_y * x) / (w*w), (-s_y * y) / (w*w), -s_y / (w*w)\n",
    "            ])\n",
    "        )\n",
    "\n",
    "    return np.array(J)\n",
    "\n",
    "\n",
    "def refine_homography(homography, sensed, real):\n",
    "    return opt.root(\n",
    "        cost,\n",
    "        homography,\n",
    "        jac=jac,\n",
    "        args=[sensed, real],\n",
    "        method='lm'\n",
    "    ).x\n"
   ]
  },
  {
   "cell_type": "code",
   "execution_count": null,
   "metadata": {},
   "outputs": [],
   "source": []
  }
 ],
 "metadata": {
  "kernelspec": {
   "display_name": "Python 3",
   "language": "python",
   "name": "python3"
  },
  "language_info": {
   "codemirror_mode": {
    "name": "ipython",
    "version": 3
   },
   "file_extension": ".py",
   "mimetype": "text/x-python",
   "name": "python",
   "nbconvert_exporter": "python",
   "pygments_lexer": "ipython3",
   "version": "3.6.8"
  }
 },
 "nbformat": 4,
 "nbformat_minor": 2
}
