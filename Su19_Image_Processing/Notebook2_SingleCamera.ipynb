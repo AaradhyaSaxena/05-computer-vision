{
 "cells": [
  {
   "cell_type": "code",
   "execution_count": 1,
   "metadata": {},
   "outputs": [],
   "source": [
    "import numpy as np\n",
    "from matplotlib import pyplot as plt\n",
    "import cv2\n",
    "import glob\n",
    "\n",
    "import math\n",
    "from scipy import linalg\n",
    "from sklearn import linear_model, datasets"
   ]
  },
  {
   "cell_type": "code",
   "execution_count": 2,
   "metadata": {},
   "outputs": [],
   "source": [
    "# prepare object points, like (0,0,0), (1,0,0), (2,0,0) ....,(6,5,0)\n",
    "objp = np.zeros((6*7,3), np.float32)\n",
    "objp[:,:2] = np.mgrid[0:7,0:6].T.reshape(-1,2)"
   ]
  },
  {
   "cell_type": "code",
   "execution_count": 3,
   "metadata": {},
   "outputs": [],
   "source": [
    "# Arrays to store object points and image points from all the images.\n",
    "objpoints = [] # 3d point in real world space\n",
    "imgpoints = [] # 2d points in image plane.\n",
    "\n",
    "images = glob.glob('*.jpg')\n",
    "\n",
    "for fname in images:\n",
    "    img = cv2.imread(fname)\n",
    "    gray = cv2.cvtColor(img,cv2.COLOR_BGR2GRAY)\n",
    "    \n",
    "    # Find the chess board corners\n",
    "    ret, corners = cv2.findChessboardCorners(gray, (7,6),None)\n",
    "\n",
    "    # If found, add object points, image points (after refining them)\n",
    "    if ret == True:\n",
    "        \n",
    "        # termination criteria\n",
    "        criteria = (cv2.TERM_CRITERIA_EPS + cv2.TERM_CRITERIA_MAX_ITER, 30, 0.001)\n",
    "        \n",
    "        objpoints.append(objp)\n",
    "        cv2.cornerSubPix(gray,corners,(11,11),(-1,-1),criteria)\n",
    "        imgpoints.append(corners)\n",
    "\n",
    "        # Draw and display the corners\n",
    "        cv2.drawChessboardCorners(img, (7,6), corners,ret)\n",
    "        cv2.imshow('img',img)\n",
    "        cv2.waitKey(5000)\n",
    "    \n",
    "cv2.destroyAllWindows()"
   ]
  },
  {
   "cell_type": "code",
   "execution_count": 4,
   "metadata": {},
   "outputs": [
    {
     "name": "stdout",
     "output_type": "stream",
     "text": [
      "[[[146.39856 240.75754]]]\n"
     ]
    }
   ],
   "source": [
    "print(corners[:1])"
   ]
  },
  {
   "cell_type": "markdown",
   "metadata": {},
   "source": [
    "Progress: We have the image and object co-ordinates"
   ]
  },
  {
   "cell_type": "markdown",
   "metadata": {},
   "source": [
    "Next we are fitting Ransac without removing z points"
   ]
  },
  {
   "cell_type": "code",
   "execution_count": 5,
   "metadata": {
    "scrolled": true
   },
   "outputs": [
    {
     "name": "stdout",
     "output_type": "stream",
     "text": [
      "(3, 42)\n",
      "(3, 42)\n"
     ]
    }
   ],
   "source": [
    "imgp = np.ones((3,42))\n",
    "\n",
    "imgp1 = np.array(imgpoints)\n",
    "imgp1 = imgp1.reshape((2,42))\n",
    "imgp[:2,:] = imgp1\n",
    "print(imgp.shape)\n",
    "\n",
    "objp = objp.T\n",
    "print(objp.shape)\n",
    "obj = np.ones((4,42))\n",
    "obj[:3,:] = objp"
   ]
  },
  {
   "cell_type": "code",
   "execution_count": 6,
   "metadata": {},
   "outputs": [
    {
     "name": "stdout",
     "output_type": "stream",
     "text": [
      "[[0. 1. 2. 3. 4. 5. 6. 0. 1. 2. 3. 4. 5. 6. 0. 1. 2. 3. 4. 5. 6. 0. 1. 2.\n",
      "  3. 4. 5. 6. 0. 1. 2. 3. 4. 5. 6. 0. 1. 2. 3. 4. 5. 6.]\n",
      " [0. 0. 0. 0. 0. 0. 0. 1. 1. 1. 1. 1. 1. 1. 2. 2. 2. 2. 2. 2. 2. 3. 3. 3.\n",
      "  3. 3. 3. 3. 4. 4. 4. 4. 4. 4. 4. 5. 5. 5. 5. 5. 5. 5.]\n",
      " [0. 0. 0. 0. 0. 0. 0. 0. 0. 0. 0. 0. 0. 0. 0. 0. 0. 0. 0. 0. 0. 0. 0. 0.\n",
      "  0. 0. 0. 0. 0. 0. 0. 0. 0. 0. 0. 0. 0. 0. 0. 0. 0. 0.]\n",
      " [1. 1. 1. 1. 1. 1. 1. 1. 1. 1. 1. 1. 1. 1. 1. 1. 1. 1. 1. 1. 1. 1. 1. 1.\n",
      "  1. 1. 1. 1. 1. 1. 1. 1. 1. 1. 1. 1. 1. 1. 1. 1. 1. 1.]]\n",
      "(4, 42)\n"
     ]
    }
   ],
   "source": [
    "print(obj)\n",
    "print(obj.shape)"
   ]
  },
  {
   "cell_type": "code",
   "execution_count": 7,
   "metadata": {},
   "outputs": [
    {
     "name": "stdout",
     "output_type": "stream",
     "text": [
      "[[146.39856  240.75754  148.83553  209.49371  151.51917  180.04099\n",
      "  154.09694  152.48091  156.50087  126.542336 158.9237   102.02474\n",
      "  161.3021    78.796326 177.5049   240.6578   179.30621  208.8729\n",
      "  180.8149   179.32913  182.54639  151.4929   184.2548   125.364655\n",
      "  185.76144  100.6497   187.3481    77.39799  209.64189  240.22723\n",
      "  210.36389  208.30289  210.88799  178.40152  211.65027  150.34837\n",
      "  212.41748  124.126366 213.21379   99.3735   213.91742   76.18416 ]\n",
      " [242.29851  239.7209   241.74269  207.66035  241.53677  177.55673\n",
      "  241.34033  149.31512  241.14352  123.01466  240.99368   98.10075\n",
      "  240.7799    74.75045  275.28555  239.39507  273.88638  206.89265\n",
      "  272.51752  176.77252  271.35648  148.47687  270.1829   121.888\n",
      "  269.16333   96.91115  267.94495   73.441795 308.6997   238.7351\n",
      "  306.31305  206.26714  303.97327  175.84785  301.582    147.48137\n",
      "  299.47217  120.78554  297.42093   95.72883  295.4988    72.44874 ]]\n"
     ]
    }
   ],
   "source": [
    "print(imgp1)"
   ]
  },
  {
   "cell_type": "code",
   "execution_count": 8,
   "metadata": {},
   "outputs": [
    {
     "data": {
      "text/plain": [
       "array([146.39856 , 240.75754 , 148.83553 , 209.49371 , 151.51917 ,\n",
       "       180.04099 , 154.09694 , 152.48091 , 156.50087 , 126.542336,\n",
       "       158.9237  , 102.02474 , 161.3021  ,  78.796326, 177.5049  ,\n",
       "       240.6578  , 179.30621 , 208.8729  , 180.8149  , 179.32913 ,\n",
       "       182.54639 , 151.4929  , 184.2548  , 125.364655, 185.76144 ,\n",
       "       100.6497  , 187.3481  ,  77.39799 , 209.64189 , 240.22723 ,\n",
       "       210.36389 , 208.30289 , 210.88799 , 178.40152 , 211.65027 ,\n",
       "       150.34837 , 212.41748 , 124.126366, 213.21379 ,  99.3735  ,\n",
       "       213.91742 ,  76.18416 ], dtype=float32)"
      ]
     },
     "execution_count": 8,
     "metadata": {},
     "output_type": "execute_result"
    }
   ],
   "source": [
    "imgp1\n",
    "imgx = imgp1[0,:]\n",
    "imgy = imgp1[1,:]\n",
    "imgx"
   ]
  },
  {
   "cell_type": "code",
   "execution_count": 9,
   "metadata": {},
   "outputs": [],
   "source": [
    "# objx = objp[0,:]\n",
    "# objy = objp[1,:]"
   ]
  },
  {
   "cell_type": "code",
   "execution_count": 10,
   "metadata": {},
   "outputs": [],
   "source": [
    "# objx.reshape((-1,1))\n",
    "# imgx.reshape((-1,1))\n",
    "# objx.shape\n",
    "# imgx.shape"
   ]
  },
  {
   "cell_type": "code",
   "execution_count": 9,
   "metadata": {},
   "outputs": [],
   "source": [
    "X = obj.T\n",
    "y = imgp.T"
   ]
  },
  {
   "cell_type": "code",
   "execution_count": 10,
   "metadata": {
    "scrolled": true
   },
   "outputs": [
    {
     "name": "stdout",
     "output_type": "stream",
     "text": [
      "(42, 4)\n",
      "(42, 3)\n"
     ]
    }
   ],
   "source": [
    "print(X.shape)\n",
    "print(y.shape)"
   ]
  },
  {
   "cell_type": "code",
   "execution_count": 12,
   "metadata": {},
   "outputs": [
    {
     "name": "stdout",
     "output_type": "stream",
     "text": [
      "Estimated coefficients (linear regression):\n",
      "[[-6.18933569  2.26181529  0.          0.        ]\n",
      " [-7.00757036  0.96638078  0.          0.        ]\n",
      " [ 0.          0.          0.          0.        ]]\n",
      "Estimated coefficients (RANSAC):\n",
      "[[-0.84222789 11.38212451  0.          0.        ]\n",
      " [-1.90793011 13.73601381  0.          0.        ]\n",
      " [ 0.          0.          0.          0.        ]]\n"
     ]
    }
   ],
   "source": [
    "lr = linear_model.LinearRegression()\n",
    "lr.fit(X, y)\n",
    "\n",
    "ransac = linear_model.RANSACRegressor()\n",
    "ransac.fit(X, y)\n",
    "inlier_mask = ransac.inlier_mask_\n",
    "outlier_mask = np.logical_not(inlier_mask)\n",
    "\n",
    "l_lr = lr.predict(X)\n",
    "l_rs = ransac.predict(X)\n",
    "\n",
    "# Compare estimated coefficients\n",
    "print(\"Estimated coefficients (linear regression):\")\n",
    "print(lr.coef_)\n",
    "\n",
    "print(\"Estimated coefficients (RANSAC):\")\n",
    "print(ransac.estimator_.coef_)"
   ]
  },
  {
   "cell_type": "code",
   "execution_count": null,
   "metadata": {},
   "outputs": [],
   "source": []
  },
  {
   "cell_type": "markdown",
   "metadata": {},
   "source": [
    "Ransac after removing Z points"
   ]
  },
  {
   "cell_type": "code",
   "execution_count": 13,
   "metadata": {},
   "outputs": [
    {
     "name": "stdout",
     "output_type": "stream",
     "text": [
      "(3, 42)\n"
     ]
    }
   ],
   "source": [
    "imgp = np.ones((3,42))\n",
    "\n",
    "imgp1 = np.array(imgpoints)\n",
    "imgp1 = imgp1.reshape((2,42))\n",
    "imgp[:2,:] = imgp1\n",
    "print(imgp.shape)\n",
    "\n",
    "obj1 = np.ones((3,42))\n",
    "obj1[:2,:] = objp[:2,:]"
   ]
  },
  {
   "cell_type": "code",
   "execution_count": 14,
   "metadata": {},
   "outputs": [
    {
     "name": "stdout",
     "output_type": "stream",
     "text": [
      "[[0. 1. 2. 3. 4. 5. 6. 0. 1. 2. 3. 4. 5. 6. 0. 1. 2. 3. 4. 5. 6. 0. 1. 2.\n",
      "  3. 4. 5. 6. 0. 1. 2. 3. 4. 5. 6. 0. 1. 2. 3. 4. 5. 6.]\n",
      " [0. 0. 0. 0. 0. 0. 0. 1. 1. 1. 1. 1. 1. 1. 2. 2. 2. 2. 2. 2. 2. 3. 3. 3.\n",
      "  3. 3. 3. 3. 4. 4. 4. 4. 4. 4. 4. 5. 5. 5. 5. 5. 5. 5.]\n",
      " [1. 1. 1. 1. 1. 1. 1. 1. 1. 1. 1. 1. 1. 1. 1. 1. 1. 1. 1. 1. 1. 1. 1. 1.\n",
      "  1. 1. 1. 1. 1. 1. 1. 1. 1. 1. 1. 1. 1. 1. 1. 1. 1. 1.]]\n",
      "(3, 42)\n"
     ]
    }
   ],
   "source": [
    "print(obj1)\n",
    "print(obj1.shape)"
   ]
  },
  {
   "cell_type": "code",
   "execution_count": 19,
   "metadata": {},
   "outputs": [
    {
     "name": "stdout",
     "output_type": "stream",
     "text": [
      "(3, 42)\n"
     ]
    }
   ],
   "source": [
    "print(imgp.shape)"
   ]
  },
  {
   "cell_type": "code",
   "execution_count": 23,
   "metadata": {},
   "outputs": [],
   "source": [
    "# imgp"
   ]
  },
  {
   "cell_type": "code",
   "execution_count": 20,
   "metadata": {},
   "outputs": [],
   "source": [
    "X1 = obj1.T\n",
    "y1 = imgp.T"
   ]
  },
  {
   "cell_type": "code",
   "execution_count": 21,
   "metadata": {},
   "outputs": [
    {
     "name": "stdout",
     "output_type": "stream",
     "text": [
      "(42, 3)\n",
      "(42, 3)\n"
     ]
    }
   ],
   "source": [
    "print(X.shape)\n",
    "print(y.shape)"
   ]
  },
  {
   "cell_type": "code",
   "execution_count": 22,
   "metadata": {},
   "outputs": [
    {
     "name": "stdout",
     "output_type": "stream",
     "text": [
      "Estimated coefficients (linear regression):\n",
      "[[-6.18933569  2.26181529  0.        ]\n",
      " [-7.00757036  0.96638078  0.        ]\n",
      " [ 0.          0.          0.        ]]\n",
      "Estimated coefficients (RANSAC):\n",
      "[[-0.17461111 11.80779471  0.        ]\n",
      " [ 0.65572807 15.37059359  0.        ]\n",
      " [ 0.          0.          0.        ]]\n"
     ]
    }
   ],
   "source": [
    "lr = linear_model.LinearRegression()\n",
    "lr.fit(X1, y1)\n",
    "\n",
    "ransac = linear_model.RANSACRegressor()\n",
    "ransac.fit(X1, y1)\n",
    "inlier_mask = ransac.inlier_mask_\n",
    "outlier_mask = np.logical_not(inlier_mask)\n",
    "\n",
    "l_lr = lr.predict(X)\n",
    "l_rs = ransac.predict(X)\n",
    "\n",
    "# Compare estimated coefficients\n",
    "print(\"Estimated coefficients (linear regression):\")\n",
    "print(lr.coef_)\n",
    "\n",
    "print(\"Estimated coefficients (RANSAC):\")\n",
    "print(ransac.estimator_.coef_)"
   ]
  },
  {
   "cell_type": "markdown",
   "metadata": {},
   "source": [
    "NO progress!"
   ]
  },
  {
   "cell_type": "code",
   "execution_count": null,
   "metadata": {},
   "outputs": [],
   "source": []
  },
  {
   "cell_type": "code",
   "execution_count": null,
   "metadata": {},
   "outputs": [],
   "source": []
  }
 ],
 "metadata": {
  "kernelspec": {
   "display_name": "Python 3",
   "language": "python",
   "name": "python3"
  },
  "language_info": {
   "codemirror_mode": {
    "name": "ipython",
    "version": 3
   },
   "file_extension": ".py",
   "mimetype": "text/x-python",
   "name": "python",
   "nbconvert_exporter": "python",
   "pygments_lexer": "ipython3",
   "version": "3.6.8"
  }
 },
 "nbformat": 4,
 "nbformat_minor": 2
}
