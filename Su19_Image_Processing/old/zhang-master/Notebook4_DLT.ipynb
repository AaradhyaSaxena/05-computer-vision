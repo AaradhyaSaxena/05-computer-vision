{
 "cells": [
  {
   "cell_type": "code",
   "execution_count": 1,
   "metadata": {},
   "outputs": [],
   "source": [
    "import numpy as np\n",
    "from scipy import optimize as opt\n",
    "from matplotlib import pyplot as plt\n",
    "import cv2\n",
    "import glob\n",
    "\n",
    "import math\n",
    "from scipy import linalg\n",
    "from numpy.linalg import inv\n",
    "from sklearn import linear_model, datasets\n",
    "from function import *\n",
    "from utils import *"
   ]
  },
  {
   "cell_type": "code",
   "execution_count": 2,
   "metadata": {},
   "outputs": [
    {
     "name": "stdout",
     "output_type": "stream",
     "text": [
      "obj_p3.shape (3, 315)\n",
      "obj_p4.shape (4, 315)\n",
      "img_p.shape (3, 315)\n"
     ]
    }
   ],
   "source": [
    "img_p, corners = return_imagepoints()\n",
    "obj_p = return_objpoints()\n",
    "\n",
    "obj_p4 = homo_obj4(obj_p)\n",
    "obj_p3 = homo_obj3(obj_p)\n",
    "img_p = homo_img(img_p)\n",
    "\n",
    "print(\"obj_p3.shape\", obj_p3.shape)\n",
    "print(\"obj_p4.shape\", obj_p4.shape)\n",
    "print(\"img_p.shape\", img_p.shape)"
   ]
  },
  {
   "cell_type": "code",
   "execution_count": 3,
   "metadata": {},
   "outputs": [
    {
     "data": {
      "text/plain": [
       "(2, 315)"
      ]
     },
     "execution_count": 3,
     "metadata": {},
     "output_type": "execute_result"
    }
   ],
   "source": [
    "# img_p[:2,:].T.shape\n",
    "# obj_p[:2,:].T.shape\n",
    "img_p[:2,:].shape"
   ]
  },
  {
   "cell_type": "code",
   "execution_count": 7,
   "metadata": {},
   "outputs": [
    {
     "name": "stdout",
     "output_type": "stream",
     "text": [
      "obj_pt.shape (315, 3)\n",
      "obj_pt.shape (315, 4)\n",
      "img_pt.shape (315, 3)\n"
     ]
    }
   ],
   "source": [
    "obj_pt3 = obj_p3.T\n",
    "obj_pt4 = obj_p4.T\n",
    "img_pt = img_p.T\n",
    "print(\"obj_pt.shape\", obj_pt3.shape)\n",
    "print(\"obj_pt.shape\", obj_pt4.shape)\n",
    "print(\"img_pt.shape\", img_pt.shape)"
   ]
  },
  {
   "cell_type": "code",
   "execution_count": 8,
   "metadata": {
    "scrolled": true
   },
   "outputs": [
    {
     "name": "stdout",
     "output_type": "stream",
     "text": [
      "[[ 2.35641141e+01 -1.13180327e-01  1.07795469e+02]\n",
      " [ 1.24120961e-01  2.34434472e+01  8.29785775e+01]\n",
      " [ 2.21177243e-17 -6.93889390e-17  1.00000000e+00]] \n",
      "\n",
      "[[ 1.65143034e-01 -4.60108985e-04  7.69165445e-01]\n",
      " [-8.77464015e-05  1.65866563e-01  5.94600705e-01]\n",
      " [-3.87713916e-06  1.00054615e-06  7.09657333e-03]] \n",
      "\n",
      "[[ 9.99999931e-01 -2.55756543e-03  3.65596006e-04  7.91124182e-01]\n",
      " [-3.69636310e-04  9.99996729e-01 -9.99999933e-01  6.11611965e-01]\n",
      " [-2.29117594e-05  6.53192799e-06  0.00000000e+00  7.30295951e-03]]\n"
     ]
    }
   ],
   "source": [
    "p = projection_matrix_direct(img_pt,obj_pt3)\n",
    "print(p,\"\\n\")\n",
    "\n",
    "p_ = projection_matrix3(img_pt,obj_pt3)\n",
    "print(p_,\"\\n\")\n",
    "\n",
    "_p = projection_matrix4(img_pt,obj_pt4)\n",
    "print(_p)"
   ]
  },
  {
   "cell_type": "code",
   "execution_count": 9,
   "metadata": {},
   "outputs": [],
   "source": [
    "# im_pre1 = np.matmul(p,img_p)\n",
    "# print(im_pre1)\n",
    "# im_pre2 = np.matmul(p_,img_p)\n",
    "# # im_pre2 = im_pre2/im_pre2\n",
    "# im_pre2.shape\n",
    "# im_pre2.T/im_pre2.T[:,2:3]"
   ]
  },
  {
   "cell_type": "code",
   "execution_count": 10,
   "metadata": {},
   "outputs": [
    {
     "name": "stdout",
     "output_type": "stream",
     "text": [
      "camera_calibration_matrix [[-8.23117244e+03  7.89362395e+03 -4.03944076e+04]\n",
      " [-0.00000000e+00  5.82300214e+04  1.15225601e+04]\n",
      " [-0.00000000e+00 -0.00000000e+00  1.00000000e+00]]\n",
      "rotation_matrix [[ 0.19762446  0.69319872  0.69312345]\n",
      " [-0.19003129 -0.66656449  0.7208189 ]\n",
      " [ 0.96168221 -0.27416659  0.        ]]\n",
      "translation_matrix [-0.0373111  -0.00143461  0.00730296]\n"
     ]
    }
   ],
   "source": [
    "a,b,c = RQ_decomposition(_p)\n",
    "print(\"camera_calibration_matrix\",a)\n",
    "print(\"rotation_matrix\",b)\n",
    "print(\"translation_matrix\",c)"
   ]
  },
  {
   "cell_type": "code",
   "execution_count": 11,
   "metadata": {},
   "outputs": [],
   "source": [
    "objpoints = [] \n",
    "imgpoints = []\n",
    "\n",
    "imgpoints.append(corners)\n",
    "objpoints.append(obj_p)\n",
    "\n",
    "img = cv2.imread(\"./a.png\")\n",
    "gray = cv2.cvtColor(img,cv2.COLOR_BGR2GRAY)\n",
    "\n",
    "ret, mtx, dist, rvecs, tvecs = cv2.calibrateCamera(objpoints, imgpoints, gray.shape[::-1],None,None)"
   ]
  },
  {
   "cell_type": "code",
   "execution_count": 12,
   "metadata": {},
   "outputs": [
    {
     "name": "stdout",
     "output_type": "stream",
     "text": [
      "rotation_matrix [[ 0.9992851   0.0046721   0.0375162 ]\n",
      " [-0.0048877   0.99997205  0.0056571 ]\n",
      " [-0.03748872 -0.00583643  0.99928001]]\n",
      "cv_homography [[ 1.47061831e+03  5.00427285e+00  3.86029246e+02]\n",
      " [-1.55321977e+01  1.47667863e+03  2.29818046e+02]\n",
      " [-3.74887196e-02 -5.83642681e-03  9.99280007e-01]]\n"
     ]
    }
   ],
   "source": [
    "rx = [[1,0,0],[0,math.cos(rvecs[0][0]),math.sin(rvecs[0][0])],[0,(-1)*math.sin(rvecs[0][0]),math.cos(rvecs[0][0])]]\n",
    "\n",
    "ry = [[math.cos(rvecs[0][1]),0,math.sin(rvecs[0][1])],[0,1,0],[(-1)*math.sin(rvecs[0][1]),0,math.cos(rvecs[0][1])]]\n",
    "\n",
    "rz = [[math.cos(rvecs[0][2]),math.sin(rvecs[0][2]),0],[(-1)*math.sin(rvecs[0][2]),math.cos(rvecs[0][2]),0],[0,0,1]]\n",
    "\n",
    "R1 = np.matmul(rx,ry)\n",
    "R = np.matmul(R1,rz)\n",
    "print(\"rotation_matrix\",R)\n",
    "\n",
    "cv_homography = np.matmul(mtx,R)\n",
    "print(\"cv_homography\",cv_homography)"
   ]
  },
  {
   "cell_type": "code",
   "execution_count": null,
   "metadata": {},
   "outputs": [],
   "source": []
  },
  {
   "cell_type": "markdown",
   "metadata": {},
   "source": [
    "## Direct linear transform \n",
    "### Pre-conditioning"
   ]
  },
  {
   "cell_type": "code",
   "execution_count": 26,
   "metadata": {},
   "outputs": [
    {
     "name": "stdout",
     "output_type": "stream",
     "text": [
      "get_normalization_matrix took : 0.0 seconds.\n",
      "get_normalization_matrix took : 0.0 seconds.\n"
     ]
    }
   ],
   "source": [
    "obj_gnm = get_normalisation_matrix(obj_pt3)\n",
    "obj_normalized = np.matmul(obj_gnm,obj_p3)\n",
    "\n",
    "img_gnm = get_normalisation_matrix(img_pt)\n",
    "img_normalized = np.matmul(obj_gnm,img_p)"
   ]
  },
  {
   "cell_type": "code",
   "execution_count": 27,
   "metadata": {
    "scrolled": true
   },
   "outputs": [],
   "source": [
    "# obj_normalized[:,:5]"
   ]
  },
  {
   "cell_type": "code",
   "execution_count": 28,
   "metadata": {},
   "outputs": [],
   "source": [
    "obj_adj = np.zeros((3,315))\n",
    "obj_adj[:2,:] = obj_normalized[:2,:]\n",
    "obj_adjusted = np.ones((4,315))\n",
    "obj_adjusted[:3,:] = obj_adj[:3,:]\n",
    "# obj_adjusted"
   ]
  },
  {
   "cell_type": "code",
   "execution_count": 46,
   "metadata": {},
   "outputs": [],
   "source": [
    "# output = 3x3 projection_matrix, input image shape=(num_points,2); obj shape=(num_points,3) \n",
    "def denorm_projection_matrix3(img_p, obj_p):\n",
    "    \n",
    "    C = []\n",
    "\n",
    "    for i in range(315):\n",
    "        C.append(np.array([obj_p[i,0], obj_p[i,1],1,0,0,0, (-1)*obj_p[i,0]*img_p[i,0], \n",
    "                           (-1)*obj_p[i,1]*img_p[i,0], (-1)*img_p[i,0]]))\n",
    "        C.append(np.array([0,0,0, obj_p[i,0], obj_p[i,1],1, \n",
    "                           (-1)*obj_p[i,0]*img_p[i,1], (-1)*obj_p[i,1]*img_p[i,1],(-1)*img_p[i,1]]))\n",
    "    \n",
    "    c = np.array(C)\n",
    "    ctc = np.matmul(c.T,c)\n",
    "    u, s, vh = np.linalg.svd(ctc, full_matrices=True)\n",
    "    L = vh[-1]\n",
    "    H = L.reshape(3, 3)\n",
    "    H = H/H[-1,-1]\n",
    "    \n",
    "    denormalised = np.dot(np.dot(np.linalg.inv(obj_gnm),H),img_gnm)\n",
    "    \n",
    "    denormalised = denormalised/denormalised[-1,-1]\n",
    "    \n",
    "    return denormalised"
   ]
  },
  {
   "cell_type": "code",
   "execution_count": 95,
   "metadata": {},
   "outputs": [
    {
     "data": {
      "text/plain": [
       "matrix([[ 2.34109794e+00, -5.62798291e-03, -4.63748428e+02],\n",
       "        [-1.01661272e-03,  2.16804170e+00, -2.93384919e+02],\n",
       "        [-5.41780989e-05,  1.40396037e-05,  1.00000000e+00]])"
      ]
     },
     "execution_count": 95,
     "metadata": {},
     "output_type": "execute_result"
    }
   ],
   "source": [
    "eh = denorm_projection_matrix3(img_normalized.T, obj_adjusted.T)\n",
    "eh"
   ]
  },
  {
   "cell_type": "code",
   "execution_count": 97,
   "metadata": {},
   "outputs": [],
   "source": [
    "pre_img = np.matmul(eh, obj_p3)\n",
    "# pre_img[:,:5]\n",
    "# img_p[:5,:]"
   ]
  },
  {
   "cell_type": "code",
   "execution_count": 99,
   "metadata": {},
   "outputs": [],
   "source": [
    "# obj_p3"
   ]
  },
  {
   "cell_type": "code",
   "execution_count": 111,
   "metadata": {},
   "outputs": [
    {
     "data": {
      "text/plain": [
       "4"
      ]
     },
     "execution_count": 111,
     "metadata": {},
     "output_type": "execute_result"
    }
   ],
   "source": [
    "# print(eh)\n",
    "# eh[1,2]\n",
    "len(obj_p.T)"
   ]
  },
  {
   "cell_type": "code",
   "execution_count": 117,
   "metadata": {},
   "outputs": [],
   "source": [
    "def cost(homography, sensed):\n",
    "#     [sensed, real] = data\n",
    "    \n",
    "    aX = []\n",
    "    aY = []\n",
    "\n",
    "    for i in range(len(sensed)):\n",
    "        x = sensed[i][0]\n",
    "        y = sensed[i][1]\n",
    "\n",
    "        w = homography[2,0] * x + homography[2,1] * y + homography[2,2]\n",
    "\n",
    "        M = np.array([\n",
    "            [homography[0,0], homography[0,1], homography[0,2]],\n",
    "            [homography[1,0], homography[1,1], homography[1,2]]\n",
    "        ])\n",
    "\n",
    "        homog = np.transpose(np.array([x, y, 1]))\n",
    "        [u, v] = (1/w) * np.dot(M, homog)\n",
    "\n",
    "        aX.append(u)\n",
    "        aY.append(v)\n",
    "\n",
    "    return np.array(aX), np.array(aY)"
   ]
  },
  {
   "cell_type": "code",
   "execution_count": 122,
   "metadata": {},
   "outputs": [
    {
     "data": {
      "text/plain": [
       "array([-324.32732853, -324.36558491, -324.40384982, -324.44212326,\n",
       "       -324.48040524])"
      ]
     },
     "execution_count": 122,
     "metadata": {},
     "output_type": "execute_result"
    }
   ],
   "source": [
    "X,Y = cost(estimated_homography,obj_p)\n",
    "# X[:5]\n",
    "# Y[:5]"
   ]
  },
  {
   "cell_type": "code",
   "execution_count": null,
   "metadata": {},
   "outputs": [],
   "source": []
  },
  {
   "cell_type": "code",
   "execution_count": null,
   "metadata": {},
   "outputs": [],
   "source": []
  },
  {
   "cell_type": "code",
   "execution_count": null,
   "metadata": {},
   "outputs": [],
   "source": []
  },
  {
   "cell_type": "code",
   "execution_count": null,
   "metadata": {},
   "outputs": [],
   "source": []
  },
  {
   "cell_type": "code",
   "execution_count": null,
   "metadata": {},
   "outputs": [],
   "source": []
  },
  {
   "cell_type": "code",
   "execution_count": null,
   "metadata": {},
   "outputs": [],
   "source": []
  },
  {
   "cell_type": "code",
   "execution_count": null,
   "metadata": {},
   "outputs": [],
   "source": []
  },
  {
   "cell_type": "code",
   "execution_count": null,
   "metadata": {},
   "outputs": [],
   "source": []
  },
  {
   "cell_type": "code",
   "execution_count": null,
   "metadata": {},
   "outputs": [],
   "source": []
  },
  {
   "cell_type": "code",
   "execution_count": null,
   "metadata": {},
   "outputs": [],
   "source": []
  },
  {
   "cell_type": "code",
   "execution_count": null,
   "metadata": {},
   "outputs": [],
   "source": [
    "def cost(homography, data):\n",
    "    [sensed, real] = data\n",
    "\n",
    "    Y = []\n",
    "\n",
    "    for i in range(0, sensed.size / 2):\n",
    "        x = sensed[i][0]\n",
    "        y = sensed[i][1]\n",
    "\n",
    "        w = homography[6] * x + homography[7] * y + homography[8]\n",
    "\n",
    "        M = np.array([\n",
    "            [homography[0], homography[1], homography[2]],\n",
    "            [homography[3], homography[4], homography[5]]\n",
    "        ])\n",
    "\n",
    "        homog = np.transpose(np.array([x, y, 1]))\n",
    "        [u, v] = (1/w) * np.dot(M, homog)\n",
    "\n",
    "        Y.append(u)\n",
    "        Y.append(v)\n",
    "\n",
    "    return np.array(Y)\n",
    "\n",
    "\n",
    "def jac(homography, data):\n",
    "    [sensed, real] = data\n",
    "\n",
    "    J = []\n",
    "\n",
    "    for i in range(0, sensed.size / 2):\n",
    "        x = sensed[i][0]\n",
    "        y = sensed[i][1]\n",
    "\n",
    "        s_x = homography[0] * x + homography[1] * y + homography[2]\n",
    "        s_y = homography[3] * x + homography[4] * y + homography[5]\n",
    "        w = homography[6] * x + homography[7] * y + homography[8]\n",
    "\n",
    "        J.append(\n",
    "            np.array([\n",
    "                x / w, y / w, 1/w,\n",
    "                0, 0, 0,\n",
    "                (-s_x * x) / (w*w), (-s_x * y) / (w*w), -s_x / (w*w)\n",
    "            ])\n",
    "        )\n",
    "\n",
    "        J.append(\n",
    "            np.array([\n",
    "                0, 0, 0,\n",
    "                x / w, y / w, 1 / w,\n",
    "                (-s_y * x) / (w*w), (-s_y * y) / (w*w), -s_y / (w*w)\n",
    "            ])\n",
    "        )\n",
    "\n",
    "    return np.array(J)\n",
    "\n",
    "\n",
    "def refine_homography(homography, sensed, real):\n",
    "    return opt.root(\n",
    "        cost,\n",
    "        homography,\n",
    "        jac=jac,\n",
    "        args=[sensed, real],\n",
    "        method='lm'\n",
    "    ).x"
   ]
  },
  {
   "cell_type": "code",
   "execution_count": 17,
   "metadata": {},
   "outputs": [],
   "source": [
    "# real = [[1,1],[2,3],[4,5]]\n",
    "# real = np.array(real)\n",
    "# sensed = [[100,200],[200,360],[400,600]]\n",
    "# sensed = np.array(sensed)"
   ]
  },
  {
   "cell_type": "code",
   "execution_count": 18,
   "metadata": {},
   "outputs": [],
   "source": [
    "def get_normalisation_matrix(flattened_corners):\n",
    "#     end = timer()\n",
    "\n",
    "    avg_x = flattened_corners[:, 0].mean()\n",
    "    avg_y = flattened_corners[:, 1].mean()\n",
    "\n",
    "    s_x = np.sqrt(2 / flattened_corners[:,0].std())\n",
    "    s_y = np.sqrt(2 / flattened_corners[:,1].std())\n",
    "\n",
    "#     end(\"get_normalization_matrix\")\n",
    "    return np.matrix([\n",
    "        [s_x,   0,   -s_x * avg_x],\n",
    "        [0,   s_y,   -s_y * avg_y],\n",
    "        [0,     0,              1]\n",
    "    ])"
   ]
  },
  {
   "cell_type": "code",
   "execution_count": 19,
   "metadata": {},
   "outputs": [],
   "source": [
    "# first and second are real and sensed co-ordinates\n",
    "def estimate_homography(first, second):\n",
    "    end = timer()\n",
    "\n",
    "    first_normalisation_matrix = get_normalisation_matrix(first)\n",
    "    second_normalisation_matrix = get_normalisation_matrix(second)\n",
    "\n",
    "    M = []\n",
    "\n",
    "    for j in range(0, first.size):\n",
    "        homogeneous_first = np.array([\n",
    "            first[j][0],\n",
    "            first[j][1],\n",
    "            1\n",
    "        ])\n",
    "\n",
    "        homogeneous_second = np.array([\n",
    "            second[j][0],\n",
    "            second[j][1],\n",
    "            1\n",
    "        ])\n",
    "\n",
    "        pr_1 = np.dot(first_normalisation_matrix, homogeneous_first)\n",
    "\n",
    "        pr_2 = np.dot(second_normalisation_matrix, homogeneous_second)\n",
    "\n",
    "        M.append(np.array([\n",
    "            pr_1.item(0), pr_1.item(1), 1,\n",
    "            0, 0, 0,\n",
    "            -pr_1.item(0)*pr_2.item(0), -pr_1.item(1)*pr_2.item(0), -pr_2.item(0)\n",
    "        ]))\n",
    "\n",
    "        M.append(np.array([\n",
    "            0, 0, 0, pr_1.item(0), pr_1.item(1),\n",
    "            1, -pr_1.item(0)*pr_2.item(1), -pr_1.item(1)*pr_2.item(1), -pr_2.item(1)\n",
    "        ]))\n",
    "\n",
    "    U, S, Vh = np.linalg.svd(np.array(M).reshape((512, 9)))\n",
    "\n",
    "    L = Vh[-1]\n",
    "\n",
    "    H = L.reshape(3, 3)\n",
    "\n",
    "    denormalised = np.dot(\n",
    "        np.dot(\n",
    "            np.linalg.inv(first_normalisation_matrix),\n",
    "            H\n",
    "        ),\n",
    "        second_normalisation_matrix\n",
    "    )\n",
    "\n",
    "    end(\"estimate_homography\")\n",
    "    return denormalised / denormalised[-1, -1]\n"
   ]
  },
  {
   "cell_type": "code",
   "execution_count": 20,
   "metadata": {},
   "outputs": [],
   "source": [
    "def compute_homography(real, sensed):\n",
    "    end = timer()\n",
    "\n",
    "    real = data['real']\n",
    "\n",
    "    refined_homographies = []\n",
    "\n",
    "    for i in range(0, len(data['sensed'])):\n",
    "        sensed = data['sensed'][i]\n",
    "        estimated = estimate_homography(real, sensed)\n",
    "#         end = timer()\n",
    "#         refined = refine_homography(estimated, sensed, real)\n",
    "#         refined = refined / refined[-1]\n",
    "#         end(\"refine_homography\")\n",
    "#         refined_homographies.append(estimated)\n",
    "\n",
    "#     end(\"compute_homography\")\n",
    "#     return np.array(refined_homographies)\n",
    "    return 0"
   ]
  },
  {
   "cell_type": "code",
   "execution_count": 21,
   "metadata": {},
   "outputs": [],
   "source": [
    "from steps.parser import parse_data\n",
    "from steps.dlt import compute_homography\n",
    "from steps.intrinsics import get_camera_intrinsics\n",
    "from steps.extrinsics import get_camera_extrinsics\n",
    "from steps.distortion import estimate_lens_distortion\n",
    "from utils.timer import timer\n",
    "\n",
    "\n",
    "def calibrate():\n",
    "    data = parse_data()\n",
    "\n",
    "    end = timer()\n",
    "    homographies = compute_homography(data)\n",
    "    end(\"Homography Estimation\")\n",
    "    print(\"homographies\")\n",
    "    print(homographies)\n",
    "\n",
    "    end = timer()\n",
    "    intrinsics = get_camera_intrinsics(homographies)\n",
    "    end(\"Intrinsics\")\n",
    "\n",
    "    print(\"intrinsics\")\n",
    "    print(intrinsics)\n",
    "\n",
    "    end = timer()\n",
    "    extrinsics = get_camera_extrinsics(intrinsics, homographies)\n",
    "    end(\"Extrinsics\")\n",
    "\n",
    "    print(\"extrinsics\")\n",
    "    print(extrinsics)\n",
    "\n",
    "    end = timer()\n",
    "    distortion = estimate_lens_distortion(\n",
    "        intrinsics,\n",
    "        extrinsics,\n",
    "        data[\"real\"],\n",
    "        data[\"sensed\"]\n",
    "    )\n",
    "    end(\"Distortion\")\n",
    "\n",
    "    return 0\n",
    "\n",
    "# calibrate()"
   ]
  },
  {
   "cell_type": "code",
   "execution_count": 22,
   "metadata": {},
   "outputs": [
    {
     "data": {
      "text/plain": [
       "2"
      ]
     },
     "execution_count": 22,
     "metadata": {},
     "output_type": "execute_result"
    }
   ],
   "source": [
    "data = parse_data()\n",
    "data[\"real\"].shape\n",
    "len(data[\"sensed\"][0][0])"
   ]
  },
  {
   "cell_type": "code",
   "execution_count": 23,
   "metadata": {},
   "outputs": [],
   "source": [
    "def parse_data(basepath=\"data/corners_\", ext=\".dat\"):\n",
    "\n",
    "    sensed = []\n",
    "    for i in range(1, 6):\n",
    "        sensed.append(np.loadtxt(basepath + str(i) + ext).reshape((256, 2)))\n",
    "\n",
    "    return {\n",
    "        'real': np.loadtxt(basepath + \"real\" + ext).reshape((256, 2)),\n",
    "        'sensed': sensed\n",
    "    }"
   ]
  },
  {
   "cell_type": "code",
   "execution_count": 24,
   "metadata": {},
   "outputs": [],
   "source": [
    "def compute_homography(data):\n",
    "    end = timer()\n",
    "\n",
    "    real = data['real']\n",
    "\n",
    "    refined_homographies = []\n",
    "\n",
    "    for i in range(0, len(data['sensed'])):\n",
    "        sensed = data['sensed'][i]\n",
    "        estimated = estimate_homography(real, sensed)\n",
    "        end = timer()\n",
    "        refined = refine_homography(estimated, sensed, real)\n",
    "        refined = refined / refined[-1]\n",
    "        end(\"refine_homography\")\n",
    "        refined_homographies.append(estimated)\n",
    "\n",
    "    end(\"compute_homography\")\n",
    "    return np.array(refined_homographies)"
   ]
  },
  {
   "cell_type": "code",
   "execution_count": 25,
   "metadata": {},
   "outputs": [],
   "source": [
    "import numpy as np\n",
    "from scipy import optimize as opt\n",
    "from utils.timer import timer\n",
    "\n",
    "\n",
    "def get_normalisation_matrix(flattened_corners):\n",
    "    end = timer()\n",
    "\n",
    "    avg_x = flattened_corners[:, 0].mean()\n",
    "    avg_y = flattened_corners[:, 1].mean()\n",
    "\n",
    "    s_x = np.sqrt(2 / flattened_corners[0].std())\n",
    "    s_y = np.sqrt(2 / flattened_corners[1].std())\n",
    "\n",
    "    end(\"get_normalization_matrix\")\n",
    "    return np.matrix([\n",
    "        [s_x,   0,   -s_x * avg_x],\n",
    "        [0,   s_y,   -s_y * avg_y],\n",
    "        [0,     0,              1]\n",
    "    ])\n",
    "\n",
    "\n",
    "def estimate_homography(first, second):\n",
    "    end = timer()\n",
    "\n",
    "    first_normalisation_matrix = get_normalisation_matrix(first)\n",
    "    second_normalisation_matrix = get_normalisation_matrix(second)\n",
    "\n",
    "    M = []\n",
    "\n",
    "    for j in range(0, int(first.size / 2)):\n",
    "        homogeneous_first = np.array([\n",
    "            first[j][0],\n",
    "            first[j][1],\n",
    "            1\n",
    "        ])\n",
    "\n",
    "        homogeneous_second = np.array([\n",
    "            second[j][0],\n",
    "            second[j][1],\n",
    "            1\n",
    "        ])\n",
    "\n",
    "        pr_1 = np.dot(first_normalisation_matrix, homogeneous_first)\n",
    "\n",
    "        pr_2 = np.dot(second_normalisation_matrix, homogeneous_second)\n",
    "\n",
    "        M.append(np.array([\n",
    "            pr_1.item(0), pr_1.item(1), 1,\n",
    "            0, 0, 0,\n",
    "            -pr_1.item(0)*pr_2.item(0), -pr_1.item(1)*pr_2.item(0), -pr_2.item(0)\n",
    "        ]))\n",
    "\n",
    "        M.append(np.array([\n",
    "            0, 0, 0, pr_1.item(0), pr_1.item(1),\n",
    "            1, -pr_1.item(0)*pr_2.item(1), -pr_1.item(1)*pr_2.item(1), -pr_2.item(1)\n",
    "        ]))\n",
    "\n",
    "    U, S, Vh = np.linalg.svd(np.array(M).reshape((512, 9)))\n",
    "\n",
    "    L = Vh[-1]\n",
    "\n",
    "    H = L.reshape(3, 3)\n",
    "\n",
    "    denormalised = np.dot(\n",
    "        np.dot(\n",
    "            np.linalg.inv(first_normalisation_matrix),\n",
    "            H\n",
    "        ),\n",
    "        second_normalisation_matrix\n",
    "    )\n",
    "\n",
    "    end(\"estimate_homography\")\n",
    "    return denormalised / denormalised[-1, -1]\n",
    "\n",
    "\n",
    "def cost(homography, data):\n",
    "    [sensed, real] = data\n",
    "\n",
    "    Y = []\n",
    "\n",
    "    for i in range(0, sensed.size / 2):\n",
    "        x = sensed[i][0]\n",
    "        y = sensed[i][1]\n",
    "\n",
    "        w = homography[6] * x + homography[7] * y + homography[8]\n",
    "\n",
    "        M = np.array([\n",
    "            [homography[0], homography[1], homography[2]],\n",
    "            [homography[3], homography[4], homography[5]]\n",
    "        ])\n",
    "\n",
    "        homog = np.transpose(np.array([x, y, 1]))\n",
    "        [u, v] = (1/w) * np.dot(M, homog)\n",
    "\n",
    "        Y.append(u)\n",
    "        Y.append(v)\n",
    "\n",
    "    return np.array(Y)\n",
    "\n",
    "\n",
    "def jac(homography, data):\n",
    "    [sensed, real] = data\n",
    "\n",
    "    J = []\n",
    "\n",
    "    for i in range(0, sensed.size / 2):\n",
    "        x = sensed[i][0]\n",
    "        y = sensed[i][1]\n",
    "\n",
    "        s_x = homography[0] * x + homography[1] * y + homography[2]\n",
    "        s_y = homography[3] * x + homography[4] * y + homography[5]\n",
    "        w = homography[6] * x + homography[7] * y + homography[8]\n",
    "\n",
    "        J.append(\n",
    "            np.array([\n",
    "                x / w, y / w, 1/w,\n",
    "                0, 0, 0,\n",
    "                (-s_x * x) / (w*w), (-s_x * y) / (w*w), -s_x / (w*w)\n",
    "            ])\n",
    "        )\n",
    "\n",
    "        J.append(\n",
    "            np.array([\n",
    "                0, 0, 0,\n",
    "                x / w, y / w, 1 / w,\n",
    "                (-s_y * x) / (w*w), (-s_y * y) / (w*w), -s_y / (w*w)\n",
    "            ])\n",
    "        )\n",
    "\n",
    "    return np.array(J)\n",
    "\n",
    "\n",
    "def refine_homography(homography, sensed, real):\n",
    "    return opt.root(\n",
    "        cost,\n",
    "        homography,\n",
    "        jac=jac,\n",
    "        args=[sensed, real],\n",
    "        method='lm'\n",
    "    ).x\n"
   ]
  },
  {
   "cell_type": "code",
   "execution_count": null,
   "metadata": {},
   "outputs": [],
   "source": []
  },
  {
   "cell_type": "code",
   "execution_count": null,
   "metadata": {},
   "outputs": [],
   "source": []
  },
  {
   "cell_type": "code",
   "execution_count": null,
   "metadata": {},
   "outputs": [],
   "source": []
  },
  {
   "cell_type": "code",
   "execution_count": null,
   "metadata": {},
   "outputs": [],
   "source": []
  },
  {
   "cell_type": "code",
   "execution_count": null,
   "metadata": {},
   "outputs": [],
   "source": []
  }
 ],
 "metadata": {
  "kernelspec": {
   "display_name": "Python 3",
   "language": "python",
   "name": "python3"
  },
  "language_info": {
   "codemirror_mode": {
    "name": "ipython",
    "version": 3
   },
   "file_extension": ".py",
   "mimetype": "text/x-python",
   "name": "python",
   "nbconvert_exporter": "python",
   "pygments_lexer": "ipython3",
   "version": "3.6.8"
  }
 },
 "nbformat": 4,
 "nbformat_minor": 2
}
